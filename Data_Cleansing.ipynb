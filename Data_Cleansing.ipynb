{
 "cells": [
  {
   "cell_type": "markdown",
   "metadata": {},
   "source": [
    "# FIT5196 Task in Assessment 2\n",
    "#### Student Name: Gayatri Aniruddha \n",
    "#### Student ID: 30945305\n",
    "\n",
    "Date: 18/10/2020\n",
    "\n",
    "Version: 1.0\n",
    "\n",
    "Environment: Python 2.7.11 and Jupyter notebook\n",
    "\n",
    "Libraries used: please include the main libraries you used in your assignment here, e.g.,:\n",
    "* **pandas**   : For loading and storing the data in a Panda DataFrame.\n",
    "* **nltk**     : For sentiment analysis\n",
    "* **numpy**    : For mathematical and matrix operations \n",
    "* **math**     : For calculating the geographical distances using math formulae\n",
    "* **datetime** : For changing the date formats \n",
    "* **matplotlib.pyplot** : To plot the boxplots in order to view the outliers\n",
    "* **LinearRegression** : To create linear models while predicting the delivery charges"
   ]
  },
  {
   "cell_type": "markdown",
   "metadata": {},
   "source": [
    "# Table of Contents\n",
    "\n",
    "* [1. Introduction](#sec_1)\n",
    "* [2. Methodology](#sec_2)\n",
    "    * [2.1. Task 1 : Cleaning the Dirty Data](#sec_21)\n",
    "        * [2.1.1 Exploratory Data Analysis : Date Values](#sec_211)\n",
    "        * [2.1.2 Exploratory Data Analysis : Season Analysis](#sec_212)\n",
    "        * [2.1.3 Exploratory Data Analysis : Shopping Cart](#sec_213)\n",
    "        * [2.1.4 Exploratory Data Analysis : Order Price](#sec_214)\n",
    "        * [2.1.5 Exploratory Data Analysis : Order Total](#sec_215)\n",
    "        * [2.1.6 Exploratory Data Analysis : Customer locations](#sec_216)\n",
    "        * [2.1.7 Exploratory Data Analysis : Warehouse Names and locations](#sec_217)\n",
    "        * [2.1.8 Exploratory Data Analysis : Sentiment Analysis](#sec_218)\n",
    "    * [2.2. Task 2 : Handling Missing Values](#sec_22)\n",
    "        * [2.2.1 Missing Values : 1) Nearest Warehouse Names](#sec_221)\n",
    "        * [2.2.2 Missing Values : 2) Distance to the Nearest](#sec_222)\n",
    "        * [2.2.3 Missing Values : 3) Customer Happiness](#sec_223)\n",
    "        * [2.2.4 Missing Values : 4) Order Price](#sec_224)\n",
    "        * [2.2.5 Missing Values : 5) Delivery Charges](#sec_225)\n",
    "        * [2.2.6 Missing Values : 6) Order Total](#sec_226)\n",
    "    * [2.3. Task 3 : Removing Outlier rows](#sec_23)\n",
    "        * [2.3.1 Outlier Detection Approach 1 : Using Boxplots](#sec_31)\n",
    "        * [2.3.2 Outlier Detection Approach 2 : Using Quantiles](#sec_32)\n",
    "        * [2.3.3 Outlier Detection Approach 3 : Fitting a Linear Model](#sec_33)\n",
    "* [3. Dicussion and Analysis](#sec_3)\n",
    "* [4. Conclusion](#sec_4)\n",
    "* [5. References](#sec_5)"
   ]
  },
  {
   "cell_type": "markdown",
   "metadata": {},
   "source": [
    "# 1. Introduction <a class=\"anchor\" id=\"sec_1\"></a>\n",
    "\n",
    "* We have been given with three files. The files contain:\n",
    "    * Dirty data\n",
    "    * Outlier data\n",
    "    * Missing data\n",
    "* This dataset contains the orders placed for an online electronics store in Melbourne.\n",
    "* The dataset has around 500 rows and 16 columns. \n",
    "* Every row in the dataset represents a single order that was made from the store.\n",
    "* The different details that are made available to us are as follows:\n",
    "    * order_id  and customer_id\n",
    "    * customer locations \n",
    "    * date of the order\n",
    "    * season of the order \n",
    "    * warehouse located nearby\n",
    "    * warehouse geographical locations\n",
    "    * distance to the closest warehouse\n",
    "    * items purchased, discounts offered, delivery charges\n",
    "    * customer reviews and customer happiness index\n",
    "* I have subdivided the question requirements into 3 sub-tasks as follows:\n",
    "    * **Task 1** : Cleaning the dirty data\n",
    "    * **Task 2** : Impute missing values in the missing data \n",
    "    * **Task 3** : Remove outlier rows in the outlier data"
   ]
  },
  {
   "cell_type": "markdown",
   "metadata": {},
   "source": [
    "# 2. Methodology <a class=\"anchor\" id=\"sec_2\"></a>\n",
    "* This includes all the data preparation steps."
   ]
  },
  {
   "cell_type": "markdown",
   "metadata": {},
   "source": [
    "## 2.1. Task 1 : Cleaning the Dirty Data <a class=\"anchor\" id=\"sec_21\"></a>\n",
    "* In general, there are a lot of iterations which are performed while doing data-cleaning. We first identify the anomalies while performing data cleaning. These anomalies decrease the quality of the data. Here, we apply many statistical tests. \n",
    "* There are 3 main types of data anomalies that I have discovered while cleaning my dataset:\n",
    "    * Syntatic \n",
    "    * Semantic \n",
    "    * Coverage \n",
    "        \n",
    "* Here, this task revolves around detecting and fixing the errors in the dirty dataset.\n",
    "* I have followed the following steps in order to clean the data.\n",
    "\n",
    "**STEPS FOLLOWED:** \n",
    "\n",
    "* I have first loaded the dirty data into a dataframe.\n",
    "* I have then examined the structure and shape of the dataframe.\n",
    "* Syntactic Anomalies: I have then identified certain inconsistencies in the spellings of the warehouse names and season names and corrected the same.\n",
    "* After the basic exploration of the dataset and correction of lexical anomalies, I have explored each column of the dirty data. \n",
    "* As per the document specification, the following columns have no errors:\n",
    "    * delivery_charges\n",
    "    * coupon_discount\n",
    "* After examination, I found that the following columns did not have any errors:\n",
    "    * order_id\n",
    "    * customer_id\n",
    "    * shopping_cart \n",
    "    * is_expedited_delivery \n",
    "    * latest_customer_review\n",
    "* I have identified the following mistakes and made the required corrections in every column as follows:\n",
    "* **Date:**\n",
    "    * Syntactic Anomaly\n",
    "    * Total corrected rows: 39 \n",
    "    * All the dates have been converted to \"YYYY-MM-DD\" format as per the assignment specification.\n",
    "    * After checking, I confirmed that there are no wrong values of days and months entered.\n",
    "* **Season:**\n",
    "    * Semantic Anomaly \n",
    "    * Total corrected rows: 22\n",
    "    * The month corresponding to every season has been provided in the assignment specification. \n",
    "    * Certain months had incorrectly marked seasons and I have made the necessary corrections.\n",
    "* **Shopping Cart:**\n",
    "    * Semantic Anomaly\n",
    "    * Here, I eaxmined and created a set of all the unique items ordered.\n",
    "    * This came out to be a set of ten unique items. \n",
    "    * Hence, there were no errors in this column and it was verfied that the retail store focuses on only 10 branded items.\n",
    "* **Order Price:**\n",
    "    * Semantic Anomaly\n",
    "    * Total corrected rows: 54 \n",
    "    * Here, I used the linear algebra method in order to compute the prices for the individual items. \n",
    "    * This was then used to calculate the order price for every order. \n",
    "    * Certain order prices that were wrongly calculated were corrected.\n",
    "* **Order Total:**\n",
    "    * Semantic Anomaly\n",
    "    * Total corrected rows: 54\n",
    "    * This is the total price of the order, after adding the discounts and taking into consideration the delivery charges. \n",
    "    * Certain incorrectly calculated order totals were corrected with the correctly calculated amounts.\n",
    "* **Customer Locations:**\n",
    "    * Syntactic Anomaly\n",
    "    * Total corrected rows: 27\n",
    "    * On examining certain customer locations, I discovered that some of the customer latitudes and longitudes were exchanged. These values were corrected.\n",
    "* **Nearest Warehouse:**\n",
    "    * Semantic Anomaly\n",
    "    * Total corrected rows: 22\n",
    "    * On calculating the distance to the nearest warehouse, I discovered that certain nearest warehouses were wrongly named.\n",
    "    * These warehouses were correctly named. \n",
    "* **Distance_to_nearest_warehouse:**\n",
    "    * Semantic Anomaly\n",
    "    * Total corrected rows: 43\n",
    "    * Here, I observed that the nearest warehouses were correctly named but the distance was incorrectly calculated.\n",
    "    * These incorrectly calculated distances to the nearest warehouses were calculated.\n",
    "* **Customer Reviews:**\n",
    "    * Semantic Anomaly\n",
    "    * Total corrected rows: 28\n",
    "    * Here, we use the sentiment analyzer to analyze the customer reviews in order to get the sentiment polarity.\n",
    "    * On examining, I noticed that certain customer happiness indexes were wrongly marked when compared to the polarity values."
   ]
  },
  {
   "cell_type": "markdown",
   "metadata": {},
   "source": [
    "### Importing Libraries\n",
    "* This section contains the code to import the libraries we need in this assessment. "
   ]
  },
  {
   "cell_type": "code",
   "execution_count": 1,
   "metadata": {},
   "outputs": [],
   "source": [
    "# Importing the required libraries\n",
    "\n",
    "# For storing and working with the files in a dataframe \n",
    "import pandas as pd\n",
    "\n",
    "# For Sentiment Analysis\n",
    "import nltk\n",
    "# For calculating the sentiment polarity values \n",
    "from nltk.sentiment.vader import SentimentIntensityAnalyzer\n",
    "\n",
    "# For mathemcatical and matrix operations  \n",
    "import numpy as np\n",
    "\n",
    "# For calculating the geographical distances using math formulae\n",
    "import math\n",
    "\n",
    "# For changing the date formats\n",
    "import datetime as dt\n",
    "\n",
    "# For plotting boxplots to detect outliers \n",
    "import matplotlib.pyplot as plt\n",
    "%matplotlib inline\n",
    "\n",
    "# For computing the delivery charges using a linear regression model \n",
    "from sklearn.linear_model import LinearRegression\n",
    "\n",
    "# For matrix evaluation \n",
    "from scipy import linalg"
   ]
  },
  {
   "cell_type": "markdown",
   "metadata": {},
   "source": [
    "### Loading the data using Pandas library \n",
    "\n",
    "* Here, the first thing we do is inspect the file and see the format of the file.\n",
    "* Here, the dirty data is stored in a csv file.\n",
    "* Hence, we use the read_csv() function "
   ]
  },
  {
   "cell_type": "code",
   "execution_count": 2,
   "metadata": {},
   "outputs": [],
   "source": [
    "# Loading the dirty data dataset \n",
    "my_dirty_data = pd.read_csv(\"30945305_dirty_data.csv\")"
   ]
  },
  {
   "cell_type": "code",
   "execution_count": 3,
   "metadata": {},
   "outputs": [],
   "source": [
    "# Loading the missing data dataset \n",
    "my_missing_data = pd.read_csv(\"30945305_missing_data.csv\")"
   ]
  },
  {
   "cell_type": "code",
   "execution_count": 4,
   "metadata": {},
   "outputs": [],
   "source": [
    "# Loading the outlier data dataset \n",
    "my_outlier_data = pd.read_csv(\"30945305_outlier_data.csv\")"
   ]
  },
  {
   "cell_type": "code",
   "execution_count": 5,
   "metadata": {},
   "outputs": [
    {
     "name": "stdout",
     "output_type": "stream",
     "text": [
      "(500, 16)\n"
     ]
    }
   ],
   "source": [
    "# Getting the number of rows and columns of the dataset\n",
    "print (my_dirty_data.shape)"
   ]
  },
  {
   "cell_type": "code",
   "execution_count": 6,
   "metadata": {},
   "outputs": [
    {
     "data": {
      "text/html": [
       "<div>\n",
       "<style scoped>\n",
       "    .dataframe tbody tr th:only-of-type {\n",
       "        vertical-align: middle;\n",
       "    }\n",
       "\n",
       "    .dataframe tbody tr th {\n",
       "        vertical-align: top;\n",
       "    }\n",
       "\n",
       "    .dataframe thead th {\n",
       "        text-align: right;\n",
       "    }\n",
       "</style>\n",
       "<table border=\"1\" class=\"dataframe\">\n",
       "  <thead>\n",
       "    <tr style=\"text-align: right;\">\n",
       "      <th></th>\n",
       "      <th>order_id</th>\n",
       "      <th>customer_id</th>\n",
       "      <th>date</th>\n",
       "      <th>nearest_warehouse</th>\n",
       "      <th>shopping_cart</th>\n",
       "      <th>order_price</th>\n",
       "      <th>delivery_charges</th>\n",
       "      <th>customer_lat</th>\n",
       "      <th>customer_long</th>\n",
       "      <th>coupon_discount</th>\n",
       "      <th>order_total</th>\n",
       "      <th>season</th>\n",
       "      <th>is_expedited_delivery</th>\n",
       "      <th>distance_to_nearest_warehouse</th>\n",
       "      <th>latest_customer_review</th>\n",
       "      <th>is_happy_customer</th>\n",
       "    </tr>\n",
       "  </thead>\n",
       "  <tbody>\n",
       "    <tr>\n",
       "      <th>0</th>\n",
       "      <td>ORD126872</td>\n",
       "      <td>ID0580179515</td>\n",
       "      <td>2019-12-18</td>\n",
       "      <td>Thompson</td>\n",
       "      <td>[('iAssist Line', 2), ('Toshika 750', 2), ('Ca...</td>\n",
       "      <td>20260</td>\n",
       "      <td>93.35</td>\n",
       "      <td>-37.795421</td>\n",
       "      <td>144.931133</td>\n",
       "      <td>15</td>\n",
       "      <td>17314.35</td>\n",
       "      <td>Summer</td>\n",
       "      <td>False</td>\n",
       "      <td>2.3775</td>\n",
       "      <td>try something else. i’ve had this phone for ex...</td>\n",
       "      <td>False</td>\n",
       "    </tr>\n",
       "    <tr>\n",
       "      <th>1</th>\n",
       "      <td>ORD181831</td>\n",
       "      <td>ID0576859255</td>\n",
       "      <td>2019-11-01</td>\n",
       "      <td>Bakers</td>\n",
       "      <td>[('Universe Note', 1), ('Toshika 750', 1)]</td>\n",
       "      <td>7770</td>\n",
       "      <td>94.88</td>\n",
       "      <td>-37.824575</td>\n",
       "      <td>144.988494</td>\n",
       "      <td>10</td>\n",
       "      <td>7400.65</td>\n",
       "      <td>Spring</td>\n",
       "      <td>True</td>\n",
       "      <td>1.7277</td>\n",
       "      <td>piece of crap. lasted two months! never again!...</td>\n",
       "      <td>False</td>\n",
       "    </tr>\n",
       "    <tr>\n",
       "      <th>2</th>\n",
       "      <td>ORD333389</td>\n",
       "      <td>ID0767584984</td>\n",
       "      <td>2019-12-06</td>\n",
       "      <td>Nickolson</td>\n",
       "      <td>[('iAssist Line', 1), ('Lucent 330S', 1), ('pe...</td>\n",
       "      <td>16225</td>\n",
       "      <td>96.84</td>\n",
       "      <td>-37.807330</td>\n",
       "      <td>144.972411</td>\n",
       "      <td>10</td>\n",
       "      <td>14699.34</td>\n",
       "      <td>Summer</td>\n",
       "      <td>True</td>\n",
       "      <td>1.2790</td>\n",
       "      <td>i rate it : b+ the only problem with this phon...</td>\n",
       "      <td>False</td>\n",
       "    </tr>\n",
       "    <tr>\n",
       "      <th>3</th>\n",
       "      <td>ORD370967</td>\n",
       "      <td>ID0309346901</td>\n",
       "      <td>2019-11-28</td>\n",
       "      <td>Bakers</td>\n",
       "      <td>[('Olivia x460', 2), ('Lucent 330S', 2), ('iAs...</td>\n",
       "      <td>19755</td>\n",
       "      <td>76.57</td>\n",
       "      <td>-37.813628</td>\n",
       "      <td>145.004762</td>\n",
       "      <td>10</td>\n",
       "      <td>17856.07</td>\n",
       "      <td>Spring</td>\n",
       "      <td>False</td>\n",
       "      <td>0.9305</td>\n",
       "      <td>bang for the buck! the phone is very snappy. i...</td>\n",
       "      <td>True</td>\n",
       "    </tr>\n",
       "    <tr>\n",
       "      <th>4</th>\n",
       "      <td>ORD052100</td>\n",
       "      <td>ID0363385474</td>\n",
       "      <td>2019-09-30</td>\n",
       "      <td>Thompson</td>\n",
       "      <td>[('Alcon 10', 1), ('Toshika 750', 2), ('pearTV...</td>\n",
       "      <td>23900</td>\n",
       "      <td>85.12</td>\n",
       "      <td>-37.799351</td>\n",
       "      <td>144.959494</td>\n",
       "      <td>0</td>\n",
       "      <td>23985.12</td>\n",
       "      <td>Spring</td>\n",
       "      <td>True</td>\n",
       "      <td>1.8421</td>\n",
       "      <td>we love them! durable i bought two of these, o...</td>\n",
       "      <td>True</td>\n",
       "    </tr>\n",
       "  </tbody>\n",
       "</table>\n",
       "</div>"
      ],
      "text/plain": [
       "    order_id   customer_id        date nearest_warehouse  \\\n",
       "0  ORD126872  ID0580179515  2019-12-18          Thompson   \n",
       "1  ORD181831  ID0576859255  2019-11-01            Bakers   \n",
       "2  ORD333389  ID0767584984  2019-12-06         Nickolson   \n",
       "3  ORD370967  ID0309346901  2019-11-28            Bakers   \n",
       "4  ORD052100  ID0363385474  2019-09-30          Thompson   \n",
       "\n",
       "                                       shopping_cart  order_price  \\\n",
       "0  [('iAssist Line', 2), ('Toshika 750', 2), ('Ca...        20260   \n",
       "1         [('Universe Note', 1), ('Toshika 750', 1)]         7770   \n",
       "2  [('iAssist Line', 1), ('Lucent 330S', 1), ('pe...        16225   \n",
       "3  [('Olivia x460', 2), ('Lucent 330S', 2), ('iAs...        19755   \n",
       "4  [('Alcon 10', 1), ('Toshika 750', 2), ('pearTV...        23900   \n",
       "\n",
       "   delivery_charges  customer_lat  customer_long  coupon_discount  \\\n",
       "0             93.35    -37.795421     144.931133               15   \n",
       "1             94.88    -37.824575     144.988494               10   \n",
       "2             96.84    -37.807330     144.972411               10   \n",
       "3             76.57    -37.813628     145.004762               10   \n",
       "4             85.12    -37.799351     144.959494                0   \n",
       "\n",
       "   order_total  season  is_expedited_delivery  distance_to_nearest_warehouse  \\\n",
       "0     17314.35  Summer                  False                         2.3775   \n",
       "1      7400.65  Spring                   True                         1.7277   \n",
       "2     14699.34  Summer                   True                         1.2790   \n",
       "3     17856.07  Spring                  False                         0.9305   \n",
       "4     23985.12  Spring                   True                         1.8421   \n",
       "\n",
       "                              latest_customer_review  is_happy_customer  \n",
       "0  try something else. i’ve had this phone for ex...              False  \n",
       "1  piece of crap. lasted two months! never again!...              False  \n",
       "2  i rate it : b+ the only problem with this phon...              False  \n",
       "3  bang for the buck! the phone is very snappy. i...               True  \n",
       "4  we love them! durable i bought two of these, o...               True  "
      ]
     },
     "execution_count": 6,
     "metadata": {},
     "output_type": "execute_result"
    }
   ],
   "source": [
    "# Displaying the top 5 elements of the dataset\n",
    "my_dirty_data.head(5)"
   ]
  },
  {
   "cell_type": "markdown",
   "metadata": {},
   "source": [
    "**Categorical Variables:**\n",
    "* season\n",
    "* is_expected_delivery\n",
    "* is_happy_customer"
   ]
  },
  {
   "cell_type": "code",
   "execution_count": 7,
   "metadata": {},
   "outputs": [
    {
     "data": {
      "text/html": [
       "<div>\n",
       "<style scoped>\n",
       "    .dataframe tbody tr th:only-of-type {\n",
       "        vertical-align: middle;\n",
       "    }\n",
       "\n",
       "    .dataframe tbody tr th {\n",
       "        vertical-align: top;\n",
       "    }\n",
       "\n",
       "    .dataframe thead th {\n",
       "        text-align: right;\n",
       "    }\n",
       "</style>\n",
       "<table border=\"1\" class=\"dataframe\">\n",
       "  <thead>\n",
       "    <tr style=\"text-align: right;\">\n",
       "      <th></th>\n",
       "      <th>order_id</th>\n",
       "      <th>customer_id</th>\n",
       "      <th>date</th>\n",
       "      <th>nearest_warehouse</th>\n",
       "      <th>shopping_cart</th>\n",
       "      <th>order_price</th>\n",
       "      <th>delivery_charges</th>\n",
       "      <th>customer_lat</th>\n",
       "      <th>customer_long</th>\n",
       "      <th>coupon_discount</th>\n",
       "      <th>order_total</th>\n",
       "      <th>season</th>\n",
       "      <th>is_expedited_delivery</th>\n",
       "      <th>distance_to_nearest_warehouse</th>\n",
       "      <th>latest_customer_review</th>\n",
       "      <th>is_happy_customer</th>\n",
       "    </tr>\n",
       "  </thead>\n",
       "  <tbody>\n",
       "    <tr>\n",
       "      <th>495</th>\n",
       "      <td>ORD047734</td>\n",
       "      <td>ID0367098724</td>\n",
       "      <td>2019-10-01</td>\n",
       "      <td>Thompson</td>\n",
       "      <td>[('pearTV', 1), ('Lucent 330S', 1), ('Candle I...</td>\n",
       "      <td>8400</td>\n",
       "      <td>70.46</td>\n",
       "      <td>-37.799207</td>\n",
       "      <td>144.961314</td>\n",
       "      <td>5</td>\n",
       "      <td>16155.99</td>\n",
       "      <td>Spring</td>\n",
       "      <td>False</td>\n",
       "      <td>1.9537</td>\n",
       "      <td>one star do not buy this piece of sh**. it wil...</td>\n",
       "      <td>False</td>\n",
       "    </tr>\n",
       "    <tr>\n",
       "      <th>496</th>\n",
       "      <td>ORD492400</td>\n",
       "      <td>ID2291073957</td>\n",
       "      <td>2019-06-28</td>\n",
       "      <td>Nickolson</td>\n",
       "      <td>[('Olivia x460', 1), ('Thunder line', 1), ('iS...</td>\n",
       "      <td>21305</td>\n",
       "      <td>77.69</td>\n",
       "      <td>-37.808172</td>\n",
       "      <td>144.968858</td>\n",
       "      <td>15</td>\n",
       "      <td>18186.94</td>\n",
       "      <td>Winter</td>\n",
       "      <td>True</td>\n",
       "      <td>1.1619</td>\n",
       "      <td>the best cell phone i've ever bought the best ...</td>\n",
       "      <td>True</td>\n",
       "    </tr>\n",
       "    <tr>\n",
       "      <th>497</th>\n",
       "      <td>ORD141503</td>\n",
       "      <td>ID1462398773</td>\n",
       "      <td>2019-11-02</td>\n",
       "      <td>Bakers</td>\n",
       "      <td>[('pearTV', 2), ('Olivia x460', 1), ('Thunder ...</td>\n",
       "      <td>19475</td>\n",
       "      <td>82.87</td>\n",
       "      <td>-37.819901</td>\n",
       "      <td>145.012208</td>\n",
       "      <td>25</td>\n",
       "      <td>14689.12</td>\n",
       "      <td>Spring</td>\n",
       "      <td>True</td>\n",
       "      <td>1.8559</td>\n",
       "      <td>nice size and easy to set up it's a good size ...</td>\n",
       "      <td>True</td>\n",
       "    </tr>\n",
       "    <tr>\n",
       "      <th>498</th>\n",
       "      <td>ORD390162</td>\n",
       "      <td>ID3213448164</td>\n",
       "      <td>2019-09-30</td>\n",
       "      <td>Thompson</td>\n",
       "      <td>[('iAssist Line', 1), ('Lucent 330S', 1)]</td>\n",
       "      <td>3455</td>\n",
       "      <td>106.41</td>\n",
       "      <td>-37.807807</td>\n",
       "      <td>144.961403</td>\n",
       "      <td>5</td>\n",
       "      <td>3388.66</td>\n",
       "      <td>Spring</td>\n",
       "      <td>True</td>\n",
       "      <td>1.3721</td>\n",
       "      <td>i am impressed with the quality and speed of t...</td>\n",
       "      <td>True</td>\n",
       "    </tr>\n",
       "    <tr>\n",
       "      <th>499</th>\n",
       "      <td>ORD449740</td>\n",
       "      <td>ID6167152987</td>\n",
       "      <td>2019-07-28</td>\n",
       "      <td>Thompson</td>\n",
       "      <td>[('Alcon 10', 2), ('Candle Inferno', 2), ('pea...</td>\n",
       "      <td>27520</td>\n",
       "      <td>77.30</td>\n",
       "      <td>-37.813407</td>\n",
       "      <td>144.958534</td>\n",
       "      <td>0</td>\n",
       "      <td>27597.30</td>\n",
       "      <td>Winter</td>\n",
       "      <td>True</td>\n",
       "      <td>1.0115</td>\n",
       "      <td>z3 plus perfect product!! too fast!! perfect s...</td>\n",
       "      <td>True</td>\n",
       "    </tr>\n",
       "  </tbody>\n",
       "</table>\n",
       "</div>"
      ],
      "text/plain": [
       "      order_id   customer_id        date nearest_warehouse  \\\n",
       "495  ORD047734  ID0367098724  2019-10-01          Thompson   \n",
       "496  ORD492400  ID2291073957  2019-06-28         Nickolson   \n",
       "497  ORD141503  ID1462398773  2019-11-02            Bakers   \n",
       "498  ORD390162  ID3213448164  2019-09-30          Thompson   \n",
       "499  ORD449740  ID6167152987  2019-07-28          Thompson   \n",
       "\n",
       "                                         shopping_cart  order_price  \\\n",
       "495  [('pearTV', 1), ('Lucent 330S', 1), ('Candle I...         8400   \n",
       "496  [('Olivia x460', 1), ('Thunder line', 1), ('iS...        21305   \n",
       "497  [('pearTV', 2), ('Olivia x460', 1), ('Thunder ...        19475   \n",
       "498          [('iAssist Line', 1), ('Lucent 330S', 1)]         3455   \n",
       "499  [('Alcon 10', 2), ('Candle Inferno', 2), ('pea...        27520   \n",
       "\n",
       "     delivery_charges  customer_lat  customer_long  coupon_discount  \\\n",
       "495             70.46    -37.799207     144.961314                5   \n",
       "496             77.69    -37.808172     144.968858               15   \n",
       "497             82.87    -37.819901     145.012208               25   \n",
       "498            106.41    -37.807807     144.961403                5   \n",
       "499             77.30    -37.813407     144.958534                0   \n",
       "\n",
       "     order_total  season  is_expedited_delivery  \\\n",
       "495     16155.99  Spring                  False   \n",
       "496     18186.94  Winter                   True   \n",
       "497     14689.12  Spring                   True   \n",
       "498      3388.66  Spring                   True   \n",
       "499     27597.30  Winter                   True   \n",
       "\n",
       "     distance_to_nearest_warehouse  \\\n",
       "495                         1.9537   \n",
       "496                         1.1619   \n",
       "497                         1.8559   \n",
       "498                         1.3721   \n",
       "499                         1.0115   \n",
       "\n",
       "                                latest_customer_review  is_happy_customer  \n",
       "495  one star do not buy this piece of sh**. it wil...              False  \n",
       "496  the best cell phone i've ever bought the best ...               True  \n",
       "497  nice size and easy to set up it's a good size ...               True  \n",
       "498  i am impressed with the quality and speed of t...               True  \n",
       "499  z3 plus perfect product!! too fast!! perfect s...               True  "
      ]
     },
     "execution_count": 7,
     "metadata": {},
     "output_type": "execute_result"
    }
   ],
   "source": [
    "# Displaying the bottom 5 elements of the dataset\n",
    "my_dirty_data.tail(5)"
   ]
  },
  {
   "cell_type": "markdown",
   "metadata": {},
   "source": [
    "**info()**\n",
    "* This gives us the total number of records present in the dataset.\n",
    "* It also gives us the data-type of each column.\n",
    "* Types of Data :\n",
    "    * 'object' here means string\n",
    "    * int and float\n",
    "* It also tells us the number of Non-Null observations present in each column. "
   ]
  },
  {
   "cell_type": "code",
   "execution_count": 8,
   "metadata": {},
   "outputs": [
    {
     "name": "stdout",
     "output_type": "stream",
     "text": [
      "<class 'pandas.core.frame.DataFrame'>\n",
      "RangeIndex: 500 entries, 0 to 499\n",
      "Data columns (total 16 columns):\n",
      "order_id                         500 non-null object\n",
      "customer_id                      500 non-null object\n",
      "date                             500 non-null object\n",
      "nearest_warehouse                500 non-null object\n",
      "shopping_cart                    500 non-null object\n",
      "order_price                      500 non-null int64\n",
      "delivery_charges                 500 non-null float64\n",
      "customer_lat                     500 non-null float64\n",
      "customer_long                    500 non-null float64\n",
      "coupon_discount                  500 non-null int64\n",
      "order_total                      500 non-null float64\n",
      "season                           500 non-null object\n",
      "is_expedited_delivery            500 non-null bool\n",
      "distance_to_nearest_warehouse    500 non-null float64\n",
      "latest_customer_review           500 non-null object\n",
      "is_happy_customer                500 non-null bool\n",
      "dtypes: bool(2), float64(5), int64(2), object(7)\n",
      "memory usage: 55.7+ KB\n"
     ]
    }
   ],
   "source": [
    "my_dirty_data.info()"
   ]
  },
  {
   "cell_type": "markdown",
   "metadata": {},
   "source": [
    "**Numerical Data:**\n",
    "* order_price                      \n",
    "* delivery_charges                \n",
    "* customer_lat                     \n",
    "* customer_long                    \n",
    "* coupon_discount                  \n",
    "* order_total  \n",
    "\n",
    "**Non-Numeric Data:**\n",
    "* order_id                         \n",
    "* customer_id                      \n",
    "* date                             \n",
    "* nearest_warehouse                \n",
    "* shopping_cart  \n",
    "\n",
    "**Boolean Data:**\n",
    "* season\n",
    "* is_expected_delivery"
   ]
  },
  {
   "cell_type": "code",
   "execution_count": 9,
   "metadata": {},
   "outputs": [
    {
     "data": {
      "text/html": [
       "<div>\n",
       "<style scoped>\n",
       "    .dataframe tbody tr th:only-of-type {\n",
       "        vertical-align: middle;\n",
       "    }\n",
       "\n",
       "    .dataframe tbody tr th {\n",
       "        vertical-align: top;\n",
       "    }\n",
       "\n",
       "    .dataframe thead th {\n",
       "        text-align: right;\n",
       "    }\n",
       "</style>\n",
       "<table border=\"1\" class=\"dataframe\">\n",
       "  <thead>\n",
       "    <tr style=\"text-align: right;\">\n",
       "      <th></th>\n",
       "      <th>order_price</th>\n",
       "      <th>delivery_charges</th>\n",
       "      <th>customer_lat</th>\n",
       "      <th>customer_long</th>\n",
       "      <th>coupon_discount</th>\n",
       "      <th>order_total</th>\n",
       "      <th>distance_to_nearest_warehouse</th>\n",
       "    </tr>\n",
       "  </thead>\n",
       "  <tbody>\n",
       "    <tr>\n",
       "      <th>count</th>\n",
       "      <td>500.000000</td>\n",
       "      <td>500.000000</td>\n",
       "      <td>500.000000</td>\n",
       "      <td>500.000000</td>\n",
       "      <td>500.000000</td>\n",
       "      <td>500.000000</td>\n",
       "      <td>500.000000</td>\n",
       "    </tr>\n",
       "    <tr>\n",
       "      <th>mean</th>\n",
       "      <td>13139.380000</td>\n",
       "      <td>77.402480</td>\n",
       "      <td>-27.941915</td>\n",
       "      <td>135.094671</td>\n",
       "      <td>10.160000</td>\n",
       "      <td>11854.736740</td>\n",
       "      <td>1.076057</td>\n",
       "    </tr>\n",
       "    <tr>\n",
       "      <th>std</th>\n",
       "      <td>7684.178721</td>\n",
       "      <td>14.229741</td>\n",
       "      <td>41.353561</td>\n",
       "      <td>41.352201</td>\n",
       "      <td>8.385406</td>\n",
       "      <td>6943.988185</td>\n",
       "      <td>0.505673</td>\n",
       "    </tr>\n",
       "    <tr>\n",
       "      <th>min</th>\n",
       "      <td>580.000000</td>\n",
       "      <td>44.010000</td>\n",
       "      <td>-37.826823</td>\n",
       "      <td>-37.820932</td>\n",
       "      <td>0.000000</td>\n",
       "      <td>628.090000</td>\n",
       "      <td>0.076300</td>\n",
       "    </tr>\n",
       "    <tr>\n",
       "      <th>25%</th>\n",
       "      <td>7050.000000</td>\n",
       "      <td>66.665000</td>\n",
       "      <td>-37.818312</td>\n",
       "      <td>144.948467</td>\n",
       "      <td>5.000000</td>\n",
       "      <td>6534.782500</td>\n",
       "      <td>0.694300</td>\n",
       "    </tr>\n",
       "    <tr>\n",
       "      <th>50%</th>\n",
       "      <td>11577.500000</td>\n",
       "      <td>76.770000</td>\n",
       "      <td>-37.812247</td>\n",
       "      <td>144.961021</td>\n",
       "      <td>10.000000</td>\n",
       "      <td>10484.475000</td>\n",
       "      <td>1.008000</td>\n",
       "    </tr>\n",
       "    <tr>\n",
       "      <th>75%</th>\n",
       "      <td>18348.750000</td>\n",
       "      <td>83.425000</td>\n",
       "      <td>-37.804471</td>\n",
       "      <td>144.976283</td>\n",
       "      <td>15.000000</td>\n",
       "      <td>16370.272500</td>\n",
       "      <td>1.390750</td>\n",
       "    </tr>\n",
       "    <tr>\n",
       "      <th>max</th>\n",
       "      <td>39330.000000</td>\n",
       "      <td>111.370000</td>\n",
       "      <td>145.010218</td>\n",
       "      <td>145.018659</td>\n",
       "      <td>25.000000</td>\n",
       "      <td>35474.670000</td>\n",
       "      <td>3.433200</td>\n",
       "    </tr>\n",
       "  </tbody>\n",
       "</table>\n",
       "</div>"
      ],
      "text/plain": [
       "        order_price  delivery_charges  customer_lat  customer_long  \\\n",
       "count    500.000000        500.000000    500.000000     500.000000   \n",
       "mean   13139.380000         77.402480    -27.941915     135.094671   \n",
       "std     7684.178721         14.229741     41.353561      41.352201   \n",
       "min      580.000000         44.010000    -37.826823     -37.820932   \n",
       "25%     7050.000000         66.665000    -37.818312     144.948467   \n",
       "50%    11577.500000         76.770000    -37.812247     144.961021   \n",
       "75%    18348.750000         83.425000    -37.804471     144.976283   \n",
       "max    39330.000000        111.370000    145.010218     145.018659   \n",
       "\n",
       "       coupon_discount   order_total  distance_to_nearest_warehouse  \n",
       "count       500.000000    500.000000                     500.000000  \n",
       "mean         10.160000  11854.736740                       1.076057  \n",
       "std           8.385406   6943.988185                       0.505673  \n",
       "min           0.000000    628.090000                       0.076300  \n",
       "25%           5.000000   6534.782500                       0.694300  \n",
       "50%          10.000000  10484.475000                       1.008000  \n",
       "75%          15.000000  16370.272500                       1.390750  \n",
       "max          25.000000  35474.670000                       3.433200  "
      ]
     },
     "execution_count": 9,
     "metadata": {},
     "output_type": "execute_result"
    }
   ],
   "source": [
    "my_dirty_data.describe()"
   ]
  },
  {
   "cell_type": "markdown",
   "metadata": {},
   "source": [
    "**describe()**\n",
    "* By default, this gives us information about the numeric data.\n",
    "* This gives us the descriptive statistics of the dataset.\n",
    "* Here, count represents the total number of Non-Null observations. "
   ]
  },
  {
   "cell_type": "code",
   "execution_count": 10,
   "metadata": {},
   "outputs": [
    {
     "data": {
      "text/html": [
       "<div>\n",
       "<style scoped>\n",
       "    .dataframe tbody tr th:only-of-type {\n",
       "        vertical-align: middle;\n",
       "    }\n",
       "\n",
       "    .dataframe tbody tr th {\n",
       "        vertical-align: top;\n",
       "    }\n",
       "\n",
       "    .dataframe thead th {\n",
       "        text-align: right;\n",
       "    }\n",
       "</style>\n",
       "<table border=\"1\" class=\"dataframe\">\n",
       "  <thead>\n",
       "    <tr style=\"text-align: right;\">\n",
       "      <th></th>\n",
       "      <th>order_id</th>\n",
       "      <th>customer_id</th>\n",
       "      <th>date</th>\n",
       "      <th>nearest_warehouse</th>\n",
       "      <th>shopping_cart</th>\n",
       "      <th>season</th>\n",
       "      <th>latest_customer_review</th>\n",
       "    </tr>\n",
       "  </thead>\n",
       "  <tbody>\n",
       "    <tr>\n",
       "      <th>count</th>\n",
       "      <td>500</td>\n",
       "      <td>500</td>\n",
       "      <td>500</td>\n",
       "      <td>500</td>\n",
       "      <td>500</td>\n",
       "      <td>500</td>\n",
       "      <td>500</td>\n",
       "    </tr>\n",
       "    <tr>\n",
       "      <th>unique</th>\n",
       "      <td>500</td>\n",
       "      <td>494</td>\n",
       "      <td>275</td>\n",
       "      <td>6</td>\n",
       "      <td>476</td>\n",
       "      <td>8</td>\n",
       "      <td>500</td>\n",
       "    </tr>\n",
       "    <tr>\n",
       "      <th>top</th>\n",
       "      <td>ORD492400</td>\n",
       "      <td>ID2776394279</td>\n",
       "      <td>2019-01-14</td>\n",
       "      <td>Thompson</td>\n",
       "      <td>[('iStream', 1), ('Universe Note', 2)]</td>\n",
       "      <td>Summer</td>\n",
       "      <td>very nicve product i received the alcon as des...</td>\n",
       "    </tr>\n",
       "    <tr>\n",
       "      <th>freq</th>\n",
       "      <td>1</td>\n",
       "      <td>2</td>\n",
       "      <td>6</td>\n",
       "      <td>213</td>\n",
       "      <td>3</td>\n",
       "      <td>135</td>\n",
       "      <td>1</td>\n",
       "    </tr>\n",
       "  </tbody>\n",
       "</table>\n",
       "</div>"
      ],
      "text/plain": [
       "         order_id   customer_id        date nearest_warehouse  \\\n",
       "count         500           500         500               500   \n",
       "unique        500           494         275                 6   \n",
       "top     ORD492400  ID2776394279  2019-01-14          Thompson   \n",
       "freq            1             2           6               213   \n",
       "\n",
       "                                 shopping_cart  season  \\\n",
       "count                                      500     500   \n",
       "unique                                     476       8   \n",
       "top     [('iStream', 1), ('Universe Note', 2)]  Summer   \n",
       "freq                                         3     135   \n",
       "\n",
       "                                   latest_customer_review  \n",
       "count                                                 500  \n",
       "unique                                                500  \n",
       "top     very nicve product i received the alcon as des...  \n",
       "freq                                                    1  "
      ]
     },
     "execution_count": 10,
     "metadata": {},
     "output_type": "execute_result"
    }
   ],
   "source": [
    "# This gives us the decriptive statistics of all the non-numeric data\n",
    "my_dirty_data.describe(include = ['O'])"
   ]
  },
  {
   "cell_type": "markdown",
   "metadata": {},
   "source": [
    "**Observations: Possible Mistakes**\n",
    "\n",
    "**Point 1:**\n",
    "* We can see that there are 6 unique values of the warehouses. \n",
    "* But, in the question it is given that there are 3 unique warehouses. \n",
    "* Thus, there must something wrong in the warehouse names.\n",
    "\n",
    "**Point 2:**\n",
    "* Similarly, we can see that there are 8 unique values of the seasons. \n",
    "* But, we know that there are 4 seasons.  \n",
    "* Thus, there must something wrong in the warehouse names.\n",
    "\n",
    "\n",
    "**Non-Numeric Data:**\n",
    "* order_id                         \n",
    "* customer_id                      \n",
    "* date                             \n",
    "* nearest_warehouse                \n",
    "* shopping_cart  "
   ]
  },
  {
   "cell_type": "markdown",
   "metadata": {},
   "source": [
    "### Identify Syntactic Anomalies:\n",
    "\n",
    "* Here, I have identified certain lexical errors of the dataset."
   ]
  },
  {
   "cell_type": "code",
   "execution_count": 11,
   "metadata": {},
   "outputs": [
    {
     "data": {
      "text/plain": [
       "Thompson     213\n",
       "Nickolson    169\n",
       "Bakers        98\n",
       "bakers         8\n",
       "nickolson      7\n",
       "thompson       5\n",
       "Name: nearest_warehouse, dtype: int64"
      ]
     },
     "execution_count": 11,
     "metadata": {},
     "output_type": "execute_result"
    }
   ],
   "source": [
    "# Checking for inconsistent spellings in nearest_warehouse column\n",
    "my_dirty_data.nearest_warehouse.value_counts()"
   ]
  },
  {
   "cell_type": "markdown",
   "metadata": {},
   "source": [
    "**Inconsist spellings:**\n",
    "\n",
    "* Thompson and thompson\n",
    "* Bakers and bakers\n",
    "* Nickolson and nickolson\n",
    "\n",
    "**Assumption:**\n",
    "* Here, I have made the assumption that the spelling with more number of counts has a lesser chance to be wrong.\n",
    "* Hence, I am going ahead with the spelling with the larger count.\n",
    "    * **Thompson**\n",
    "    * **Bakers**\n",
    "    * **Nickolson**\n",
    "* The spellings with the larger count will be set as the standard."
   ]
  },
  {
   "cell_type": "code",
   "execution_count": 12,
   "metadata": {},
   "outputs": [],
   "source": [
    "# Correcting the spellings for nearest_warehouse\n",
    "my_dirty_data.nearest_warehouse.replace({\"thompson\": \"Thompson\", \"bakers\": \"Bakers\", \"nickolson\":\"Nickolson\"}, inplace=True)"
   ]
  },
  {
   "cell_type": "code",
   "execution_count": 13,
   "metadata": {},
   "outputs": [
    {
     "data": {
      "text/plain": [
       "Thompson     218\n",
       "Nickolson    176\n",
       "Bakers       106\n",
       "Name: nearest_warehouse, dtype: int64"
      ]
     },
     "execution_count": 13,
     "metadata": {},
     "output_type": "execute_result"
    }
   ],
   "source": [
    "# Checking if the replacements have been made \n",
    "my_dirty_data.nearest_warehouse.value_counts()"
   ]
  },
  {
   "cell_type": "markdown",
   "metadata": {},
   "source": [
    "Clearly, the **nearest_warehouse** spellings have been corrected!"
   ]
  },
  {
   "cell_type": "code",
   "execution_count": 14,
   "metadata": {},
   "outputs": [
    {
     "data": {
      "text/plain": [
       "Summer    135\n",
       "Winter    117\n",
       "Spring    114\n",
       "Autumn    113\n",
       "spring      6\n",
       "autumn      6\n",
       "winter      5\n",
       "summer      4\n",
       "Name: season, dtype: int64"
      ]
     },
     "execution_count": 14,
     "metadata": {},
     "output_type": "execute_result"
    }
   ],
   "source": [
    "my_dirty_data.season.value_counts()"
   ]
  },
  {
   "cell_type": "markdown",
   "metadata": {},
   "source": [
    "**Inconsist spellings:**\n",
    "\n",
    "* Summer and summer\n",
    "* Autumn and autumn\n",
    "* Winter and winter\n",
    "* Spring and spring\n",
    "\n",
    "**Assumption:**\n",
    "* Here, I have made the assumption that the spelling with more number of counts has a lesser chance to be wrong.\n",
    "* Hence, I am going ahead with the spelling with the larger count.\n",
    "    * **Summer**\n",
    "    * **Autumn**\n",
    "    * **Winter**\n",
    "    * **Spring**\n",
    "* The spellings with the larger count will be set as the standard."
   ]
  },
  {
   "cell_type": "code",
   "execution_count": 15,
   "metadata": {},
   "outputs": [],
   "source": [
    "# Correcting the spellings for season \n",
    "my_dirty_data.season.replace({\"summer\": \"Summer\", \"autumn\": \"Autumn\", \"winter\":\"Winter\",\"spring\":\"Spring\"}, inplace = True)"
   ]
  },
  {
   "cell_type": "code",
   "execution_count": 16,
   "metadata": {},
   "outputs": [
    {
     "data": {
      "text/plain": [
       "Summer    139\n",
       "Winter    122\n",
       "Spring    120\n",
       "Autumn    119\n",
       "Name: season, dtype: int64"
      ]
     },
     "execution_count": 16,
     "metadata": {},
     "output_type": "execute_result"
    }
   ],
   "source": [
    "# Checking if the replacements have been made or not\n",
    "my_dirty_data.season.value_counts()"
   ]
  },
  {
   "cell_type": "markdown",
   "metadata": {},
   "source": [
    "Clearly, the **season** spellings have been corrected!"
   ]
  },
  {
   "cell_type": "markdown",
   "metadata": {},
   "source": [
    "**Incorrect Spelling:**\n",
    "\n",
    "* Here, there are no inconsistencies in the spellings of True and False."
   ]
  },
  {
   "cell_type": "code",
   "execution_count": 17,
   "metadata": {},
   "outputs": [
    {
     "data": {
      "text/html": [
       "<div>\n",
       "<style scoped>\n",
       "    .dataframe tbody tr th:only-of-type {\n",
       "        vertical-align: middle;\n",
       "    }\n",
       "\n",
       "    .dataframe tbody tr th {\n",
       "        vertical-align: top;\n",
       "    }\n",
       "\n",
       "    .dataframe thead th {\n",
       "        text-align: right;\n",
       "    }\n",
       "</style>\n",
       "<table border=\"1\" class=\"dataframe\">\n",
       "  <thead>\n",
       "    <tr style=\"text-align: right;\">\n",
       "      <th></th>\n",
       "      <th>order_id</th>\n",
       "      <th>customer_id</th>\n",
       "      <th>date</th>\n",
       "      <th>nearest_warehouse</th>\n",
       "      <th>shopping_cart</th>\n",
       "      <th>order_price</th>\n",
       "      <th>delivery_charges</th>\n",
       "      <th>customer_lat</th>\n",
       "      <th>customer_long</th>\n",
       "      <th>coupon_discount</th>\n",
       "      <th>order_total</th>\n",
       "      <th>season</th>\n",
       "      <th>is_expedited_delivery</th>\n",
       "      <th>distance_to_nearest_warehouse</th>\n",
       "      <th>latest_customer_review</th>\n",
       "      <th>is_happy_customer</th>\n",
       "    </tr>\n",
       "  </thead>\n",
       "  <tbody>\n",
       "  </tbody>\n",
       "</table>\n",
       "</div>"
      ],
      "text/plain": [
       "Empty DataFrame\n",
       "Columns: [order_id, customer_id, date, nearest_warehouse, shopping_cart, order_price, delivery_charges, customer_lat, customer_long, coupon_discount, order_total, season, is_expedited_delivery, distance_to_nearest_warehouse, latest_customer_review, is_happy_customer]\n",
       "Index: []"
      ]
     },
     "execution_count": 17,
     "metadata": {},
     "output_type": "execute_result"
    }
   ],
   "source": [
    "#Checking for duplicate records\n",
    "my_dirty_data[my_dirty_data.duplicated([\"order_id\"], keep=False)].head(2)"
   ]
  },
  {
   "cell_type": "markdown",
   "metadata": {},
   "source": [
    "Clearly, we can see that there is no duplicate data!"
   ]
  },
  {
   "cell_type": "code",
   "execution_count": 18,
   "metadata": {},
   "outputs": [
    {
     "data": {
      "text/html": [
       "<div>\n",
       "<style scoped>\n",
       "    .dataframe tbody tr th:only-of-type {\n",
       "        vertical-align: middle;\n",
       "    }\n",
       "\n",
       "    .dataframe tbody tr th {\n",
       "        vertical-align: top;\n",
       "    }\n",
       "\n",
       "    .dataframe thead th {\n",
       "        text-align: right;\n",
       "    }\n",
       "</style>\n",
       "<table border=\"1\" class=\"dataframe\">\n",
       "  <thead>\n",
       "    <tr style=\"text-align: right;\">\n",
       "      <th></th>\n",
       "      <th>count</th>\n",
       "      <th>unique</th>\n",
       "      <th>top</th>\n",
       "      <th>freq</th>\n",
       "    </tr>\n",
       "    <tr>\n",
       "      <th>nearest_warehouse</th>\n",
       "      <th></th>\n",
       "      <th></th>\n",
       "      <th></th>\n",
       "      <th></th>\n",
       "    </tr>\n",
       "  </thead>\n",
       "  <tbody>\n",
       "    <tr>\n",
       "      <th>Bakers</th>\n",
       "      <td>106</td>\n",
       "      <td>104</td>\n",
       "      <td>ID0373008444</td>\n",
       "      <td>2</td>\n",
       "    </tr>\n",
       "    <tr>\n",
       "      <th>Nickolson</th>\n",
       "      <td>176</td>\n",
       "      <td>173</td>\n",
       "      <td>ID6167344589</td>\n",
       "      <td>2</td>\n",
       "    </tr>\n",
       "    <tr>\n",
       "      <th>Thompson</th>\n",
       "      <td>218</td>\n",
       "      <td>217</td>\n",
       "      <td>ID0282825799</td>\n",
       "      <td>2</td>\n",
       "    </tr>\n",
       "  </tbody>\n",
       "</table>\n",
       "</div>"
      ],
      "text/plain": [
       "                  count unique           top freq\n",
       "nearest_warehouse                                \n",
       "Bakers              106    104  ID0373008444    2\n",
       "Nickolson           176    173  ID6167344589    2\n",
       "Thompson            218    217  ID0282825799    2"
      ]
     },
     "execution_count": 18,
     "metadata": {},
     "output_type": "execute_result"
    }
   ],
   "source": [
    "# Checking for consistency in data\n",
    "my_dirty_data['customer_id'].groupby(my_dirty_data['nearest_warehouse']).describe()"
   ]
  },
  {
   "cell_type": "markdown",
   "metadata": {},
   "source": [
    "### 2.1.1 Exploratory Data Analysis : Date Values <a class=\"anchor\" id=\"sec_211\"></a>\n",
    "\n",
    "**Examining the Date Values:**\n",
    "* According to the assignment specification, all the dates should be in this format: \"YYYY-MM-DD\"\n",
    "* Here, we examine the format of the dates and convert it into this required format!\n",
    "* A total of 39 rows were corrected. \n",
    "* I even checked if there were any incorrectly entered days values corresponding to the months. \n",
    "* In order to perform the correctness of the dates, the new columns of days, months and years were finally removed."
   ]
  },
  {
   "cell_type": "code",
   "execution_count": 19,
   "metadata": {},
   "outputs": [
    {
     "data": {
      "text/plain": [
       "27"
      ]
     },
     "execution_count": 19,
     "metadata": {},
     "output_type": "execute_result"
    }
   ],
   "source": [
    "# https://stackoverflow.com/questions/51822956/change-dd-mm-yyyy-date-format-of-dataframe-date-column-to-yyyy-mm-dd\n",
    "# https://stackoverflow.com/questions/49435438/pandas-validate-date-format\n",
    "# Changing the date-format to yyyy-mm-dd\n",
    "my_dirty_data['new_date'] = pd.to_datetime(my_dirty_data['date'], format='%Y-%m-%d', errors = 'coerce')\n",
    "my_dirty_data.new_date.isnull().sum()\n",
    "# Thus there are 27 Null values"
   ]
  },
  {
   "cell_type": "code",
   "execution_count": 20,
   "metadata": {},
   "outputs": [
    {
     "data": {
      "text/plain": [
       "12"
      ]
     },
     "execution_count": 20,
     "metadata": {},
     "output_type": "execute_result"
    }
   ],
   "source": [
    "# Handing incorrect dates \n",
    "wrong_dates = my_dirty_data.new_date.isnull()\n",
    "my_dirty_data.loc[wrong_dates,'new_date'] = pd.to_datetime(my_dirty_data[wrong_dates]['date'], format='%Y-%d-%m',errors='coerce')\n",
    "my_dirty_data.new_date.isnull().sum()\n",
    "# Thus, the Null Values have been decreased to 12 now "
   ]
  },
  {
   "cell_type": "code",
   "execution_count": 21,
   "metadata": {},
   "outputs": [
    {
     "data": {
      "text/plain": [
       "485    2019-02-08\n",
       "486    2019-01-11\n",
       "487    2019-06-08\n",
       "488    2019-08-13\n",
       "489    07-02-2019\n",
       "490    2019-01-25\n",
       "491    2019-02-23\n",
       "492    2019-03-24\n",
       "493    2019-11-27\n",
       "494    2019-10-13\n",
       "495    2019-10-01\n",
       "496    2019-06-28\n",
       "497    2019-11-02\n",
       "498    2019-09-30\n",
       "499    2019-07-28\n",
       "Name: date, dtype: object"
      ]
     },
     "execution_count": 21,
     "metadata": {},
     "output_type": "execute_result"
    }
   ],
   "source": [
    "# Now, there are dates in the DD-MM-YYYY Format \n",
    "my_dirty_data[\"date\"].tail(15)"
   ]
  },
  {
   "cell_type": "code",
   "execution_count": 22,
   "metadata": {},
   "outputs": [],
   "source": [
    "wrong_dates = my_dirty_data.new_date.isnull()\n",
    "my_dirty_data.loc[wrong_dates,'new_date'] = pd.to_datetime(my_dirty_data[wrong_dates]['date'], format='%d-%m-%Y',errors='coerce')"
   ]
  },
  {
   "cell_type": "code",
   "execution_count": 23,
   "metadata": {},
   "outputs": [
    {
     "data": {
      "text/plain": [
       "0"
      ]
     },
     "execution_count": 23,
     "metadata": {},
     "output_type": "execute_result"
    }
   ],
   "source": [
    "my_dirty_data.new_date.isnull().sum()\n",
    "# Thus, all Null values have been deleted"
   ]
  },
  {
   "cell_type": "code",
   "execution_count": 24,
   "metadata": {},
   "outputs": [
    {
     "data": {
      "text/plain": [
       "485   2019-02-08\n",
       "486   2019-01-11\n",
       "487   2019-06-08\n",
       "488   2019-08-13\n",
       "489   2019-02-07\n",
       "490   2019-01-25\n",
       "491   2019-02-23\n",
       "492   2019-03-24\n",
       "493   2019-11-27\n",
       "494   2019-10-13\n",
       "495   2019-10-01\n",
       "496   2019-06-28\n",
       "497   2019-11-02\n",
       "498   2019-09-30\n",
       "499   2019-07-28\n",
       "Name: new_date, dtype: datetime64[ns]"
      ]
     },
     "execution_count": 24,
     "metadata": {},
     "output_type": "execute_result"
    }
   ],
   "source": [
    "my_dirty_data[\"new_date\"].tail(15)"
   ]
  },
  {
   "cell_type": "code",
   "execution_count": 25,
   "metadata": {},
   "outputs": [],
   "source": [
    "# Deleting the old date column\n",
    "del my_dirty_data['date']"
   ]
  },
  {
   "cell_type": "code",
   "execution_count": 26,
   "metadata": {},
   "outputs": [],
   "source": [
    "# Renaming new_date column as the date column\n",
    "my_dirty_data.rename(columns={'new_date': 'date'}, inplace = True)"
   ]
  },
  {
   "cell_type": "markdown",
   "metadata": {},
   "source": [
    "**Inference and Analysis:**\n",
    "\n",
    "* Now that all the formats of the dates have been corrected, I will now check for any incorrectly entered dates."
   ]
  },
  {
   "cell_type": "code",
   "execution_count": 27,
   "metadata": {},
   "outputs": [
    {
     "data": {
      "text/html": [
       "<div>\n",
       "<style scoped>\n",
       "    .dataframe tbody tr th:only-of-type {\n",
       "        vertical-align: middle;\n",
       "    }\n",
       "\n",
       "    .dataframe tbody tr th {\n",
       "        vertical-align: top;\n",
       "    }\n",
       "\n",
       "    .dataframe thead th {\n",
       "        text-align: right;\n",
       "    }\n",
       "</style>\n",
       "<table border=\"1\" class=\"dataframe\">\n",
       "  <thead>\n",
       "    <tr style=\"text-align: right;\">\n",
       "      <th></th>\n",
       "      <th>date</th>\n",
       "      <th>year</th>\n",
       "      <th>month</th>\n",
       "      <th>day</th>\n",
       "    </tr>\n",
       "  </thead>\n",
       "  <tbody>\n",
       "    <tr>\n",
       "      <th>0</th>\n",
       "      <td>2019-12-18</td>\n",
       "      <td>2019</td>\n",
       "      <td>12</td>\n",
       "      <td>18</td>\n",
       "    </tr>\n",
       "    <tr>\n",
       "      <th>1</th>\n",
       "      <td>2019-11-01</td>\n",
       "      <td>2019</td>\n",
       "      <td>11</td>\n",
       "      <td>1</td>\n",
       "    </tr>\n",
       "    <tr>\n",
       "      <th>2</th>\n",
       "      <td>2019-12-06</td>\n",
       "      <td>2019</td>\n",
       "      <td>12</td>\n",
       "      <td>6</td>\n",
       "    </tr>\n",
       "    <tr>\n",
       "      <th>3</th>\n",
       "      <td>2019-11-28</td>\n",
       "      <td>2019</td>\n",
       "      <td>11</td>\n",
       "      <td>28</td>\n",
       "    </tr>\n",
       "    <tr>\n",
       "      <th>4</th>\n",
       "      <td>2019-09-30</td>\n",
       "      <td>2019</td>\n",
       "      <td>9</td>\n",
       "      <td>30</td>\n",
       "    </tr>\n",
       "  </tbody>\n",
       "</table>\n",
       "</div>"
      ],
      "text/plain": [
       "        date  year  month  day\n",
       "0 2019-12-18  2019     12   18\n",
       "1 2019-11-01  2019     11    1\n",
       "2 2019-12-06  2019     12    6\n",
       "3 2019-11-28  2019     11   28\n",
       "4 2019-09-30  2019      9   30"
      ]
     },
     "execution_count": 27,
     "metadata": {},
     "output_type": "execute_result"
    }
   ],
   "source": [
    "# https://stackoverflow.com/questions/26105804/extract-month-from-date-in-python/26105888\n",
    "my_dirty_data['month'] = my_dirty_data['date'].dt.month\n",
    "my_dirty_data['year'] = my_dirty_data['date'].dt.year\n",
    "my_dirty_data['day'] = my_dirty_data['date'].dt.day\n",
    "my_dirty_data[[\"date\",\"year\",\"month\",\"day\"]].head()"
   ]
  },
  {
   "cell_type": "code",
   "execution_count": 28,
   "metadata": {},
   "outputs": [
    {
     "name": "stdout",
     "output_type": "stream",
     "text": [
      "0\n"
     ]
    }
   ],
   "source": [
    "# Checking for incorrect day values \n",
    "days = dict(my_dirty_data.day.value_counts())\n",
    "count = 0\n",
    "for x in days.keys():\n",
    "    if x > 31:\n",
    "        count = count + 1\n",
    "print(count)\n",
    "# Hence, no incorrect days "
   ]
  },
  {
   "cell_type": "code",
   "execution_count": 29,
   "metadata": {},
   "outputs": [
    {
     "name": "stdout",
     "output_type": "stream",
     "text": [
      "0\n"
     ]
    }
   ],
   "source": [
    "# Checking for incorrect month values \n",
    "months = dict(my_dirty_data.month.value_counts())\n",
    "count = 0\n",
    "for x in months.keys():\n",
    "    if x > 12:\n",
    "        count = count + 1\n",
    "print(count)\n",
    "# Hence, no incorrect months "
   ]
  },
  {
   "cell_type": "markdown",
   "metadata": {},
   "source": [
    "### 2.1.2 Exploratory Data Analysis : Season Analysis <a class=\"anchor\" id=\"sec_212\"></a>\n",
    "**Examining the seasons:**\n",
    "* As per the season documentation followed in Australia, \n",
    "    * Summer Months : December, January, February\n",
    "    * Autumn Months : March, April, May\n",
    "    * Winter Months : June, July, August \n",
    "    * Spring Months : September, October, November \n",
    "* Thus, the seasons according to the month numbers are:\n",
    "    * Summer Months : 12, 1, 2\n",
    "    * Autumn Months : 3, 4, 5\n",
    "    * Winter Months : 6, 7, 8\n",
    "    * Spring Months : 9, 10, 11   \n",
    "* Here, while exploring the different seasons, I discovered that certain months have wronly marked seasons.\n",
    "* A total of 22 rows had incorrectly marked seasons.\n",
    "* These rows were then corrected."
   ]
  },
  {
   "cell_type": "code",
   "execution_count": 30,
   "metadata": {},
   "outputs": [
    {
     "data": {
      "text/html": [
       "<div>\n",
       "<style scoped>\n",
       "    .dataframe tbody tr th:only-of-type {\n",
       "        vertical-align: middle;\n",
       "    }\n",
       "\n",
       "    .dataframe tbody tr th {\n",
       "        vertical-align: top;\n",
       "    }\n",
       "\n",
       "    .dataframe thead th {\n",
       "        text-align: right;\n",
       "    }\n",
       "</style>\n",
       "<table border=\"1\" class=\"dataframe\">\n",
       "  <thead>\n",
       "    <tr style=\"text-align: right;\">\n",
       "      <th></th>\n",
       "      <th>season</th>\n",
       "    </tr>\n",
       "  </thead>\n",
       "  <tbody>\n",
       "    <tr>\n",
       "      <th>count</th>\n",
       "      <td>500</td>\n",
       "    </tr>\n",
       "    <tr>\n",
       "      <th>unique</th>\n",
       "      <td>4</td>\n",
       "    </tr>\n",
       "    <tr>\n",
       "      <th>top</th>\n",
       "      <td>Summer</td>\n",
       "    </tr>\n",
       "    <tr>\n",
       "      <th>freq</th>\n",
       "      <td>139</td>\n",
       "    </tr>\n",
       "  </tbody>\n",
       "</table>\n",
       "</div>"
      ],
      "text/plain": [
       "        season\n",
       "count      500\n",
       "unique       4\n",
       "top     Summer\n",
       "freq       139"
      ]
     },
     "execution_count": 30,
     "metadata": {},
     "output_type": "execute_result"
    }
   ],
   "source": [
    "# http://www.bom.gov.au/climate/glossary/seasons.shtml\n",
    "my_dirty_data[[\"season\"]].describe()"
   ]
  },
  {
   "cell_type": "code",
   "execution_count": 31,
   "metadata": {},
   "outputs": [
    {
     "data": {
      "text/plain": [
       "Summer    139\n",
       "Winter    122\n",
       "Spring    120\n",
       "Autumn    119\n",
       "Name: season, dtype: int64"
      ]
     },
     "execution_count": 31,
     "metadata": {},
     "output_type": "execute_result"
    }
   ],
   "source": [
    "my_dirty_data.season.value_counts()"
   ]
  },
  {
   "cell_type": "markdown",
   "metadata": {},
   "source": [
    "**Summer Season : Correcting the incorrectly marked summer months**"
   ]
  },
  {
   "cell_type": "code",
   "execution_count": 32,
   "metadata": {},
   "outputs": [
    {
     "data": {
      "text/html": [
       "<div>\n",
       "<style scoped>\n",
       "    .dataframe tbody tr th:only-of-type {\n",
       "        vertical-align: middle;\n",
       "    }\n",
       "\n",
       "    .dataframe tbody tr th {\n",
       "        vertical-align: top;\n",
       "    }\n",
       "\n",
       "    .dataframe thead th {\n",
       "        text-align: right;\n",
       "    }\n",
       "</style>\n",
       "<table border=\"1\" class=\"dataframe\">\n",
       "  <thead>\n",
       "    <tr style=\"text-align: right;\">\n",
       "      <th></th>\n",
       "      <th>month</th>\n",
       "      <th>season</th>\n",
       "    </tr>\n",
       "  </thead>\n",
       "  <tbody>\n",
       "    <tr>\n",
       "      <th>54</th>\n",
       "      <td>12</td>\n",
       "      <td>Spring</td>\n",
       "    </tr>\n",
       "    <tr>\n",
       "      <th>350</th>\n",
       "      <td>12</td>\n",
       "      <td>Winter</td>\n",
       "    </tr>\n",
       "    <tr>\n",
       "      <th>427</th>\n",
       "      <td>1</td>\n",
       "      <td>Autumn</td>\n",
       "    </tr>\n",
       "    <tr>\n",
       "      <th>434</th>\n",
       "      <td>2</td>\n",
       "      <td>Spring</td>\n",
       "    </tr>\n",
       "    <tr>\n",
       "      <th>447</th>\n",
       "      <td>12</td>\n",
       "      <td>Winter</td>\n",
       "    </tr>\n",
       "  </tbody>\n",
       "</table>\n",
       "</div>"
      ],
      "text/plain": [
       "     month  season\n",
       "54      12  Spring\n",
       "350     12  Winter\n",
       "427      1  Autumn\n",
       "434      2  Spring\n",
       "447     12  Winter"
      ]
     },
     "execution_count": 32,
     "metadata": {},
     "output_type": "execute_result"
    }
   ],
   "source": [
    "summer = ( (my_dirty_data.month == 12) | (my_dirty_data.month == 1) | (my_dirty_data.month == 2)) & (my_dirty_data.season != \"Summer\")\n",
    "\n",
    "# Checking the wrong season : summer \n",
    "wrong_summer = my_dirty_data[summer]\n",
    "wrong_summer[[\"month\",\"season\"]]"
   ]
  },
  {
   "cell_type": "code",
   "execution_count": 33,
   "metadata": {},
   "outputs": [
    {
     "name": "stdout",
     "output_type": "stream",
     "text": [
      "(5, 19)\n"
     ]
    }
   ],
   "source": [
    "# Number of incorrectly marked Summer seasons \n",
    "print(wrong_summer.shape)"
   ]
  },
  {
   "cell_type": "code",
   "execution_count": 34,
   "metadata": {},
   "outputs": [],
   "source": [
    "# Correcting the incorrectly marked Summer seasons \n",
    "summer = ( (my_dirty_data.month == 12) | (my_dirty_data.month == 1) | (my_dirty_data.month == 2)) & (my_dirty_data.season != \"Summer\")\n",
    "my_dirty_data.loc[summer, 'season'] = \"Summer\""
   ]
  },
  {
   "cell_type": "code",
   "execution_count": 35,
   "metadata": {},
   "outputs": [
    {
     "data": {
      "text/plain": [
       "(5, 19)"
      ]
     },
     "execution_count": 35,
     "metadata": {},
     "output_type": "execute_result"
    }
   ],
   "source": [
    "# Checking if the corrections have been made or not \n",
    "wrong_summer = my_dirty_data[summer]\n",
    "wrong_summer.shape"
   ]
  },
  {
   "cell_type": "markdown",
   "metadata": {},
   "source": [
    "**Autumn Season : Correcting the incorrectly marked autumn months**"
   ]
  },
  {
   "cell_type": "code",
   "execution_count": 36,
   "metadata": {},
   "outputs": [
    {
     "data": {
      "text/html": [
       "<div>\n",
       "<style scoped>\n",
       "    .dataframe tbody tr th:only-of-type {\n",
       "        vertical-align: middle;\n",
       "    }\n",
       "\n",
       "    .dataframe tbody tr th {\n",
       "        vertical-align: top;\n",
       "    }\n",
       "\n",
       "    .dataframe thead th {\n",
       "        text-align: right;\n",
       "    }\n",
       "</style>\n",
       "<table border=\"1\" class=\"dataframe\">\n",
       "  <thead>\n",
       "    <tr style=\"text-align: right;\">\n",
       "      <th></th>\n",
       "      <th>month</th>\n",
       "      <th>season</th>\n",
       "    </tr>\n",
       "  </thead>\n",
       "  <tbody>\n",
       "    <tr>\n",
       "      <th>133</th>\n",
       "      <td>5</td>\n",
       "      <td>Spring</td>\n",
       "    </tr>\n",
       "    <tr>\n",
       "      <th>319</th>\n",
       "      <td>5</td>\n",
       "      <td>Summer</td>\n",
       "    </tr>\n",
       "    <tr>\n",
       "      <th>396</th>\n",
       "      <td>4</td>\n",
       "      <td>Summer</td>\n",
       "    </tr>\n",
       "  </tbody>\n",
       "</table>\n",
       "</div>"
      ],
      "text/plain": [
       "     month  season\n",
       "133      5  Spring\n",
       "319      5  Summer\n",
       "396      4  Summer"
      ]
     },
     "execution_count": 36,
     "metadata": {},
     "output_type": "execute_result"
    }
   ],
   "source": [
    "autumn = ( (my_dirty_data.month == 3) | (my_dirty_data.month == 4) | (my_dirty_data.month == 5)) & (my_dirty_data.season != \"Autumn\")\n",
    "\n",
    "# Checking the wrong season : summer \n",
    "wrong_autumn = my_dirty_data[autumn]\n",
    "wrong_autumn[[\"month\",\"season\"]]"
   ]
  },
  {
   "cell_type": "code",
   "execution_count": 37,
   "metadata": {},
   "outputs": [
    {
     "name": "stdout",
     "output_type": "stream",
     "text": [
      "(3, 19)\n"
     ]
    }
   ],
   "source": [
    "# Number of incorrectly marked Summer seasons \n",
    "print(wrong_autumn.shape)"
   ]
  },
  {
   "cell_type": "code",
   "execution_count": 38,
   "metadata": {},
   "outputs": [],
   "source": [
    "# Correcting the incorrectly marked Autumn seasons \n",
    "autumn = ( (my_dirty_data.month == 3) | (my_dirty_data.month == 4) | (my_dirty_data.month == 5)) & (my_dirty_data.season != \"Autumn\")\n",
    "my_dirty_data.loc[autumn, 'season'] = \"Autumn\""
   ]
  },
  {
   "cell_type": "code",
   "execution_count": 39,
   "metadata": {},
   "outputs": [
    {
     "data": {
      "text/plain": [
       "(3, 19)"
      ]
     },
     "execution_count": 39,
     "metadata": {},
     "output_type": "execute_result"
    }
   ],
   "source": [
    "# Checking if the corrections have been made or not \n",
    "wrong_autumn = my_dirty_data[autumn]\n",
    "wrong_autumn.shape"
   ]
  },
  {
   "cell_type": "markdown",
   "metadata": {},
   "source": [
    "**Winter Season : Correcting the incorrectly marked winter months**"
   ]
  },
  {
   "cell_type": "code",
   "execution_count": 40,
   "metadata": {},
   "outputs": [
    {
     "data": {
      "text/html": [
       "<div>\n",
       "<style scoped>\n",
       "    .dataframe tbody tr th:only-of-type {\n",
       "        vertical-align: middle;\n",
       "    }\n",
       "\n",
       "    .dataframe tbody tr th {\n",
       "        vertical-align: top;\n",
       "    }\n",
       "\n",
       "    .dataframe thead th {\n",
       "        text-align: right;\n",
       "    }\n",
       "</style>\n",
       "<table border=\"1\" class=\"dataframe\">\n",
       "  <thead>\n",
       "    <tr style=\"text-align: right;\">\n",
       "      <th></th>\n",
       "      <th>month</th>\n",
       "      <th>season</th>\n",
       "    </tr>\n",
       "  </thead>\n",
       "  <tbody>\n",
       "    <tr>\n",
       "      <th>45</th>\n",
       "      <td>6</td>\n",
       "      <td>Autumn</td>\n",
       "    </tr>\n",
       "    <tr>\n",
       "      <th>94</th>\n",
       "      <td>8</td>\n",
       "      <td>Autumn</td>\n",
       "    </tr>\n",
       "    <tr>\n",
       "      <th>313</th>\n",
       "      <td>8</td>\n",
       "      <td>Spring</td>\n",
       "    </tr>\n",
       "    <tr>\n",
       "      <th>330</th>\n",
       "      <td>6</td>\n",
       "      <td>Spring</td>\n",
       "    </tr>\n",
       "    <tr>\n",
       "      <th>359</th>\n",
       "      <td>6</td>\n",
       "      <td>Summer</td>\n",
       "    </tr>\n",
       "    <tr>\n",
       "      <th>368</th>\n",
       "      <td>7</td>\n",
       "      <td>Autumn</td>\n",
       "    </tr>\n",
       "    <tr>\n",
       "      <th>417</th>\n",
       "      <td>7</td>\n",
       "      <td>Summer</td>\n",
       "    </tr>\n",
       "  </tbody>\n",
       "</table>\n",
       "</div>"
      ],
      "text/plain": [
       "     month  season\n",
       "45       6  Autumn\n",
       "94       8  Autumn\n",
       "313      8  Spring\n",
       "330      6  Spring\n",
       "359      6  Summer\n",
       "368      7  Autumn\n",
       "417      7  Summer"
      ]
     },
     "execution_count": 40,
     "metadata": {},
     "output_type": "execute_result"
    }
   ],
   "source": [
    "winter = ( (my_dirty_data.month == 6) | (my_dirty_data.month == 7) | (my_dirty_data.month == 8)) & (my_dirty_data.season != \"Winter\")\n",
    "\n",
    "# Checking the wrong season : summer \n",
    "wrong_winter = my_dirty_data[winter]\n",
    "wrong_winter[[\"month\",\"season\"]]"
   ]
  },
  {
   "cell_type": "code",
   "execution_count": 41,
   "metadata": {},
   "outputs": [
    {
     "name": "stdout",
     "output_type": "stream",
     "text": [
      "(7, 19)\n"
     ]
    }
   ],
   "source": [
    "# Number of incorrectly marked Winter seasons \n",
    "print(wrong_winter.shape)"
   ]
  },
  {
   "cell_type": "code",
   "execution_count": 42,
   "metadata": {},
   "outputs": [],
   "source": [
    "# Correcting the incorrectly marked Winter seasons \n",
    "winter = ( (my_dirty_data.month == 6) | (my_dirty_data.month == 7) | (my_dirty_data.month == 8)) & (my_dirty_data.season != \"Winter\")\n",
    "my_dirty_data.loc[winter, 'season'] = \"Winter\""
   ]
  },
  {
   "cell_type": "code",
   "execution_count": 43,
   "metadata": {},
   "outputs": [
    {
     "data": {
      "text/plain": [
       "(7, 19)"
      ]
     },
     "execution_count": 43,
     "metadata": {},
     "output_type": "execute_result"
    }
   ],
   "source": [
    "# Checking if the corrections have been made or not \n",
    "wrong_winter = my_dirty_data[winter]\n",
    "wrong_winter.shape"
   ]
  },
  {
   "cell_type": "markdown",
   "metadata": {},
   "source": [
    "**Spring Season : Correcting the incorrectly marked spring months**"
   ]
  },
  {
   "cell_type": "code",
   "execution_count": 44,
   "metadata": {},
   "outputs": [
    {
     "data": {
      "text/html": [
       "<div>\n",
       "<style scoped>\n",
       "    .dataframe tbody tr th:only-of-type {\n",
       "        vertical-align: middle;\n",
       "    }\n",
       "\n",
       "    .dataframe tbody tr th {\n",
       "        vertical-align: top;\n",
       "    }\n",
       "\n",
       "    .dataframe thead th {\n",
       "        text-align: right;\n",
       "    }\n",
       "</style>\n",
       "<table border=\"1\" class=\"dataframe\">\n",
       "  <thead>\n",
       "    <tr style=\"text-align: right;\">\n",
       "      <th></th>\n",
       "      <th>month</th>\n",
       "      <th>season</th>\n",
       "    </tr>\n",
       "  </thead>\n",
       "  <tbody>\n",
       "    <tr>\n",
       "      <th>102</th>\n",
       "      <td>10</td>\n",
       "      <td>Summer</td>\n",
       "    </tr>\n",
       "    <tr>\n",
       "      <th>151</th>\n",
       "      <td>9</td>\n",
       "      <td>Winter</td>\n",
       "    </tr>\n",
       "    <tr>\n",
       "      <th>162</th>\n",
       "      <td>11</td>\n",
       "      <td>Winter</td>\n",
       "    </tr>\n",
       "    <tr>\n",
       "      <th>169</th>\n",
       "      <td>11</td>\n",
       "      <td>Summer</td>\n",
       "    </tr>\n",
       "    <tr>\n",
       "      <th>199</th>\n",
       "      <td>10</td>\n",
       "      <td>Autumn</td>\n",
       "    </tr>\n",
       "    <tr>\n",
       "      <th>301</th>\n",
       "      <td>9</td>\n",
       "      <td>Winter</td>\n",
       "    </tr>\n",
       "    <tr>\n",
       "      <th>482</th>\n",
       "      <td>11</td>\n",
       "      <td>Winter</td>\n",
       "    </tr>\n",
       "  </tbody>\n",
       "</table>\n",
       "</div>"
      ],
      "text/plain": [
       "     month  season\n",
       "102     10  Summer\n",
       "151      9  Winter\n",
       "162     11  Winter\n",
       "169     11  Summer\n",
       "199     10  Autumn\n",
       "301      9  Winter\n",
       "482     11  Winter"
      ]
     },
     "execution_count": 44,
     "metadata": {},
     "output_type": "execute_result"
    }
   ],
   "source": [
    "spring = ( (my_dirty_data.month == 9) | (my_dirty_data.month == 10) | (my_dirty_data.month == 11)) & (my_dirty_data.season != \"Spring\")\n",
    "\n",
    "# Checking the wrong season : spring\n",
    "wrong_spring = my_dirty_data[spring]\n",
    "wrong_spring[[\"month\",\"season\"]]"
   ]
  },
  {
   "cell_type": "code",
   "execution_count": 45,
   "metadata": {},
   "outputs": [
    {
     "name": "stdout",
     "output_type": "stream",
     "text": [
      "(7, 19)\n"
     ]
    }
   ],
   "source": [
    "# Number of incorrectly marked Spring seasons \n",
    "print(wrong_spring.shape)"
   ]
  },
  {
   "cell_type": "code",
   "execution_count": 46,
   "metadata": {},
   "outputs": [],
   "source": [
    "# Correcting the incorrectly marked Spring seasons \n",
    "spring = ( (my_dirty_data.month == 9) | (my_dirty_data.month == 10) | (my_dirty_data.month == 11)) & (my_dirty_data.season != \"Spring\")\n",
    "my_dirty_data.loc[spring, 'season'] = \"Spring\""
   ]
  },
  {
   "cell_type": "code",
   "execution_count": 47,
   "metadata": {},
   "outputs": [
    {
     "data": {
      "text/plain": [
       "(7, 19)"
      ]
     },
     "execution_count": 47,
     "metadata": {},
     "output_type": "execute_result"
    }
   ],
   "source": [
    "# Checking if the corrections have been made or not \n",
    "wrong_spring = my_dirty_data[spring]\n",
    "wrong_spring.shape"
   ]
  },
  {
   "cell_type": "code",
   "execution_count": 48,
   "metadata": {},
   "outputs": [
    {
     "name": "stdout",
     "output_type": "stream",
     "text": [
      "<class 'pandas.core.frame.DataFrame'>\n",
      "RangeIndex: 500 entries, 0 to 499\n",
      "Data columns (total 19 columns):\n",
      "order_id                         500 non-null object\n",
      "customer_id                      500 non-null object\n",
      "nearest_warehouse                500 non-null object\n",
      "shopping_cart                    500 non-null object\n",
      "order_price                      500 non-null int64\n",
      "delivery_charges                 500 non-null float64\n",
      "customer_lat                     500 non-null float64\n",
      "customer_long                    500 non-null float64\n",
      "coupon_discount                  500 non-null int64\n",
      "order_total                      500 non-null float64\n",
      "season                           500 non-null object\n",
      "is_expedited_delivery            500 non-null bool\n",
      "distance_to_nearest_warehouse    500 non-null float64\n",
      "latest_customer_review           500 non-null object\n",
      "is_happy_customer                500 non-null bool\n",
      "date                             500 non-null datetime64[ns]\n",
      "month                            500 non-null int64\n",
      "year                             500 non-null int64\n",
      "day                              500 non-null int64\n",
      "dtypes: bool(2), datetime64[ns](1), float64(5), int64(5), object(6)\n",
      "memory usage: 67.5+ KB\n"
     ]
    }
   ],
   "source": [
    "my_dirty_data.info()"
   ]
  },
  {
   "cell_type": "markdown",
   "metadata": {},
   "source": [
    "### 2.1.3 Exploratory Data Analysis : Shopping Cart <a class=\"anchor\" id=\"sec_213\"></a>\n",
    "\n",
    "**Examining the shopping cart**\n",
    "\n",
    "* Here, we first examine all the rows of the shopping cart column.\n",
    "* Every row represents a shopping cart which has the following:\n",
    "    * Item ordered\n",
    "    * Quantity of the item ordered\n",
    "* I have then used to comvert every row into a dictionary format, where :\n",
    "    * Key : Item ordered\n",
    "    * Value : Quantity of the item ordered"
   ]
  },
  {
   "cell_type": "code",
   "execution_count": 49,
   "metadata": {},
   "outputs": [
    {
     "data": {
      "text/plain": [
       "0    [('iAssist Line', 2), ('Toshika 750', 2), ('Ca...\n",
       "1           [('Universe Note', 1), ('Toshika 750', 1)]\n",
       "Name: shopping_cart, dtype: object"
      ]
     },
     "execution_count": 49,
     "metadata": {},
     "output_type": "execute_result"
    }
   ],
   "source": [
    "# Examining the top 2 elements of the shopping cart \n",
    "my_dirty_data[\"shopping_cart\"].head(2)"
   ]
  },
  {
   "cell_type": "code",
   "execution_count": 50,
   "metadata": {},
   "outputs": [
    {
     "data": {
      "text/plain": [
       "0    {'iAssist Line': 2, 'Toshika 750': 2, 'Candle ...\n",
       "1               {'Universe Note': 1, 'Toshika 750': 1}\n",
       "Name: shopping_cart, dtype: object"
      ]
     },
     "execution_count": 50,
     "metadata": {},
     "output_type": "execute_result"
    }
   ],
   "source": [
    "# Comverting the values into a dictionary for easier evaulation\n",
    "my_dirty_data['shopping_cart'] = my_dirty_data['shopping_cart'].apply(lambda x: dict(eval(x)))\n",
    "# Examining the top 2 elements of the shopping cart \n",
    "my_dirty_data[\"shopping_cart\"].head(2)"
   ]
  },
  {
   "cell_type": "code",
   "execution_count": 51,
   "metadata": {},
   "outputs": [
    {
     "name": "stdout",
     "output_type": "stream",
     "text": [
      "1 : iStream\n",
      "2 : pearTV\n",
      "3 : Lucent 330S\n",
      "4 : Universe Note\n",
      "5 : Alcon 10\n",
      "6 : Thunder line\n",
      "7 : Toshika 750\n",
      "8 : iAssist Line\n",
      "9 : Olivia x460\n",
      "10 : Candle Inferno\n"
     ]
    }
   ],
   "source": [
    "# List to store all the shopping items names \n",
    "items_name = []\n",
    "\n",
    "# Adding the items from every shopping cart into a list \n",
    "my_dirty_data['shopping_cart'].apply(lambda x:items_name.append(x.keys()))\n",
    "\n",
    "#https://stackoverflow.com/questions/952914/how-to-make-a-flat-list-out-of-list-of-lists\n",
    "import itertools\n",
    "final_list = list(itertools.chain(*items_name))\n",
    "\n",
    "# Creating an unique list\n",
    "unique_list = set(final_list)\n",
    "\n",
    "# Printing out all the items of the list \n",
    "count = 1\n",
    "for every_item in unique_list:\n",
    "    print(count,\":\", every_item)\n",
    "    count = count + 1"
   ]
  },
  {
   "cell_type": "markdown",
   "metadata": {},
   "source": [
    "* In the assignment specification, it is mentioned that the store has it's sales focused on only 10 branded items.\n",
    "* Thus, from this data exploration, we can clearly see that there are only **10 unique items** present in the shopping cart!"
   ]
  },
  {
   "cell_type": "markdown",
   "metadata": {},
   "source": [
    "### 2.1.4 Exploratory Data Analysis : Order Price <a class=\"anchor\" id=\"sec_214\"></a>\n",
    "\n",
    "**Examining the following**\n",
    "* Now, as per the assignment specification, it is given that there are going to be only 10 unique items.\n",
    "* We have been provided with the item quantities and the total order price. \n",
    "* We now need to compute the individual item prices. \n",
    "* After finding these items, I created a coefficient matrix that included the different item quantities.\n",
    "* Then, I used the matrix multiplication method, in order to compute the item prices for each of the items.\n",
    "* After finding the individual item prices, I calculated the order price for every order.\n",
    "* I observed that certain rows had wrongly calculated order prices. \n",
    "* A total of around 54 such rows were corrected."
   ]
  },
  {
   "cell_type": "markdown",
   "metadata": {},
   "source": [
    "Using this array, I have calculated the individual item prices."
   ]
  },
  {
   "cell_type": "code",
   "execution_count": 52,
   "metadata": {},
   "outputs": [],
   "source": [
    "a=np.array([[0, 2, 0, 0, 0, 2, 0, 2, 0, 1],\n",
    " [0, 0, 0, 0, 0, 1, 1, 0, 0, 0],\n",
    " [0, 0, 1, 0, 0, 0, 0, 1, 1, 2],\n",
    " [0, 0, 2, 2, 0, 0, 0, 1, 0, 2],\n",
    " [1, 0, 0, 0, 0, 2, 0, 0, 0, 1],\n",
    " [0, 1, 0, 1, 0, 0, 0, 0, 0, 0],\n",
    " [1, 0, 0, 0, 0, 0, 2, 0, 0, 0],\n",
    " [2, 2, 1, 2, 0, 0, 0, 0, 0, 0],\n",
    " [0, 2, 0, 0, 0, 0, 0, 2, 0, 0],\n",
    " [0, 0, 1, 0, 0, 2, 0, 0, 2, 0]])\n",
    "b = np.array([20260, 7770, 16225, 19755, 23900, 1655, 15850, 22440, 5310, 10170])\n",
    "#x = np.linalg.solve(a,b)"
   ]
  },
  {
   "cell_type": "markdown",
   "metadata": {},
   "source": [
    "* Now, I know the items and the price of the items in the dataset.\n",
    "* Hence, for easier calculation, I have stored them into a dictionary."
   ]
  },
  {
   "cell_type": "code",
   "execution_count": 53,
   "metadata": {},
   "outputs": [],
   "source": [
    "# Dictionary to store all the items and the prices \n",
    "items_prices = {'Candle Inferno': 430.0, \n",
    "                'pearTV': 6310.0,\n",
    "                'Toshika 750': 4320.0,\n",
    "                'Lucent 330S': 1230.0,\n",
    "                'Thunder line': 2180.0, \n",
    "                'Alcon 10': 8950.0,\n",
    "                'iAssist Line': 2225.0,\n",
    "                'iStream': 150.0, \n",
    "                'Universe Note': 3450.0, \n",
    "                'Olivia x460': 1225.0\n",
    "                }"
   ]
  },
  {
   "cell_type": "code",
   "execution_count": 54,
   "metadata": {},
   "outputs": [
    {
     "name": "stdout",
     "output_type": "stream",
     "text": [
      "Candle Inferno : 430.0\n",
      "pearTV : 6310.0\n",
      "Toshika 750 : 4320.0\n",
      "Lucent 330S : 1230.0\n",
      "Thunder line : 2180.0\n",
      "Alcon 10 : 8950.0\n",
      "iAssist Line : 2225.0\n",
      "iStream : 150.0\n",
      "Universe Note : 3450.0\n",
      "Olivia x460 : 1225.0\n"
     ]
    }
   ],
   "source": [
    "items_prices_dict = dict(items_prices)\n",
    "for each in items_prices:\n",
    "    print(each,\":\",items_prices[each])"
   ]
  },
  {
   "cell_type": "code",
   "execution_count": 55,
   "metadata": {},
   "outputs": [
    {
     "data": {
      "image/png": "[encoded data removed]",
      "text/plain": [
       "<Figure size 432x288 with 1 Axes>"
      ]
     },
     "metadata": {
      "needs_background": "light"
     },
     "output_type": "display_data"
    }
   ],
   "source": [
    "# Bar Plot of the various items and prices \n",
    "colors ='cm'\n",
    "\n",
    "keys = items_prices.keys()\n",
    "values = items_prices.values()\n",
    "plt.bar(keys, values, color = colors)\n",
    "plt.xticks(rotation = 90)\n",
    "\n",
    "plt.title('Item Prices') \n",
    "plt.xlabel('Items')\n",
    "plt.ylabel('Prices')\n",
    "plt.grid()"
   ]
  },
  {
   "cell_type": "code",
   "execution_count": 56,
   "metadata": {},
   "outputs": [
    {
     "data": {
      "text/plain": [
       "{'iAssist Line': 2, 'Toshika 750': 2, 'Candle Inferno': 2, 'pearTV': 1}"
      ]
     },
     "execution_count": 56,
     "metadata": {},
     "output_type": "execute_result"
    }
   ],
   "source": [
    "# List to store all the shopping items \n",
    "items = []\n",
    "\n",
    "# Adding the items from every shopping cart into a list \n",
    "my_dirty_data['shopping_cart'].apply(lambda x:items.append(x))\n",
    "items[0]"
   ]
  },
  {
   "cell_type": "code",
   "execution_count": 57,
   "metadata": {},
   "outputs": [
    {
     "data": {
      "image/png": "[encoded data removed]",
      "text/plain": [
       "<Figure size 432x288 with 1 Axes>"
      ]
     },
     "metadata": {
      "needs_background": "light"
     },
     "output_type": "display_data"
    }
   ],
   "source": [
    "# For making a new figure\n",
    "plt.figure() \n",
    "# Plotting histogram for our order prices \n",
    "plt.hist(my_outlier_data['order_price'], color = 'blue') \n",
    "plt.title('Order Price Histogram') \n",
    "plt.xlabel('Order Price')\n",
    "plt.ylabel('Count')\n",
    "plt.grid()"
   ]
  },
  {
   "cell_type": "code",
   "execution_count": 58,
   "metadata": {},
   "outputs": [],
   "source": [
    "# Function for calculating the order price \n",
    "def order_price(row):\n",
    "    \n",
    "    # Initial calculated order price \n",
    "    calculated_order_price = 0\n",
    "    \n",
    "    # Iterating through the shopping cart \n",
    "    for key, value in row.shopping_cart.items():\n",
    "        calculated_order_price = calculated_order_price + items_prices[key]*value\n",
    "        \n",
    "    # Returning the calculated total order price \n",
    "    return calculated_order_price"
   ]
  },
  {
   "cell_type": "code",
   "execution_count": 59,
   "metadata": {},
   "outputs": [],
   "source": [
    "# Calculating the order prices of the shopping cart manually \n",
    "my_dirty_data['calculated_order_price'] = my_dirty_data.apply(lambda x : order_price(x), axis = 1)\n",
    "#my_dirty_data[[\"order_price\",\"calculated_order_price\"]].head()"
   ]
  },
  {
   "cell_type": "code",
   "execution_count": 60,
   "metadata": {},
   "outputs": [
    {
     "name": "stdout",
     "output_type": "stream",
     "text": [
      "(54, 20)\n"
     ]
    },
    {
     "data": {
      "text/html": [
       "<div>\n",
       "<style scoped>\n",
       "    .dataframe tbody tr th:only-of-type {\n",
       "        vertical-align: middle;\n",
       "    }\n",
       "\n",
       "    .dataframe tbody tr th {\n",
       "        vertical-align: top;\n",
       "    }\n",
       "\n",
       "    .dataframe thead th {\n",
       "        text-align: right;\n",
       "    }\n",
       "</style>\n",
       "<table border=\"1\" class=\"dataframe\">\n",
       "  <thead>\n",
       "    <tr style=\"text-align: right;\">\n",
       "      <th></th>\n",
       "      <th>shopping_cart</th>\n",
       "      <th>order_price</th>\n",
       "      <th>calculated_order_price</th>\n",
       "    </tr>\n",
       "  </thead>\n",
       "  <tbody>\n",
       "    <tr>\n",
       "      <th>21</th>\n",
       "      <td>{'Olivia x460': 1, 'Universe Note': 2}</td>\n",
       "      <td>7050</td>\n",
       "      <td>8125.0</td>\n",
       "    </tr>\n",
       "    <tr>\n",
       "      <th>26</th>\n",
       "      <td>{'Candle Inferno': 2, 'Alcon 10': 1}</td>\n",
       "      <td>13280</td>\n",
       "      <td>9810.0</td>\n",
       "    </tr>\n",
       "    <tr>\n",
       "      <th>27</th>\n",
       "      <td>{'iAssist Line': 1, 'Lucent 330S': 2, 'pearTV'...</td>\n",
       "      <td>32745</td>\n",
       "      <td>17305.0</td>\n",
       "    </tr>\n",
       "    <tr>\n",
       "      <th>34</th>\n",
       "      <td>{'Toshika 750': 1, 'iStream': 1}</td>\n",
       "      <td>4660</td>\n",
       "      <td>4470.0</td>\n",
       "    </tr>\n",
       "    <tr>\n",
       "      <th>39</th>\n",
       "      <td>{'iAssist Line': 2, 'pearTV': 1}</td>\n",
       "      <td>20790</td>\n",
       "      <td>10760.0</td>\n",
       "    </tr>\n",
       "  </tbody>\n",
       "</table>\n",
       "</div>"
      ],
      "text/plain": [
       "                                        shopping_cart  order_price  \\\n",
       "21             {'Olivia x460': 1, 'Universe Note': 2}         7050   \n",
       "26               {'Candle Inferno': 2, 'Alcon 10': 1}        13280   \n",
       "27  {'iAssist Line': 1, 'Lucent 330S': 2, 'pearTV'...        32745   \n",
       "34                   {'Toshika 750': 1, 'iStream': 1}         4660   \n",
       "39                   {'iAssist Line': 2, 'pearTV': 1}        20790   \n",
       "\n",
       "    calculated_order_price  \n",
       "21                  8125.0  \n",
       "26                  9810.0  \n",
       "27                 17305.0  \n",
       "34                  4470.0  \n",
       "39                 10760.0  "
      ]
     },
     "execution_count": 60,
     "metadata": {},
     "output_type": "execute_result"
    }
   ],
   "source": [
    "# Checking the correctness of the order price \n",
    "wrong_order_prices = my_dirty_data[(my_dirty_data.order_price != my_dirty_data.calculated_order_price)]\n",
    "print(wrong_order_prices.shape)\n",
    "wrong_order_prices[[\"shopping_cart\",\"order_price\",\"calculated_order_price\"]].head()"
   ]
  },
  {
   "cell_type": "markdown",
   "metadata": {},
   "source": [
    "* Thus, we can see that there are 54 incorrect order prices."
   ]
  },
  {
   "cell_type": "code",
   "execution_count": 61,
   "metadata": {},
   "outputs": [],
   "source": [
    "# Correcting the order_price\n",
    "wrong_price = (my_dirty_data.order_price != my_dirty_data.calculated_order_price)\n",
    "my_dirty_data.loc[wrong_price,'order_price'] = my_dirty_data['calculated_order_price']"
   ]
  },
  {
   "cell_type": "code",
   "execution_count": 62,
   "metadata": {},
   "outputs": [
    {
     "data": {
      "text/html": [
       "<div>\n",
       "<style scoped>\n",
       "    .dataframe tbody tr th:only-of-type {\n",
       "        vertical-align: middle;\n",
       "    }\n",
       "\n",
       "    .dataframe tbody tr th {\n",
       "        vertical-align: top;\n",
       "    }\n",
       "\n",
       "    .dataframe thead th {\n",
       "        text-align: right;\n",
       "    }\n",
       "</style>\n",
       "<table border=\"1\" class=\"dataframe\">\n",
       "  <thead>\n",
       "    <tr style=\"text-align: right;\">\n",
       "      <th></th>\n",
       "      <th>shopping_cart</th>\n",
       "      <th>order_price</th>\n",
       "      <th>calculated_order_price</th>\n",
       "    </tr>\n",
       "  </thead>\n",
       "  <tbody>\n",
       "    <tr>\n",
       "      <th>0</th>\n",
       "      <td>{'iAssist Line': 2, 'Toshika 750': 2, 'Candle ...</td>\n",
       "      <td>20260.0</td>\n",
       "      <td>20260.0</td>\n",
       "    </tr>\n",
       "    <tr>\n",
       "      <th>1</th>\n",
       "      <td>{'Universe Note': 1, 'Toshika 750': 1}</td>\n",
       "      <td>7770.0</td>\n",
       "      <td>7770.0</td>\n",
       "    </tr>\n",
       "    <tr>\n",
       "      <th>2</th>\n",
       "      <td>{'iAssist Line': 1, 'Lucent 330S': 1, 'pearTV'...</td>\n",
       "      <td>16225.0</td>\n",
       "      <td>16225.0</td>\n",
       "    </tr>\n",
       "    <tr>\n",
       "      <th>3</th>\n",
       "      <td>{'Olivia x460': 2, 'Lucent 330S': 2, 'iAssist ...</td>\n",
       "      <td>19755.0</td>\n",
       "      <td>19755.0</td>\n",
       "    </tr>\n",
       "    <tr>\n",
       "      <th>4</th>\n",
       "      <td>{'Alcon 10': 1, 'Toshika 750': 2, 'pearTV': 1}</td>\n",
       "      <td>23900.0</td>\n",
       "      <td>23900.0</td>\n",
       "    </tr>\n",
       "  </tbody>\n",
       "</table>\n",
       "</div>"
      ],
      "text/plain": [
       "                                       shopping_cart  order_price  \\\n",
       "0  {'iAssist Line': 2, 'Toshika 750': 2, 'Candle ...      20260.0   \n",
       "1             {'Universe Note': 1, 'Toshika 750': 1}       7770.0   \n",
       "2  {'iAssist Line': 1, 'Lucent 330S': 1, 'pearTV'...      16225.0   \n",
       "3  {'Olivia x460': 2, 'Lucent 330S': 2, 'iAssist ...      19755.0   \n",
       "4     {'Alcon 10': 1, 'Toshika 750': 2, 'pearTV': 1}      23900.0   \n",
       "\n",
       "   calculated_order_price  \n",
       "0                 20260.0  \n",
       "1                  7770.0  \n",
       "2                 16225.0  \n",
       "3                 19755.0  \n",
       "4                 23900.0  "
      ]
     },
     "execution_count": 62,
     "metadata": {},
     "output_type": "execute_result"
    }
   ],
   "source": [
    "# Checking if the corrections have been made or not \n",
    "my_dirty_data[[\"shopping_cart\",\"order_price\",\"calculated_order_price\"]].head()"
   ]
  },
  {
   "cell_type": "code",
   "execution_count": 63,
   "metadata": {},
   "outputs": [
    {
     "name": "stdout",
     "output_type": "stream",
     "text": [
      "(0, 20)\n"
     ]
    }
   ],
   "source": [
    "# Checking if the corrections have been made or not \n",
    "wrong_order_prices = my_dirty_data[(my_dirty_data.order_price != my_dirty_data.calculated_order_price)]\n",
    "print(wrong_order_prices.shape)"
   ]
  },
  {
   "cell_type": "markdown",
   "metadata": {},
   "source": [
    "### 2.1.5  Exploratory Data Analysis : Order Total <a class=\"anchor\" id=\"sec_215\"></a>\n",
    "**Examining the order total :  Applying Discount + Delivery**\n",
    "\n",
    "* Here, I first defined defined a function in order to calculate the order total. \n",
    "* First the discount is applied on the order price. Then, the delivery charges are added. \n",
    "* Thus the order total = discounted order price + delivery charge \n",
    "* I observed that there were some wrong order total calculations.\n",
    "* A total of 54 such wrong order totals were corrected."
   ]
  },
  {
   "cell_type": "code",
   "execution_count": 64,
   "metadata": {},
   "outputs": [
    {
     "data": {
      "image/png": "[encoded data removed]",
      "text/plain": [
       "<Figure size 432x288 with 1 Axes>"
      ]
     },
     "metadata": {
      "needs_background": "light"
     },
     "output_type": "display_data"
    }
   ],
   "source": [
    "# For making a new figure\n",
    "plt.figure() \n",
    "# Plotting histogram for our order totals \n",
    "plt.hist(my_outlier_data['order_total'], color = 'cyan') \n",
    "plt.title('Order Total Histogram') \n",
    "plt.xlabel('Order Total')\n",
    "plt.ylabel('Count')\n",
    "plt.grid()"
   ]
  },
  {
   "cell_type": "code",
   "execution_count": 65,
   "metadata": {},
   "outputs": [],
   "source": [
    "# Function to check the order total values\n",
    "def order_total(row):\n",
    "    # Discount Value\n",
    "    discount = (row[\"coupon_discount\"])/100\n",
    "    discount = 1 - discount\n",
    "    \n",
    "    # Initial calculated order price \n",
    "    calculated_order_total = 0\n",
    "    \n",
    "    # Applying the discount \n",
    "    temp_order_total = (row[\"order_price\"]*discount)\n",
    "    \n",
    "    calculated_order_total = temp_order_total + row[\"delivery_charges\"]\n",
    "    # Rounding the result \n",
    "    calculated_order_total = round(calculated_order_total,2)\n",
    "        \n",
    "    # Returning the calculated total order price \n",
    "    return calculated_order_total"
   ]
  },
  {
   "cell_type": "code",
   "execution_count": 66,
   "metadata": {},
   "outputs": [
    {
     "data": {
      "text/html": [
       "<div>\n",
       "<style scoped>\n",
       "    .dataframe tbody tr th:only-of-type {\n",
       "        vertical-align: middle;\n",
       "    }\n",
       "\n",
       "    .dataframe tbody tr th {\n",
       "        vertical-align: top;\n",
       "    }\n",
       "\n",
       "    .dataframe thead th {\n",
       "        text-align: right;\n",
       "    }\n",
       "</style>\n",
       "<table border=\"1\" class=\"dataframe\">\n",
       "  <thead>\n",
       "    <tr style=\"text-align: right;\">\n",
       "      <th></th>\n",
       "      <th>order_price</th>\n",
       "      <th>coupon_discount</th>\n",
       "      <th>delivery_charges</th>\n",
       "      <th>order_total</th>\n",
       "      <th>calculated_order_total</th>\n",
       "    </tr>\n",
       "  </thead>\n",
       "  <tbody>\n",
       "    <tr>\n",
       "      <th>0</th>\n",
       "      <td>20260.0</td>\n",
       "      <td>15</td>\n",
       "      <td>93.35</td>\n",
       "      <td>17314.35</td>\n",
       "      <td>17314.35</td>\n",
       "    </tr>\n",
       "    <tr>\n",
       "      <th>1</th>\n",
       "      <td>7770.0</td>\n",
       "      <td>10</td>\n",
       "      <td>94.88</td>\n",
       "      <td>7400.65</td>\n",
       "      <td>7087.88</td>\n",
       "    </tr>\n",
       "    <tr>\n",
       "      <th>2</th>\n",
       "      <td>16225.0</td>\n",
       "      <td>10</td>\n",
       "      <td>96.84</td>\n",
       "      <td>14699.34</td>\n",
       "      <td>14699.34</td>\n",
       "    </tr>\n",
       "    <tr>\n",
       "      <th>3</th>\n",
       "      <td>19755.0</td>\n",
       "      <td>10</td>\n",
       "      <td>76.57</td>\n",
       "      <td>17856.07</td>\n",
       "      <td>17856.07</td>\n",
       "    </tr>\n",
       "    <tr>\n",
       "      <th>4</th>\n",
       "      <td>23900.0</td>\n",
       "      <td>0</td>\n",
       "      <td>85.12</td>\n",
       "      <td>23985.12</td>\n",
       "      <td>23985.12</td>\n",
       "    </tr>\n",
       "  </tbody>\n",
       "</table>\n",
       "</div>"
      ],
      "text/plain": [
       "   order_price  coupon_discount  delivery_charges  order_total  \\\n",
       "0      20260.0               15             93.35     17314.35   \n",
       "1       7770.0               10             94.88      7400.65   \n",
       "2      16225.0               10             96.84     14699.34   \n",
       "3      19755.0               10             76.57     17856.07   \n",
       "4      23900.0                0             85.12     23985.12   \n",
       "\n",
       "   calculated_order_total  \n",
       "0                17314.35  \n",
       "1                 7087.88  \n",
       "2                14699.34  \n",
       "3                17856.07  \n",
       "4                23985.12  "
      ]
     },
     "execution_count": 66,
     "metadata": {},
     "output_type": "execute_result"
    }
   ],
   "source": [
    "# Calculating the order total of the shopping cart manually \n",
    "my_dirty_data['calculated_order_total'] = my_dirty_data.apply(lambda x : order_total(x), axis = 1)\n",
    "my_dirty_data[[\"order_price\",\"coupon_discount\",\"delivery_charges\",\"order_total\",\"calculated_order_total\"]].head()"
   ]
  },
  {
   "cell_type": "code",
   "execution_count": 67,
   "metadata": {},
   "outputs": [
    {
     "name": "stdout",
     "output_type": "stream",
     "text": [
      "(54, 21)\n"
     ]
    },
    {
     "data": {
      "text/html": [
       "<div>\n",
       "<style scoped>\n",
       "    .dataframe tbody tr th:only-of-type {\n",
       "        vertical-align: middle;\n",
       "    }\n",
       "\n",
       "    .dataframe tbody tr th {\n",
       "        vertical-align: top;\n",
       "    }\n",
       "\n",
       "    .dataframe thead th {\n",
       "        text-align: right;\n",
       "    }\n",
       "</style>\n",
       "<table border=\"1\" class=\"dataframe\">\n",
       "  <thead>\n",
       "    <tr style=\"text-align: right;\">\n",
       "      <th></th>\n",
       "      <th>order_price</th>\n",
       "      <th>coupon_discount</th>\n",
       "      <th>delivery_charges</th>\n",
       "      <th>order_total</th>\n",
       "      <th>calculated_order_total</th>\n",
       "    </tr>\n",
       "  </thead>\n",
       "  <tbody>\n",
       "    <tr>\n",
       "      <th>1</th>\n",
       "      <td>7770.0</td>\n",
       "      <td>10</td>\n",
       "      <td>94.88</td>\n",
       "      <td>7400.65</td>\n",
       "      <td>7087.88</td>\n",
       "    </tr>\n",
       "    <tr>\n",
       "      <th>20</th>\n",
       "      <td>16675.0</td>\n",
       "      <td>10</td>\n",
       "      <td>48.87</td>\n",
       "      <td>17249.71</td>\n",
       "      <td>15056.37</td>\n",
       "    </tr>\n",
       "    <tr>\n",
       "      <th>21</th>\n",
       "      <td>8125.0</td>\n",
       "      <td>10</td>\n",
       "      <td>81.36</td>\n",
       "      <td>6426.36</td>\n",
       "      <td>7393.86</td>\n",
       "    </tr>\n",
       "    <tr>\n",
       "      <th>27</th>\n",
       "      <td>17305.0</td>\n",
       "      <td>25</td>\n",
       "      <td>74.38</td>\n",
       "      <td>24633.13</td>\n",
       "      <td>13053.13</td>\n",
       "    </tr>\n",
       "    <tr>\n",
       "      <th>38</th>\n",
       "      <td>16280.0</td>\n",
       "      <td>10</td>\n",
       "      <td>78.21</td>\n",
       "      <td>7039.84</td>\n",
       "      <td>14730.21</td>\n",
       "    </tr>\n",
       "  </tbody>\n",
       "</table>\n",
       "</div>"
      ],
      "text/plain": [
       "    order_price  coupon_discount  delivery_charges  order_total  \\\n",
       "1        7770.0               10             94.88      7400.65   \n",
       "20      16675.0               10             48.87     17249.71   \n",
       "21       8125.0               10             81.36      6426.36   \n",
       "27      17305.0               25             74.38     24633.13   \n",
       "38      16280.0               10             78.21      7039.84   \n",
       "\n",
       "    calculated_order_total  \n",
       "1                  7087.88  \n",
       "20                15056.37  \n",
       "21                 7393.86  \n",
       "27                13053.13  \n",
       "38                14730.21  "
      ]
     },
     "execution_count": 67,
     "metadata": {},
     "output_type": "execute_result"
    }
   ],
   "source": [
    "# Checking for incorrect order totals\n",
    "incorrect_totals = my_dirty_data[((my_dirty_data.order_total != my_dirty_data.calculated_order_total) ) ]\n",
    "print(incorrect_totals.shape)\n",
    "incorrect_totals[[\"order_price\",\"coupon_discount\",\"delivery_charges\",\"order_total\",\"calculated_order_total\"]].head()"
   ]
  },
  {
   "cell_type": "code",
   "execution_count": 68,
   "metadata": {},
   "outputs": [],
   "source": [
    "# Correcting the order_totals \n",
    "wrong_totals = (my_dirty_data.order_total!=my_dirty_data.calculated_order_total)\n",
    "my_dirty_data.loc[wrong_totals,'order_total'] = my_dirty_data['calculated_order_total']"
   ]
  },
  {
   "cell_type": "code",
   "execution_count": 69,
   "metadata": {},
   "outputs": [
    {
     "data": {
      "text/html": [
       "<div>\n",
       "<style scoped>\n",
       "    .dataframe tbody tr th:only-of-type {\n",
       "        vertical-align: middle;\n",
       "    }\n",
       "\n",
       "    .dataframe tbody tr th {\n",
       "        vertical-align: top;\n",
       "    }\n",
       "\n",
       "    .dataframe thead th {\n",
       "        text-align: right;\n",
       "    }\n",
       "</style>\n",
       "<table border=\"1\" class=\"dataframe\">\n",
       "  <thead>\n",
       "    <tr style=\"text-align: right;\">\n",
       "      <th></th>\n",
       "      <th>order_price</th>\n",
       "      <th>coupon_discount</th>\n",
       "      <th>delivery_charges</th>\n",
       "      <th>order_total</th>\n",
       "      <th>calculated_order_total</th>\n",
       "    </tr>\n",
       "  </thead>\n",
       "  <tbody>\n",
       "    <tr>\n",
       "      <th>0</th>\n",
       "      <td>20260.0</td>\n",
       "      <td>15</td>\n",
       "      <td>93.35</td>\n",
       "      <td>17314.35</td>\n",
       "      <td>17314.35</td>\n",
       "    </tr>\n",
       "    <tr>\n",
       "      <th>1</th>\n",
       "      <td>7770.0</td>\n",
       "      <td>10</td>\n",
       "      <td>94.88</td>\n",
       "      <td>7087.88</td>\n",
       "      <td>7087.88</td>\n",
       "    </tr>\n",
       "    <tr>\n",
       "      <th>2</th>\n",
       "      <td>16225.0</td>\n",
       "      <td>10</td>\n",
       "      <td>96.84</td>\n",
       "      <td>14699.34</td>\n",
       "      <td>14699.34</td>\n",
       "    </tr>\n",
       "    <tr>\n",
       "      <th>3</th>\n",
       "      <td>19755.0</td>\n",
       "      <td>10</td>\n",
       "      <td>76.57</td>\n",
       "      <td>17856.07</td>\n",
       "      <td>17856.07</td>\n",
       "    </tr>\n",
       "    <tr>\n",
       "      <th>4</th>\n",
       "      <td>23900.0</td>\n",
       "      <td>0</td>\n",
       "      <td>85.12</td>\n",
       "      <td>23985.12</td>\n",
       "      <td>23985.12</td>\n",
       "    </tr>\n",
       "    <tr>\n",
       "      <th>5</th>\n",
       "      <td>1655.0</td>\n",
       "      <td>10</td>\n",
       "      <td>80.33</td>\n",
       "      <td>1569.83</td>\n",
       "      <td>1569.83</td>\n",
       "    </tr>\n",
       "    <tr>\n",
       "      <th>6</th>\n",
       "      <td>15850.0</td>\n",
       "      <td>25</td>\n",
       "      <td>57.90</td>\n",
       "      <td>11945.40</td>\n",
       "      <td>11945.40</td>\n",
       "    </tr>\n",
       "    <tr>\n",
       "      <th>7</th>\n",
       "      <td>22440.0</td>\n",
       "      <td>25</td>\n",
       "      <td>81.05</td>\n",
       "      <td>16911.05</td>\n",
       "      <td>16911.05</td>\n",
       "    </tr>\n",
       "    <tr>\n",
       "      <th>8</th>\n",
       "      <td>5310.0</td>\n",
       "      <td>10</td>\n",
       "      <td>73.60</td>\n",
       "      <td>4852.60</td>\n",
       "      <td>4852.60</td>\n",
       "    </tr>\n",
       "    <tr>\n",
       "      <th>9</th>\n",
       "      <td>10170.0</td>\n",
       "      <td>10</td>\n",
       "      <td>93.88</td>\n",
       "      <td>9246.88</td>\n",
       "      <td>9246.88</td>\n",
       "    </tr>\n",
       "  </tbody>\n",
       "</table>\n",
       "</div>"
      ],
      "text/plain": [
       "   order_price  coupon_discount  delivery_charges  order_total  \\\n",
       "0      20260.0               15             93.35     17314.35   \n",
       "1       7770.0               10             94.88      7087.88   \n",
       "2      16225.0               10             96.84     14699.34   \n",
       "3      19755.0               10             76.57     17856.07   \n",
       "4      23900.0                0             85.12     23985.12   \n",
       "5       1655.0               10             80.33      1569.83   \n",
       "6      15850.0               25             57.90     11945.40   \n",
       "7      22440.0               25             81.05     16911.05   \n",
       "8       5310.0               10             73.60      4852.60   \n",
       "9      10170.0               10             93.88      9246.88   \n",
       "\n",
       "   calculated_order_total  \n",
       "0                17314.35  \n",
       "1                 7087.88  \n",
       "2                14699.34  \n",
       "3                17856.07  \n",
       "4                23985.12  \n",
       "5                 1569.83  \n",
       "6                11945.40  \n",
       "7                16911.05  \n",
       "8                 4852.60  \n",
       "9                 9246.88  "
      ]
     },
     "execution_count": 69,
     "metadata": {},
     "output_type": "execute_result"
    }
   ],
   "source": [
    "# Checking if the corrections have been made \n",
    "my_dirty_data[[\"order_price\",\"coupon_discount\",\"delivery_charges\",\"order_total\",\"calculated_order_total\"]].head(10)"
   ]
  },
  {
   "cell_type": "code",
   "execution_count": 70,
   "metadata": {},
   "outputs": [],
   "source": [
    "# Dropping all the extra columns which were used for order total \n",
    "del my_dirty_data['calculated_order_total']"
   ]
  },
  {
   "cell_type": "markdown",
   "metadata": {},
   "source": [
    "### 2.1.6 Exploratory Data Analysis : Customer locations <a class=\"anchor\" id=\"sec_216\"></a>\n",
    "**Examining the geographical locations of the customers:**\n",
    "\n",
    "**Checking: Customer Coordinates**\n",
    "\n",
    "* First, I checked the geographical locations of the customers.\n",
    "* Since Melbourne lies in the Southern Hemisphere:\n",
    "    * The latitude values are lesser than zero\n",
    "    * The longitude values are greater than zero \n",
    "* Certain customer latitude and longitude values were exchanged.\n",
    "* A total of around 27 such corrections were made."
   ]
  },
  {
   "cell_type": "code",
   "execution_count": 71,
   "metadata": {},
   "outputs": [
    {
     "data": {
      "text/html": [
       "<div>\n",
       "<style scoped>\n",
       "    .dataframe tbody tr th:only-of-type {\n",
       "        vertical-align: middle;\n",
       "    }\n",
       "\n",
       "    .dataframe tbody tr th {\n",
       "        vertical-align: top;\n",
       "    }\n",
       "\n",
       "    .dataframe thead th {\n",
       "        text-align: right;\n",
       "    }\n",
       "</style>\n",
       "<table border=\"1\" class=\"dataframe\">\n",
       "  <thead>\n",
       "    <tr style=\"text-align: right;\">\n",
       "      <th></th>\n",
       "      <th>names</th>\n",
       "      <th>lat</th>\n",
       "      <th>lon</th>\n",
       "    </tr>\n",
       "  </thead>\n",
       "  <tbody>\n",
       "    <tr>\n",
       "      <th>0</th>\n",
       "      <td>Nickolson</td>\n",
       "      <td>-37.818595</td>\n",
       "      <td>144.969551</td>\n",
       "    </tr>\n",
       "    <tr>\n",
       "      <th>1</th>\n",
       "      <td>Thompson</td>\n",
       "      <td>-37.812673</td>\n",
       "      <td>144.947069</td>\n",
       "    </tr>\n",
       "    <tr>\n",
       "      <th>2</th>\n",
       "      <td>Bakers</td>\n",
       "      <td>-37.809996</td>\n",
       "      <td>144.995232</td>\n",
       "    </tr>\n",
       "  </tbody>\n",
       "</table>\n",
       "</div>"
      ],
      "text/plain": [
       "       names        lat         lon\n",
       "0  Nickolson -37.818595  144.969551\n",
       "1   Thompson -37.812673  144.947069\n",
       "2     Bakers -37.809996  144.995232"
      ]
     },
     "execution_count": 71,
     "metadata": {},
     "output_type": "execute_result"
    }
   ],
   "source": [
    "# Loading the warehouse locations\n",
    "warehouse_data = pd.read_csv(\"warehouses.csv\")\n",
    "warehouse_data"
   ]
  },
  {
   "cell_type": "code",
   "execution_count": 72,
   "metadata": {},
   "outputs": [
    {
     "data": {
      "text/html": [
       "<div>\n",
       "<style scoped>\n",
       "    .dataframe tbody tr th:only-of-type {\n",
       "        vertical-align: middle;\n",
       "    }\n",
       "\n",
       "    .dataframe tbody tr th {\n",
       "        vertical-align: top;\n",
       "    }\n",
       "\n",
       "    .dataframe thead th {\n",
       "        text-align: right;\n",
       "    }\n",
       "</style>\n",
       "<table border=\"1\" class=\"dataframe\">\n",
       "  <thead>\n",
       "    <tr style=\"text-align: right;\">\n",
       "      <th></th>\n",
       "      <th>customer_id</th>\n",
       "      <th>customer_lat</th>\n",
       "      <th>customer_long</th>\n",
       "    </tr>\n",
       "  </thead>\n",
       "  <tbody>\n",
       "    <tr>\n",
       "      <th>0</th>\n",
       "      <td>ID0580179515</td>\n",
       "      <td>-37.795421</td>\n",
       "      <td>144.931133</td>\n",
       "    </tr>\n",
       "    <tr>\n",
       "      <th>1</th>\n",
       "      <td>ID0576859255</td>\n",
       "      <td>-37.824575</td>\n",
       "      <td>144.988494</td>\n",
       "    </tr>\n",
       "    <tr>\n",
       "      <th>2</th>\n",
       "      <td>ID0767584984</td>\n",
       "      <td>-37.807330</td>\n",
       "      <td>144.972411</td>\n",
       "    </tr>\n",
       "    <tr>\n",
       "      <th>3</th>\n",
       "      <td>ID0309346901</td>\n",
       "      <td>-37.813628</td>\n",
       "      <td>145.004762</td>\n",
       "    </tr>\n",
       "    <tr>\n",
       "      <th>4</th>\n",
       "      <td>ID0363385474</td>\n",
       "      <td>-37.799351</td>\n",
       "      <td>144.959494</td>\n",
       "    </tr>\n",
       "    <tr>\n",
       "      <th>5</th>\n",
       "      <td>ID4418536057</td>\n",
       "      <td>-37.802603</td>\n",
       "      <td>144.963264</td>\n",
       "    </tr>\n",
       "    <tr>\n",
       "      <th>6</th>\n",
       "      <td>ID2936341079</td>\n",
       "      <td>144.967740</td>\n",
       "      <td>-37.818488</td>\n",
       "    </tr>\n",
       "    <tr>\n",
       "      <th>7</th>\n",
       "      <td>ID0529205069</td>\n",
       "      <td>-37.823397</td>\n",
       "      <td>144.935580</td>\n",
       "    </tr>\n",
       "    <tr>\n",
       "      <th>8</th>\n",
       "      <td>ID2776394279</td>\n",
       "      <td>-37.812029</td>\n",
       "      <td>144.963586</td>\n",
       "    </tr>\n",
       "    <tr>\n",
       "      <th>9</th>\n",
       "      <td>ID6167344520</td>\n",
       "      <td>-37.811768</td>\n",
       "      <td>144.967780</td>\n",
       "    </tr>\n",
       "  </tbody>\n",
       "</table>\n",
       "</div>"
      ],
      "text/plain": [
       "    customer_id  customer_lat  customer_long\n",
       "0  ID0580179515    -37.795421     144.931133\n",
       "1  ID0576859255    -37.824575     144.988494\n",
       "2  ID0767584984    -37.807330     144.972411\n",
       "3  ID0309346901    -37.813628     145.004762\n",
       "4  ID0363385474    -37.799351     144.959494\n",
       "5  ID4418536057    -37.802603     144.963264\n",
       "6  ID2936341079    144.967740     -37.818488\n",
       "7  ID0529205069    -37.823397     144.935580\n",
       "8  ID2776394279    -37.812029     144.963586\n",
       "9  ID6167344520    -37.811768     144.967780"
      ]
     },
     "execution_count": 72,
     "metadata": {},
     "output_type": "execute_result"
    }
   ],
   "source": [
    "my_dirty_data[[\"customer_id\",\"customer_lat\",\"customer_long\"]].head(10)"
   ]
  },
  {
   "cell_type": "code",
   "execution_count": 73,
   "metadata": {},
   "outputs": [
    {
     "name": "stdout",
     "output_type": "stream",
     "text": [
      "(27, 20)\n"
     ]
    },
    {
     "data": {
      "text/html": [
       "<div>\n",
       "<style scoped>\n",
       "    .dataframe tbody tr th:only-of-type {\n",
       "        vertical-align: middle;\n",
       "    }\n",
       "\n",
       "    .dataframe tbody tr th {\n",
       "        vertical-align: top;\n",
       "    }\n",
       "\n",
       "    .dataframe thead th {\n",
       "        text-align: right;\n",
       "    }\n",
       "</style>\n",
       "<table border=\"1\" class=\"dataframe\">\n",
       "  <thead>\n",
       "    <tr style=\"text-align: right;\">\n",
       "      <th></th>\n",
       "      <th>order_id</th>\n",
       "      <th>customer_id</th>\n",
       "      <th>nearest_warehouse</th>\n",
       "      <th>shopping_cart</th>\n",
       "      <th>order_price</th>\n",
       "      <th>delivery_charges</th>\n",
       "      <th>customer_lat</th>\n",
       "      <th>customer_long</th>\n",
       "      <th>coupon_discount</th>\n",
       "      <th>order_total</th>\n",
       "      <th>season</th>\n",
       "      <th>is_expedited_delivery</th>\n",
       "      <th>distance_to_nearest_warehouse</th>\n",
       "      <th>latest_customer_review</th>\n",
       "      <th>is_happy_customer</th>\n",
       "      <th>date</th>\n",
       "      <th>month</th>\n",
       "      <th>year</th>\n",
       "      <th>day</th>\n",
       "      <th>calculated_order_price</th>\n",
       "    </tr>\n",
       "  </thead>\n",
       "  <tbody>\n",
       "    <tr>\n",
       "      <th>6</th>\n",
       "      <td>ORD233898</td>\n",
       "      <td>ID2936341079</td>\n",
       "      <td>Nickolson</td>\n",
       "      <td>{'Universe Note': 2, 'Alcon 10': 1}</td>\n",
       "      <td>15850.0</td>\n",
       "      <td>57.90</td>\n",
       "      <td>144.967740</td>\n",
       "      <td>-37.818488</td>\n",
       "      <td>25</td>\n",
       "      <td>11945.40</td>\n",
       "      <td>Winter</td>\n",
       "      <td>True</td>\n",
       "      <td>0.1597</td>\n",
       "      <td>this is a good tablet for the price, however, ...</td>\n",
       "      <td>False</td>\n",
       "      <td>2019-08-17</td>\n",
       "      <td>8</td>\n",
       "      <td>2019</td>\n",
       "      <td>17</td>\n",
       "      <td>15850.0</td>\n",
       "    </tr>\n",
       "    <tr>\n",
       "      <th>22</th>\n",
       "      <td>ORD267770</td>\n",
       "      <td>ID4826905602</td>\n",
       "      <td>Nickolson</td>\n",
       "      <td>{'Lucent 330S': 2, 'Toshika 750': 2, 'Thunder ...</td>\n",
       "      <td>13280.0</td>\n",
       "      <td>63.73</td>\n",
       "      <td>144.961989</td>\n",
       "      <td>-37.820818</td>\n",
       "      <td>0</td>\n",
       "      <td>13343.73</td>\n",
       "      <td>Autumn</td>\n",
       "      <td>False</td>\n",
       "      <td>0.7095</td>\n",
       "      <td>it gets very hot but doesn't seem to be workin...</td>\n",
       "      <td>True</td>\n",
       "      <td>2019-05-15</td>\n",
       "      <td>5</td>\n",
       "      <td>2019</td>\n",
       "      <td>15</td>\n",
       "      <td>13280.0</td>\n",
       "    </tr>\n",
       "  </tbody>\n",
       "</table>\n",
       "</div>"
      ],
      "text/plain": [
       "     order_id   customer_id nearest_warehouse  \\\n",
       "6   ORD233898  ID2936341079         Nickolson   \n",
       "22  ORD267770  ID4826905602         Nickolson   \n",
       "\n",
       "                                        shopping_cart  order_price  \\\n",
       "6                 {'Universe Note': 2, 'Alcon 10': 1}      15850.0   \n",
       "22  {'Lucent 330S': 2, 'Toshika 750': 2, 'Thunder ...      13280.0   \n",
       "\n",
       "    delivery_charges  customer_lat  customer_long  coupon_discount  \\\n",
       "6              57.90    144.967740     -37.818488               25   \n",
       "22             63.73    144.961989     -37.820818                0   \n",
       "\n",
       "    order_total  season  is_expedited_delivery  distance_to_nearest_warehouse  \\\n",
       "6      11945.40  Winter                   True                         0.1597   \n",
       "22     13343.73  Autumn                  False                         0.7095   \n",
       "\n",
       "                               latest_customer_review  is_happy_customer  \\\n",
       "6   this is a good tablet for the price, however, ...              False   \n",
       "22  it gets very hot but doesn't seem to be workin...               True   \n",
       "\n",
       "         date  month  year  day  calculated_order_price  \n",
       "6  2019-08-17      8  2019   17                 15850.0  \n",
       "22 2019-05-15      5  2019   15                 13280.0  "
      ]
     },
     "execution_count": 73,
     "metadata": {},
     "output_type": "execute_result"
    }
   ],
   "source": [
    "# Checking for incorrect locations\n",
    "swapped_locations = my_dirty_data[((my_dirty_data.customer_lat > 0) | (my_dirty_data.customer_long < 0)) ]\n",
    "print(swapped_locations.shape)\n",
    "swapped_locations.head(2)"
   ]
  },
  {
   "cell_type": "markdown",
   "metadata": {},
   "source": [
    "* Number of faulty rows: 27\n",
    "* Here, we have 27 rows where the customer longitude and latitude values have been inter-changed."
   ]
  },
  {
   "cell_type": "code",
   "execution_count": 74,
   "metadata": {},
   "outputs": [],
   "source": [
    "# https://www.thetopsites.net/article/58381333.shtml\n",
    "# Correcting the customer locations\n",
    "wrong_locations = ( (my_dirty_data.customer_lat > 0) | (my_dirty_data.customer_long < 0) )\n",
    "my_dirty_data.loc[wrong_locations, ['customer_lat', 'customer_long']] = my_dirty_data.loc[wrong_locations, ['customer_long', 'customer_lat']].values"
   ]
  },
  {
   "cell_type": "markdown",
   "metadata": {},
   "source": [
    "* We now swap the latitude and longitude locations in order to get the correct locations!"
   ]
  },
  {
   "cell_type": "code",
   "execution_count": 75,
   "metadata": {},
   "outputs": [
    {
     "name": "stdout",
     "output_type": "stream",
     "text": [
      "(0, 20)\n"
     ]
    }
   ],
   "source": [
    "swapped_locations = my_dirty_data[((my_dirty_data.customer_lat > 0) | (my_dirty_data.customer_long < 0)) ]\n",
    "print(swapped_locations.shape)"
   ]
  },
  {
   "cell_type": "markdown",
   "metadata": {},
   "source": [
    "* Thus, the faulty customer locations have now been corrected!"
   ]
  },
  {
   "cell_type": "markdown",
   "metadata": {},
   "source": [
    "### 2.1.7 Exploratory Data Analysis : Warehouse Names and locations <a class=\"anchor\" id=\"sec_217\"></a>\n",
    "**Examining the warehouse names and the distance to the nearest warehouse:**"
   ]
  },
  {
   "cell_type": "markdown",
   "metadata": {},
   "source": [
    "**Checking : Warehouse names:**\n",
    "* Now, we need to find the warehouse that is closest to the customer.\n",
    "* Hence, I have used the haversine distance formula to calculate the distance between two geographical locations.\n",
    "* I have then calculated the distance to each of the warehouses for every customer.\n",
    "* After getting these individual distances, I have then calculated the least distance.\n",
    "* From this least distance, I have calculated the nearest warehouse.\n",
    "* I observed that certain nearby warehouses have been wrongly named. \n",
    "* A total of 22 such wrongly named nearby warehouses were corrected. \n",
    "\n",
    "**Checking : Distance to nearest warehouse**\n",
    "* After correcting the nearest warehouse names, I now checked if the distance to these nearest warehouses had been correctly calculated or not. \n",
    "* I observed that a total of around 43 distances were incorrectly calculated. \n",
    "* These distances were then corrected."
   ]
  },
  {
   "cell_type": "code",
   "execution_count": 76,
   "metadata": {},
   "outputs": [
    {
     "data": {
      "image/png": "[encoded data removed]",
      "text/plain": [
       "<Figure size 432x288 with 1 Axes>"
      ]
     },
     "metadata": {
      "needs_background": "light"
     },
     "output_type": "display_data"
    }
   ],
   "source": [
    "w = dict( my_dirty_data.nearest_warehouse.value_counts() )\n",
    "\n",
    "# Bar Plot of the various nearby warehouses \n",
    "colors ='bgr'\n",
    "\n",
    "keys = w.keys()\n",
    "values = w.values()\n",
    "plt.bar(keys, values, color = colors)\n",
    "plt.xticks(rotation = 90)\n",
    "\n",
    "plt.title('Various nearby warehouses') \n",
    "plt.xlabel('warehouse names')\n",
    "plt.ylabel('count')\n",
    "plt.grid()"
   ]
  },
  {
   "cell_type": "code",
   "execution_count": 77,
   "metadata": {},
   "outputs": [
    {
     "data": {
      "text/html": [
       "<div>\n",
       "<style scoped>\n",
       "    .dataframe tbody tr th:only-of-type {\n",
       "        vertical-align: middle;\n",
       "    }\n",
       "\n",
       "    .dataframe tbody tr th {\n",
       "        vertical-align: top;\n",
       "    }\n",
       "\n",
       "    .dataframe thead th {\n",
       "        text-align: right;\n",
       "    }\n",
       "</style>\n",
       "<table border=\"1\" class=\"dataframe\">\n",
       "  <thead>\n",
       "    <tr style=\"text-align: right;\">\n",
       "      <th></th>\n",
       "      <th>customer_id</th>\n",
       "      <th>customer_lat</th>\n",
       "      <th>customer_long</th>\n",
       "      <th>nearest_warehouse</th>\n",
       "    </tr>\n",
       "  </thead>\n",
       "  <tbody>\n",
       "    <tr>\n",
       "      <th>0</th>\n",
       "      <td>ID0580179515</td>\n",
       "      <td>-37.795421</td>\n",
       "      <td>144.931133</td>\n",
       "      <td>Thompson</td>\n",
       "    </tr>\n",
       "    <tr>\n",
       "      <th>1</th>\n",
       "      <td>ID0576859255</td>\n",
       "      <td>-37.824575</td>\n",
       "      <td>144.988494</td>\n",
       "      <td>Bakers</td>\n",
       "    </tr>\n",
       "    <tr>\n",
       "      <th>2</th>\n",
       "      <td>ID0767584984</td>\n",
       "      <td>-37.807330</td>\n",
       "      <td>144.972411</td>\n",
       "      <td>Nickolson</td>\n",
       "    </tr>\n",
       "    <tr>\n",
       "      <th>3</th>\n",
       "      <td>ID0309346901</td>\n",
       "      <td>-37.813628</td>\n",
       "      <td>145.004762</td>\n",
       "      <td>Bakers</td>\n",
       "    </tr>\n",
       "    <tr>\n",
       "      <th>4</th>\n",
       "      <td>ID0363385474</td>\n",
       "      <td>-37.799351</td>\n",
       "      <td>144.959494</td>\n",
       "      <td>Thompson</td>\n",
       "    </tr>\n",
       "  </tbody>\n",
       "</table>\n",
       "</div>"
      ],
      "text/plain": [
       "    customer_id  customer_lat  customer_long nearest_warehouse\n",
       "0  ID0580179515    -37.795421     144.931133          Thompson\n",
       "1  ID0576859255    -37.824575     144.988494            Bakers\n",
       "2  ID0767584984    -37.807330     144.972411         Nickolson\n",
       "3  ID0309346901    -37.813628     145.004762            Bakers\n",
       "4  ID0363385474    -37.799351     144.959494          Thompson"
      ]
     },
     "execution_count": 77,
     "metadata": {},
     "output_type": "execute_result"
    }
   ],
   "source": [
    "# Viewing the data \n",
    "my_dirty_data[[\"customer_id\",\"customer_lat\",\"customer_long\",\"nearest_warehouse\"]].head()"
   ]
  },
  {
   "cell_type": "markdown",
   "metadata": {},
   "source": [
    "**Observations:**\n",
    "* Now, we have a table of customers and the nearest warehouse.\n"
   ]
  },
  {
   "cell_type": "code",
   "execution_count": 78,
   "metadata": {},
   "outputs": [],
   "source": [
    "# Merging the two dataframes in order to get the warehouse locations\n",
    "# https://stackoverflow.com/questions/41463119/join-two-dataframes-on-common-column-in-python\n",
    "my_dirty_data['warehouse_lat'] = my_dirty_data.nearest_warehouse.map(warehouse_data.set_index('names')['lat'])\n",
    "my_dirty_data['warehouse_long'] = my_dirty_data.nearest_warehouse.map(warehouse_data.set_index('names')['lon'])"
   ]
  },
  {
   "cell_type": "code",
   "execution_count": 79,
   "metadata": {},
   "outputs": [
    {
     "data": {
      "text/html": [
       "<div>\n",
       "<style scoped>\n",
       "    .dataframe tbody tr th:only-of-type {\n",
       "        vertical-align: middle;\n",
       "    }\n",
       "\n",
       "    .dataframe tbody tr th {\n",
       "        vertical-align: top;\n",
       "    }\n",
       "\n",
       "    .dataframe thead th {\n",
       "        text-align: right;\n",
       "    }\n",
       "</style>\n",
       "<table border=\"1\" class=\"dataframe\">\n",
       "  <thead>\n",
       "    <tr style=\"text-align: right;\">\n",
       "      <th></th>\n",
       "      <th>customer_id</th>\n",
       "      <th>customer_lat</th>\n",
       "      <th>customer_long</th>\n",
       "      <th>nearest_warehouse</th>\n",
       "      <th>warehouse_lat</th>\n",
       "      <th>warehouse_long</th>\n",
       "    </tr>\n",
       "  </thead>\n",
       "  <tbody>\n",
       "    <tr>\n",
       "      <th>0</th>\n",
       "      <td>ID0580179515</td>\n",
       "      <td>-37.795421</td>\n",
       "      <td>144.931133</td>\n",
       "      <td>Thompson</td>\n",
       "      <td>-37.812673</td>\n",
       "      <td>144.947069</td>\n",
       "    </tr>\n",
       "    <tr>\n",
       "      <th>1</th>\n",
       "      <td>ID0576859255</td>\n",
       "      <td>-37.824575</td>\n",
       "      <td>144.988494</td>\n",
       "      <td>Bakers</td>\n",
       "      <td>-37.809996</td>\n",
       "      <td>144.995232</td>\n",
       "    </tr>\n",
       "    <tr>\n",
       "      <th>2</th>\n",
       "      <td>ID0767584984</td>\n",
       "      <td>-37.807330</td>\n",
       "      <td>144.972411</td>\n",
       "      <td>Nickolson</td>\n",
       "      <td>-37.818595</td>\n",
       "      <td>144.969551</td>\n",
       "    </tr>\n",
       "    <tr>\n",
       "      <th>3</th>\n",
       "      <td>ID0309346901</td>\n",
       "      <td>-37.813628</td>\n",
       "      <td>145.004762</td>\n",
       "      <td>Bakers</td>\n",
       "      <td>-37.809996</td>\n",
       "      <td>144.995232</td>\n",
       "    </tr>\n",
       "    <tr>\n",
       "      <th>4</th>\n",
       "      <td>ID0363385474</td>\n",
       "      <td>-37.799351</td>\n",
       "      <td>144.959494</td>\n",
       "      <td>Thompson</td>\n",
       "      <td>-37.812673</td>\n",
       "      <td>144.947069</td>\n",
       "    </tr>\n",
       "    <tr>\n",
       "      <th>5</th>\n",
       "      <td>ID4418536057</td>\n",
       "      <td>-37.802603</td>\n",
       "      <td>144.963264</td>\n",
       "      <td>Thompson</td>\n",
       "      <td>-37.812673</td>\n",
       "      <td>144.947069</td>\n",
       "    </tr>\n",
       "    <tr>\n",
       "      <th>6</th>\n",
       "      <td>ID2936341079</td>\n",
       "      <td>-37.818488</td>\n",
       "      <td>144.967740</td>\n",
       "      <td>Nickolson</td>\n",
       "      <td>-37.818595</td>\n",
       "      <td>144.969551</td>\n",
       "    </tr>\n",
       "  </tbody>\n",
       "</table>\n",
       "</div>"
      ],
      "text/plain": [
       "    customer_id  customer_lat  customer_long nearest_warehouse  warehouse_lat  \\\n",
       "0  ID0580179515    -37.795421     144.931133          Thompson     -37.812673   \n",
       "1  ID0576859255    -37.824575     144.988494            Bakers     -37.809996   \n",
       "2  ID0767584984    -37.807330     144.972411         Nickolson     -37.818595   \n",
       "3  ID0309346901    -37.813628     145.004762            Bakers     -37.809996   \n",
       "4  ID0363385474    -37.799351     144.959494          Thompson     -37.812673   \n",
       "5  ID4418536057    -37.802603     144.963264          Thompson     -37.812673   \n",
       "6  ID2936341079    -37.818488     144.967740         Nickolson     -37.818595   \n",
       "\n",
       "   warehouse_long  \n",
       "0      144.947069  \n",
       "1      144.995232  \n",
       "2      144.969551  \n",
       "3      144.995232  \n",
       "4      144.947069  \n",
       "5      144.947069  \n",
       "6      144.969551  "
      ]
     },
     "execution_count": 79,
     "metadata": {},
     "output_type": "execute_result"
    }
   ],
   "source": [
    "# Viewing the contents\n",
    "my_dirty_data[[\"customer_id\",\"customer_lat\",\"customer_long\",\"nearest_warehouse\",\"warehouse_lat\",\"warehouse_long\"]].head(7)"
   ]
  },
  {
   "cell_type": "markdown",
   "metadata": {},
   "source": [
    "* I have further merged the two tables : the dirty data table and the warehouse table.\n",
    "* Now, we can view the following:\n",
    "    * Customer\n",
    "    * Customer location\n",
    "    * Nearest warehouse\n",
    "    * Nearesr warehouse location  "
   ]
  },
  {
   "cell_type": "code",
   "execution_count": 80,
   "metadata": {},
   "outputs": [
    {
     "data": {
      "text/html": [
       "<div>\n",
       "<style scoped>\n",
       "    .dataframe tbody tr th:only-of-type {\n",
       "        vertical-align: middle;\n",
       "    }\n",
       "\n",
       "    .dataframe tbody tr th {\n",
       "        vertical-align: top;\n",
       "    }\n",
       "\n",
       "    .dataframe thead th {\n",
       "        text-align: right;\n",
       "    }\n",
       "</style>\n",
       "<table border=\"1\" class=\"dataframe\">\n",
       "  <thead>\n",
       "    <tr style=\"text-align: right;\">\n",
       "      <th></th>\n",
       "      <th>customer_id</th>\n",
       "      <th>customer_lat</th>\n",
       "      <th>customer_long</th>\n",
       "      <th>nearest_warehouse</th>\n",
       "      <th>warehouse_lat</th>\n",
       "      <th>warehouse_long</th>\n",
       "      <th>distance_to_nearest_warehouse</th>\n",
       "    </tr>\n",
       "  </thead>\n",
       "  <tbody>\n",
       "    <tr>\n",
       "      <th>0</th>\n",
       "      <td>ID0580179515</td>\n",
       "      <td>-37.795421</td>\n",
       "      <td>144.931133</td>\n",
       "      <td>Thompson</td>\n",
       "      <td>-37.812673</td>\n",
       "      <td>144.947069</td>\n",
       "      <td>2.3775</td>\n",
       "    </tr>\n",
       "    <tr>\n",
       "      <th>1</th>\n",
       "      <td>ID0576859255</td>\n",
       "      <td>-37.824575</td>\n",
       "      <td>144.988494</td>\n",
       "      <td>Bakers</td>\n",
       "      <td>-37.809996</td>\n",
       "      <td>144.995232</td>\n",
       "      <td>1.7277</td>\n",
       "    </tr>\n",
       "    <tr>\n",
       "      <th>2</th>\n",
       "      <td>ID0767584984</td>\n",
       "      <td>-37.807330</td>\n",
       "      <td>144.972411</td>\n",
       "      <td>Nickolson</td>\n",
       "      <td>-37.818595</td>\n",
       "      <td>144.969551</td>\n",
       "      <td>1.2790</td>\n",
       "    </tr>\n",
       "    <tr>\n",
       "      <th>3</th>\n",
       "      <td>ID0309346901</td>\n",
       "      <td>-37.813628</td>\n",
       "      <td>145.004762</td>\n",
       "      <td>Bakers</td>\n",
       "      <td>-37.809996</td>\n",
       "      <td>144.995232</td>\n",
       "      <td>0.9305</td>\n",
       "    </tr>\n",
       "    <tr>\n",
       "      <th>4</th>\n",
       "      <td>ID0363385474</td>\n",
       "      <td>-37.799351</td>\n",
       "      <td>144.959494</td>\n",
       "      <td>Thompson</td>\n",
       "      <td>-37.812673</td>\n",
       "      <td>144.947069</td>\n",
       "      <td>1.8421</td>\n",
       "    </tr>\n",
       "  </tbody>\n",
       "</table>\n",
       "</div>"
      ],
      "text/plain": [
       "    customer_id  customer_lat  customer_long nearest_warehouse  warehouse_lat  \\\n",
       "0  ID0580179515    -37.795421     144.931133          Thompson     -37.812673   \n",
       "1  ID0576859255    -37.824575     144.988494            Bakers     -37.809996   \n",
       "2  ID0767584984    -37.807330     144.972411         Nickolson     -37.818595   \n",
       "3  ID0309346901    -37.813628     145.004762            Bakers     -37.809996   \n",
       "4  ID0363385474    -37.799351     144.959494          Thompson     -37.812673   \n",
       "\n",
       "   warehouse_long  distance_to_nearest_warehouse  \n",
       "0      144.947069                         2.3775  \n",
       "1      144.995232                         1.7277  \n",
       "2      144.969551                         1.2790  \n",
       "3      144.995232                         0.9305  \n",
       "4      144.947069                         1.8421  "
      ]
     },
     "execution_count": 80,
     "metadata": {},
     "output_type": "execute_result"
    }
   ],
   "source": [
    "# Viewing the given distance to the nearest warehouse\n",
    "my_dirty_data[[\"customer_id\",\"customer_lat\",\"customer_long\",\"nearest_warehouse\",\"warehouse_lat\",\"warehouse_long\",\"distance_to_nearest_warehouse\"]].head()"
   ]
  },
  {
   "cell_type": "code",
   "execution_count": 81,
   "metadata": {},
   "outputs": [
    {
     "data": {
      "text/html": [
       "<div>\n",
       "<style scoped>\n",
       "    .dataframe tbody tr th:only-of-type {\n",
       "        vertical-align: middle;\n",
       "    }\n",
       "\n",
       "    .dataframe tbody tr th {\n",
       "        vertical-align: top;\n",
       "    }\n",
       "\n",
       "    .dataframe thead th {\n",
       "        text-align: right;\n",
       "    }\n",
       "</style>\n",
       "<table border=\"1\" class=\"dataframe\">\n",
       "  <thead>\n",
       "    <tr style=\"text-align: right;\">\n",
       "      <th></th>\n",
       "      <th>names</th>\n",
       "      <th>lat</th>\n",
       "      <th>lon</th>\n",
       "    </tr>\n",
       "  </thead>\n",
       "  <tbody>\n",
       "    <tr>\n",
       "      <th>0</th>\n",
       "      <td>Nickolson</td>\n",
       "      <td>-37.818595</td>\n",
       "      <td>144.969551</td>\n",
       "    </tr>\n",
       "    <tr>\n",
       "      <th>1</th>\n",
       "      <td>Thompson</td>\n",
       "      <td>-37.812673</td>\n",
       "      <td>144.947069</td>\n",
       "    </tr>\n",
       "    <tr>\n",
       "      <th>2</th>\n",
       "      <td>Bakers</td>\n",
       "      <td>-37.809996</td>\n",
       "      <td>144.995232</td>\n",
       "    </tr>\n",
       "  </tbody>\n",
       "</table>\n",
       "</div>"
      ],
      "text/plain": [
       "       names        lat         lon\n",
       "0  Nickolson -37.818595  144.969551\n",
       "1   Thompson -37.812673  144.947069\n",
       "2     Bakers -37.809996  144.995232"
      ]
     },
     "execution_count": 81,
     "metadata": {},
     "output_type": "execute_result"
    }
   ],
   "source": [
    "# Viewing the warehouse locations\n",
    "warehouse_data"
   ]
  },
  {
   "cell_type": "code",
   "execution_count": 82,
   "metadata": {},
   "outputs": [],
   "source": [
    "# Locations of Nickolson warehouse \n",
    "Nickolson_lat = float(warehouse_data.loc[warehouse_data.names == 'Nickolson','lat'])\n",
    "Nickolson_lon = float(warehouse_data.loc[warehouse_data.names == 'Nickolson','lon'])\n",
    "\n",
    "# Locations of Thompson warehouse \n",
    "Thompson_lat = float(warehouse_data.loc[warehouse_data.names == 'Thompson','lat'])\n",
    "Thompson_lon = float(warehouse_data.loc[warehouse_data.names == 'Thompson','lon'])\n",
    "\n",
    "# Locations of Nickolson warehouse \n",
    "Bakers_lat = float(warehouse_data.loc[warehouse_data.names == 'Bakers','lat'])\n",
    "Bakers_lon = float(warehouse_data.loc[warehouse_data.names == 'Bakers','lon'])"
   ]
  },
  {
   "cell_type": "markdown",
   "metadata": {},
   "source": [
    "**HAVERSINE DISTANCE : Formula Used to calculate the distance**\n",
    "\n",
    "* I have used the Haversine Formula to calculate the distance between two geo-locations.\n",
    "* As per the formula, when we have two points on a sphere along with their longitudes and latitudes, this formula determines the great circle distance between two given points.\n",
    "* This formula is really helpful.\n",
    "* We can use it to find the distance between the customer's location and the various warehouses.\n",
    "* This further is used to determine the nearest warehouse to the customer. \n",
    "* Finally, this formula can also be used to check the accuracy of the values of the calculated distances. "
   ]
  },
  {
   "cell_type": "code",
   "execution_count": 83,
   "metadata": {},
   "outputs": [],
   "source": [
    "# https://towardsdatascience.com/heres-how-to-calculate-distance-between-2-geolocations-in-python-93ecab5bbba4\n",
    "def haversine_distance(lat1, lon1, lat2, lon2):\n",
    "   # As per the specification provided \n",
    "   r = 6378\n",
    "\n",
    "   # Calculating the phi values  \n",
    "   phi1 = np.radians(lat1)\n",
    "   phi2 = np.radians(lat2)\n",
    "\n",
    "   # Calculating the delta and lambda values  \n",
    "   delta_phi = np.radians(lat2 - lat1)\n",
    "   delta_lambda = np.radians(lon2 - lon1)\n",
    "    \n",
    "   # Distance calculated as per the haversine distance formula \n",
    "   a = np.sin(delta_phi / 2)**2 + np.cos(phi1) * np.cos(phi2) *   np.sin(delta_lambda / 2)**2\n",
    "   hav_distance = r * (2 * np.arctan2(np.sqrt(a), np.sqrt(1 - a)))\n",
    "   return np.round(hav_distance, 4)"
   ]
  },
  {
   "cell_type": "code",
   "execution_count": 84,
   "metadata": {},
   "outputs": [],
   "source": [
    "# Calculating the distance till the Nickolson warehouse\n",
    "def nickolson_distance(row):\n",
    "    \n",
    "    cust_long = row.customer_long\n",
    "    cust_lat = row.customer_lat\n",
    "    \n",
    "    distance_to_nickolson = haversine_distance(cust_lat, cust_long, Nickolson_lat, Nickolson_lon)                                    \n",
    "    \n",
    "    return distance_to_nickolson"
   ]
  },
  {
   "cell_type": "code",
   "execution_count": 85,
   "metadata": {},
   "outputs": [],
   "source": [
    "# Calculating the distance till the Thompson warehouse\n",
    "def thompson_distance(row):\n",
    "    \n",
    "    cust_long = row.customer_long\n",
    "    cust_lat = row.customer_lat\n",
    "                                            \n",
    "    distance_to_thompson = haversine_distance(cust_lat, cust_long, Thompson_lat, Thompson_lon)\n",
    "    \n",
    "    return distance_to_thompson"
   ]
  },
  {
   "cell_type": "code",
   "execution_count": 86,
   "metadata": {},
   "outputs": [],
   "source": [
    "# Calculating Bakers Distance\n",
    "def bakers_distance(row):\n",
    "    \n",
    "    cust_long = row.customer_long\n",
    "    cust_lat = row.customer_lat\n",
    "    \n",
    "    distance_to_bakers= haversine_distance(cust_lat, cust_long, Bakers_lat, Bakers_lon)\n",
    "                                              \n",
    "    return distance_to_bakers"
   ]
  },
  {
   "cell_type": "code",
   "execution_count": 87,
   "metadata": {},
   "outputs": [],
   "source": [
    "# Calculating the distance to Nickolson\n",
    "my_dirty_data['Nickolson_Distance'] = my_dirty_data.apply(lambda x: nickolson_distance(x), axis = 1)\n",
    "\n",
    "# Calculating the distance to Thompson\n",
    "my_dirty_data['Thompson_Distance'] = my_dirty_data.apply(lambda x: thompson_distance(x), axis = 1)\n",
    "\n",
    "# Calculating the distance to Nickolson\n",
    "my_dirty_data['Bakers_Distance'] = my_dirty_data.apply(lambda x: bakers_distance(x), axis = 1)"
   ]
  },
  {
   "cell_type": "code",
   "execution_count": 88,
   "metadata": {},
   "outputs": [],
   "source": [
    "# Calculating the least distance to the nearest warehouse \n",
    "my_dirty_data['least_distance'] = my_dirty_data[['Nickolson_Distance','Thompson_Distance','Bakers_Distance']].min(axis = 1)"
   ]
  },
  {
   "cell_type": "code",
   "execution_count": 89,
   "metadata": {},
   "outputs": [],
   "source": [
    "# Assigning the nearest warehouse to every customer based on the least distance \n",
    "def least_warehouse(row):    \n",
    "    if row.least_distance == row.Nickolson_Distance:\n",
    "        return \"Nickolson\"   \n",
    "    elif row.least_distance == row.Thompson_Distance:\n",
    "        return \"Thompson\"\n",
    "    elif row.least_distance == row.Bakers_Distance:\n",
    "        return \"Bakers\"   "
   ]
  },
  {
   "cell_type": "code",
   "execution_count": 90,
   "metadata": {},
   "outputs": [],
   "source": [
    "# Calculating the nearest warehouse using the above function \n",
    "my_dirty_data['least_warehouse'] = my_dirty_data.apply(lambda x: least_warehouse(x), axis = 1)"
   ]
  },
  {
   "cell_type": "code",
   "execution_count": 91,
   "metadata": {},
   "outputs": [
    {
     "data": {
      "text/html": [
       "<div>\n",
       "<style scoped>\n",
       "    .dataframe tbody tr th:only-of-type {\n",
       "        vertical-align: middle;\n",
       "    }\n",
       "\n",
       "    .dataframe tbody tr th {\n",
       "        vertical-align: top;\n",
       "    }\n",
       "\n",
       "    .dataframe thead th {\n",
       "        text-align: right;\n",
       "    }\n",
       "</style>\n",
       "<table border=\"1\" class=\"dataframe\">\n",
       "  <thead>\n",
       "    <tr style=\"text-align: right;\">\n",
       "      <th></th>\n",
       "      <th>least_warehouse</th>\n",
       "      <th>nearest_warehouse</th>\n",
       "      <th>Nickolson_Distance</th>\n",
       "      <th>Thompson_Distance</th>\n",
       "      <th>Bakers_Distance</th>\n",
       "      <th>least_distance</th>\n",
       "      <th>distance_to_nearest_warehouse</th>\n",
       "    </tr>\n",
       "  </thead>\n",
       "  <tbody>\n",
       "    <tr>\n",
       "      <th>0</th>\n",
       "      <td>Thompson</td>\n",
       "      <td>Thompson</td>\n",
       "      <td>4.2510</td>\n",
       "      <td>2.3775</td>\n",
       "      <td>5.8666</td>\n",
       "      <td>2.3775</td>\n",
       "      <td>2.3775</td>\n",
       "    </tr>\n",
       "    <tr>\n",
       "      <th>1</th>\n",
       "      <td>Bakers</td>\n",
       "      <td>Bakers</td>\n",
       "      <td>1.7937</td>\n",
       "      <td>3.8761</td>\n",
       "      <td>1.7277</td>\n",
       "      <td>1.7277</td>\n",
       "      <td>1.7277</td>\n",
       "    </tr>\n",
       "    <tr>\n",
       "      <th>2</th>\n",
       "      <td>Nickolson</td>\n",
       "      <td>Nickolson</td>\n",
       "      <td>1.2790</td>\n",
       "      <td>2.3067</td>\n",
       "      <td>2.0289</td>\n",
       "      <td>1.2790</td>\n",
       "      <td>1.2790</td>\n",
       "    </tr>\n",
       "    <tr>\n",
       "      <th>3</th>\n",
       "      <td>Bakers</td>\n",
       "      <td>Bakers</td>\n",
       "      <td>3.1454</td>\n",
       "      <td>5.0748</td>\n",
       "      <td>0.9305</td>\n",
       "      <td>0.9305</td>\n",
       "      <td>0.9305</td>\n",
       "    </tr>\n",
       "    <tr>\n",
       "      <th>4</th>\n",
       "      <td>Thompson</td>\n",
       "      <td>Thompson</td>\n",
       "      <td>2.3176</td>\n",
       "      <td>1.8421</td>\n",
       "      <td>3.3592</td>\n",
       "      <td>1.8421</td>\n",
       "      <td>1.8421</td>\n",
       "    </tr>\n",
       "  </tbody>\n",
       "</table>\n",
       "</div>"
      ],
      "text/plain": [
       "  least_warehouse nearest_warehouse  Nickolson_Distance  Thompson_Distance  \\\n",
       "0        Thompson          Thompson              4.2510             2.3775   \n",
       "1          Bakers            Bakers              1.7937             3.8761   \n",
       "2       Nickolson         Nickolson              1.2790             2.3067   \n",
       "3          Bakers            Bakers              3.1454             5.0748   \n",
       "4        Thompson          Thompson              2.3176             1.8421   \n",
       "\n",
       "   Bakers_Distance  least_distance  distance_to_nearest_warehouse  \n",
       "0           5.8666          2.3775                         2.3775  \n",
       "1           1.7277          1.7277                         1.7277  \n",
       "2           2.0289          1.2790                         1.2790  \n",
       "3           0.9305          0.9305                         0.9305  \n",
       "4           3.3592          1.8421                         1.8421  "
      ]
     },
     "execution_count": 91,
     "metadata": {},
     "output_type": "execute_result"
    }
   ],
   "source": [
    "# Viewing \n",
    "my_dirty_data[['least_warehouse','nearest_warehouse','Nickolson_Distance','Thompson_Distance','Bakers_Distance','least_distance','distance_to_nearest_warehouse']].head()"
   ]
  },
  {
   "cell_type": "code",
   "execution_count": 92,
   "metadata": {},
   "outputs": [
    {
     "name": "stdout",
     "output_type": "stream",
     "text": [
      "(22, 27)\n"
     ]
    },
    {
     "data": {
      "text/html": [
       "<div>\n",
       "<style scoped>\n",
       "    .dataframe tbody tr th:only-of-type {\n",
       "        vertical-align: middle;\n",
       "    }\n",
       "\n",
       "    .dataframe tbody tr th {\n",
       "        vertical-align: top;\n",
       "    }\n",
       "\n",
       "    .dataframe thead th {\n",
       "        text-align: right;\n",
       "    }\n",
       "</style>\n",
       "<table border=\"1\" class=\"dataframe\">\n",
       "  <thead>\n",
       "    <tr style=\"text-align: right;\">\n",
       "      <th></th>\n",
       "      <th>least_warehouse</th>\n",
       "      <th>nearest_warehouse</th>\n",
       "      <th>Nickolson_Distance</th>\n",
       "      <th>Thompson_Distance</th>\n",
       "      <th>Bakers_Distance</th>\n",
       "      <th>least_distance</th>\n",
       "      <th>distance_to_nearest_warehouse</th>\n",
       "    </tr>\n",
       "  </thead>\n",
       "  <tbody>\n",
       "    <tr>\n",
       "      <th>28</th>\n",
       "      <td>Nickolson</td>\n",
       "      <td>Bakers</td>\n",
       "      <td>1.3092</td>\n",
       "      <td>1.3203</td>\n",
       "      <td>3.7604</td>\n",
       "      <td>1.3092</td>\n",
       "      <td>1.3092</td>\n",
       "    </tr>\n",
       "    <tr>\n",
       "      <th>43</th>\n",
       "      <td>Bakers</td>\n",
       "      <td>Thompson</td>\n",
       "      <td>4.2923</td>\n",
       "      <td>5.8302</td>\n",
       "      <td>1.9203</td>\n",
       "      <td>1.9203</td>\n",
       "      <td>1.9203</td>\n",
       "    </tr>\n",
       "    <tr>\n",
       "      <th>91</th>\n",
       "      <td>Thompson</td>\n",
       "      <td>Bakers</td>\n",
       "      <td>2.1899</td>\n",
       "      <td>2.1152</td>\n",
       "      <td>2.9708</td>\n",
       "      <td>2.1152</td>\n",
       "      <td>2.1152</td>\n",
       "    </tr>\n",
       "    <tr>\n",
       "      <th>122</th>\n",
       "      <td>Nickolson</td>\n",
       "      <td>Bakers</td>\n",
       "      <td>1.3764</td>\n",
       "      <td>3.4429</td>\n",
       "      <td>1.4282</td>\n",
       "      <td>1.3764</td>\n",
       "      <td>1.3764</td>\n",
       "    </tr>\n",
       "    <tr>\n",
       "      <th>125</th>\n",
       "      <td>Nickolson</td>\n",
       "      <td>Bakers</td>\n",
       "      <td>1.4489</td>\n",
       "      <td>2.7458</td>\n",
       "      <td>1.5893</td>\n",
       "      <td>1.4489</td>\n",
       "      <td>1.4489</td>\n",
       "    </tr>\n",
       "  </tbody>\n",
       "</table>\n",
       "</div>"
      ],
      "text/plain": [
       "    least_warehouse nearest_warehouse  Nickolson_Distance  Thompson_Distance  \\\n",
       "28        Nickolson            Bakers              1.3092             1.3203   \n",
       "43           Bakers          Thompson              4.2923             5.8302   \n",
       "91         Thompson            Bakers              2.1899             2.1152   \n",
       "122       Nickolson            Bakers              1.3764             3.4429   \n",
       "125       Nickolson            Bakers              1.4489             2.7458   \n",
       "\n",
       "     Bakers_Distance  least_distance  distance_to_nearest_warehouse  \n",
       "28            3.7604          1.3092                         1.3092  \n",
       "43            1.9203          1.9203                         1.9203  \n",
       "91            2.9708          2.1152                         2.1152  \n",
       "122           1.4282          1.3764                         1.3764  \n",
       "125           1.5893          1.4489                         1.4489  "
      ]
     },
     "execution_count": 92,
     "metadata": {},
     "output_type": "execute_result"
    }
   ],
   "source": [
    "# Identifying warehouses that have been wrongly named \n",
    "wrong_warehouse = my_dirty_data[( my_dirty_data.least_warehouse !=  my_dirty_data.nearest_warehouse)]\n",
    "print(wrong_warehouse.shape)\n",
    "\n",
    "wrong_warehouse[['least_warehouse','nearest_warehouse','Nickolson_Distance','Thompson_Distance','Bakers_Distance','least_distance','distance_to_nearest_warehouse']].head()"
   ]
  },
  {
   "cell_type": "code",
   "execution_count": 93,
   "metadata": {},
   "outputs": [],
   "source": [
    "# Correcting the Wrong Warehouse Names\n",
    "wrong_warehouse_names = ( (my_dirty_data.least_warehouse !=  my_dirty_data.nearest_warehouse) )\n",
    "my_dirty_data.loc[wrong_warehouse_names, ['nearest_warehouse']] = my_dirty_data.loc[wrong_warehouse_names, ['least_warehouse']].values"
   ]
  },
  {
   "cell_type": "code",
   "execution_count": 94,
   "metadata": {},
   "outputs": [
    {
     "name": "stdout",
     "output_type": "stream",
     "text": [
      "(0, 27)\n"
     ]
    }
   ],
   "source": [
    "# Checking if the wrong warehouse names have been corrected or not \n",
    "wrong_warehouse = my_dirty_data[( my_dirty_data.least_warehouse !=  my_dirty_data.nearest_warehouse)]\n",
    "print(wrong_warehouse.shape)"
   ]
  },
  {
   "cell_type": "code",
   "execution_count": 95,
   "metadata": {},
   "outputs": [
    {
     "name": "stdout",
     "output_type": "stream",
     "text": [
      "(43, 27)\n"
     ]
    },
    {
     "data": {
      "text/html": [
       "<div>\n",
       "<style scoped>\n",
       "    .dataframe tbody tr th:only-of-type {\n",
       "        vertical-align: middle;\n",
       "    }\n",
       "\n",
       "    .dataframe tbody tr th {\n",
       "        vertical-align: top;\n",
       "    }\n",
       "\n",
       "    .dataframe thead th {\n",
       "        text-align: right;\n",
       "    }\n",
       "</style>\n",
       "<table border=\"1\" class=\"dataframe\">\n",
       "  <thead>\n",
       "    <tr style=\"text-align: right;\">\n",
       "      <th></th>\n",
       "      <th>least_warehouse</th>\n",
       "      <th>nearest_warehouse</th>\n",
       "      <th>Nickolson_Distance</th>\n",
       "      <th>Thompson_Distance</th>\n",
       "      <th>Bakers_Distance</th>\n",
       "      <th>least_distance</th>\n",
       "      <th>distance_to_nearest_warehouse</th>\n",
       "    </tr>\n",
       "  </thead>\n",
       "  <tbody>\n",
       "    <tr>\n",
       "      <th>2</th>\n",
       "      <td>Nickolson</td>\n",
       "      <td>Nickolson</td>\n",
       "      <td>1.2790</td>\n",
       "      <td>2.3067</td>\n",
       "      <td>2.0289</td>\n",
       "      <td>1.2790</td>\n",
       "      <td>1.2790</td>\n",
       "    </tr>\n",
       "    <tr>\n",
       "      <th>18</th>\n",
       "      <td>Thompson</td>\n",
       "      <td>Thompson</td>\n",
       "      <td>1.7181</td>\n",
       "      <td>0.3733</td>\n",
       "      <td>3.8820</td>\n",
       "      <td>0.3733</td>\n",
       "      <td>1.8421</td>\n",
       "    </tr>\n",
       "    <tr>\n",
       "      <th>36</th>\n",
       "      <td>Thompson</td>\n",
       "      <td>Thompson</td>\n",
       "      <td>2.5634</td>\n",
       "      <td>1.6405</td>\n",
       "      <td>3.8129</td>\n",
       "      <td>1.6405</td>\n",
       "      <td>1.5796</td>\n",
       "    </tr>\n",
       "    <tr>\n",
       "      <th>41</th>\n",
       "      <td>Nickolson</td>\n",
       "      <td>Nickolson</td>\n",
       "      <td>1.1122</td>\n",
       "      <td>2.1396</td>\n",
       "      <td>2.1486</td>\n",
       "      <td>1.1122</td>\n",
       "      <td>1.4632</td>\n",
       "    </tr>\n",
       "    <tr>\n",
       "      <th>48</th>\n",
       "      <td>Nickolson</td>\n",
       "      <td>Nickolson</td>\n",
       "      <td>0.9947</td>\n",
       "      <td>2.7482</td>\n",
       "      <td>1.5234</td>\n",
       "      <td>0.9947</td>\n",
       "      <td>1.8304</td>\n",
       "    </tr>\n",
       "  </tbody>\n",
       "</table>\n",
       "</div>"
      ],
      "text/plain": [
       "   least_warehouse nearest_warehouse  Nickolson_Distance  Thompson_Distance  \\\n",
       "2        Nickolson         Nickolson              1.2790             2.3067   \n",
       "18        Thompson          Thompson              1.7181             0.3733   \n",
       "36        Thompson          Thompson              2.5634             1.6405   \n",
       "41       Nickolson         Nickolson              1.1122             2.1396   \n",
       "48       Nickolson         Nickolson              0.9947             2.7482   \n",
       "\n",
       "    Bakers_Distance  least_distance  distance_to_nearest_warehouse  \n",
       "2            2.0289          1.2790                         1.2790  \n",
       "18           3.8820          0.3733                         1.8421  \n",
       "36           3.8129          1.6405                         1.5796  \n",
       "41           2.1486          1.1122                         1.4632  \n",
       "48           1.5234          0.9947                         1.8304  "
      ]
     },
     "execution_count": 95,
     "metadata": {},
     "output_type": "execute_result"
    }
   ],
   "source": [
    "# Identifying the mistakes in distance to nearest warehouse \n",
    "wrong_distance = my_dirty_data[( my_dirty_data.least_distance !=  my_dirty_data.distance_to_nearest_warehouse)]\n",
    "print(wrong_distance.shape)\n",
    "wrong_distance[['least_warehouse','nearest_warehouse','Nickolson_Distance','Thompson_Distance','Bakers_Distance','least_distance','distance_to_nearest_warehouse']].head()"
   ]
  },
  {
   "cell_type": "code",
   "execution_count": 96,
   "metadata": {},
   "outputs": [],
   "source": [
    "# Correcting the Wrong Warehouse Distances\n",
    "wrong_warehouse_distance = ( (my_dirty_data.least_distance !=  my_dirty_data.distance_to_nearest_warehouse) )\n",
    "my_dirty_data.loc[wrong_warehouse_distance, ['distance_to_nearest_warehouse']] = my_dirty_data.loc[wrong_warehouse_distance, ['least_distance']].values"
   ]
  },
  {
   "cell_type": "code",
   "execution_count": 97,
   "metadata": {},
   "outputs": [
    {
     "name": "stdout",
     "output_type": "stream",
     "text": [
      "(0, 27)\n"
     ]
    }
   ],
   "source": [
    "# Checking if the wrong warehouse distances have been corrected or not \n",
    "wrong_distance = my_dirty_data[( my_dirty_data.least_distance !=  my_dirty_data.distance_to_nearest_warehouse)]\n",
    "print(wrong_distance.shape)"
   ]
  },
  {
   "cell_type": "markdown",
   "metadata": {},
   "source": [
    "### 2.1.8 Exploratory Data Analysis : Sentiment Analysis <a class=\"anchor\" id=\"sec_218\"></a>\n",
    "**Examining the customer reviews and happiness of the customer**\n",
    "\n",
    "* Here, I have examined the customer review and the customer happiness columns.\n",
    "* I have used the sentiment analyzer in order to compute the sentiment polarity.\n",
    "* To check whether a customer is happy with their last order, the customer's latest review is classified using a sentiment analysis classifier. \n",
    "* SentimentIntensityAnalyzer from nltk.sentiment.vader is used to obtain the polarity score. \n",
    "    * **Positive Sentiment :** 'compound' polarity score >= 0.05 \n",
    "    * **Negative Sentiment :** 'compound' polarity score < 0.05 \n",
    "* If it's a positive sentiment, it means the customer is happy.\n",
    "* If it's a negative sentiment, the customer is not happy.\n",
    "* Now, I observed that there were some inconsistencies in the the customer reviews and the customer happiness.\n",
    "* A total of 28 such errors were identified and corrected."
   ]
  },
  {
   "cell_type": "code",
   "execution_count": 98,
   "metadata": {},
   "outputs": [
    {
     "name": "stdout",
     "output_type": "stream",
     "text": [
      "{True: 374, False: 126}\n"
     ]
    },
    {
     "data": {
      "image/png": "[encoded data removed]",
      "text/plain": [
       "<Figure size 432x288 with 1 Axes>"
      ]
     },
     "metadata": {
      "needs_background": "light"
     },
     "output_type": "display_data"
    }
   ],
   "source": [
    "# Are most of the customers happy?\n",
    "c = dict( my_dirty_data.is_happy_customer.value_counts() )\n",
    "print(c)\n",
    "\n",
    "# Bar Plot of the various nearby warehouses \n",
    "colors ='br'\n",
    "\n",
    "keys = c.keys()\n",
    "values = c.values()\n",
    "plt.bar(keys, values, color = colors)\n",
    "plt.xticks(rotation = 90)\n",
    "\n",
    "plt.title('Customer Happiness') \n",
    "plt.xlabel('Happy/Sad')\n",
    "plt.ylabel('count')\n",
    "plt.grid()"
   ]
  },
  {
   "cell_type": "markdown",
   "metadata": {},
   "source": [
    "* Thus, we can say that in general, most of the customers are happy with their purchase."
   ]
  },
  {
   "cell_type": "code",
   "execution_count": 99,
   "metadata": {},
   "outputs": [
    {
     "data": {
      "text/html": [
       "<div>\n",
       "<style scoped>\n",
       "    .dataframe tbody tr th:only-of-type {\n",
       "        vertical-align: middle;\n",
       "    }\n",
       "\n",
       "    .dataframe tbody tr th {\n",
       "        vertical-align: top;\n",
       "    }\n",
       "\n",
       "    .dataframe thead th {\n",
       "        text-align: right;\n",
       "    }\n",
       "</style>\n",
       "<table border=\"1\" class=\"dataframe\">\n",
       "  <thead>\n",
       "    <tr style=\"text-align: right;\">\n",
       "      <th></th>\n",
       "      <th>latest_customer_review</th>\n",
       "      <th>is_happy_customer</th>\n",
       "    </tr>\n",
       "  </thead>\n",
       "  <tbody>\n",
       "    <tr>\n",
       "      <th>0</th>\n",
       "      <td>try something else. i’ve had this phone for ex...</td>\n",
       "      <td>False</td>\n",
       "    </tr>\n",
       "    <tr>\n",
       "      <th>1</th>\n",
       "      <td>piece of crap. lasted two months! never again!...</td>\n",
       "      <td>False</td>\n",
       "    </tr>\n",
       "    <tr>\n",
       "      <th>2</th>\n",
       "      <td>i rate it : b+ the only problem with this phon...</td>\n",
       "      <td>False</td>\n",
       "    </tr>\n",
       "    <tr>\n",
       "      <th>3</th>\n",
       "      <td>bang for the buck! the phone is very snappy. i...</td>\n",
       "      <td>True</td>\n",
       "    </tr>\n",
       "    <tr>\n",
       "      <th>4</th>\n",
       "      <td>we love them! durable i bought two of these, o...</td>\n",
       "      <td>True</td>\n",
       "    </tr>\n",
       "  </tbody>\n",
       "</table>\n",
       "</div>"
      ],
      "text/plain": [
       "                              latest_customer_review  is_happy_customer\n",
       "0  try something else. i’ve had this phone for ex...              False\n",
       "1  piece of crap. lasted two months! never again!...              False\n",
       "2  i rate it : b+ the only problem with this phon...              False\n",
       "3  bang for the buck! the phone is very snappy. i...               True\n",
       "4  we love them! durable i bought two of these, o...               True"
      ]
     },
     "execution_count": 99,
     "metadata": {},
     "output_type": "execute_result"
    }
   ],
   "source": [
    "my_dirty_data[[\"latest_customer_review\",\"is_happy_customer\"]].head()"
   ]
  },
  {
   "cell_type": "code",
   "execution_count": 100,
   "metadata": {},
   "outputs": [],
   "source": [
    "my_dirty_data['latest_customer_review'] = my_dirty_data['latest_customer_review'].astype(str)"
   ]
  },
  {
   "cell_type": "code",
   "execution_count": 101,
   "metadata": {},
   "outputs": [],
   "source": [
    "# Function to calculate the compound polarity score \n",
    "def sentiment_polarity(row):\n",
    "    sid = SentimentIntensityAnalyzer()\n",
    "    \n",
    "    # Calculating polarity \n",
    "    polarity = sid.polarity_scores(row)\n",
    "    \n",
    "    # Polarity score \n",
    "    polarity_score = polarity['compound']\n",
    "    \n",
    "    # Returning the polarity score \n",
    "    return polarity_score"
   ]
  },
  {
   "cell_type": "code",
   "execution_count": 102,
   "metadata": {},
   "outputs": [],
   "source": [
    "# Calculating the polarity scores for every order \n",
    "my_dirty_data['polarity'] = my_dirty_data['latest_customer_review'].apply(lambda x: sentiment_polarity(x))"
   ]
  },
  {
   "cell_type": "code",
   "execution_count": 103,
   "metadata": {},
   "outputs": [
    {
     "data": {
      "text/html": [
       "<div>\n",
       "<style scoped>\n",
       "    .dataframe tbody tr th:only-of-type {\n",
       "        vertical-align: middle;\n",
       "    }\n",
       "\n",
       "    .dataframe tbody tr th {\n",
       "        vertical-align: top;\n",
       "    }\n",
       "\n",
       "    .dataframe thead th {\n",
       "        text-align: right;\n",
       "    }\n",
       "</style>\n",
       "<table border=\"1\" class=\"dataframe\">\n",
       "  <thead>\n",
       "    <tr style=\"text-align: right;\">\n",
       "      <th></th>\n",
       "      <th>latest_customer_review</th>\n",
       "      <th>is_happy_customer</th>\n",
       "      <th>polarity</th>\n",
       "    </tr>\n",
       "  </thead>\n",
       "  <tbody>\n",
       "    <tr>\n",
       "      <th>0</th>\n",
       "      <td>try something else. i’ve had this phone for ex...</td>\n",
       "      <td>False</td>\n",
       "      <td>-0.0772</td>\n",
       "    </tr>\n",
       "    <tr>\n",
       "      <th>1</th>\n",
       "      <td>piece of crap. lasted two months! never again!...</td>\n",
       "      <td>False</td>\n",
       "      <td>-0.8512</td>\n",
       "    </tr>\n",
       "    <tr>\n",
       "      <th>2</th>\n",
       "      <td>i rate it : b+ the only problem with this phon...</td>\n",
       "      <td>False</td>\n",
       "      <td>0.2084</td>\n",
       "    </tr>\n",
       "    <tr>\n",
       "      <th>3</th>\n",
       "      <td>bang for the buck! the phone is very snappy. i...</td>\n",
       "      <td>True</td>\n",
       "      <td>0.9508</td>\n",
       "    </tr>\n",
       "    <tr>\n",
       "      <th>4</th>\n",
       "      <td>we love them! durable i bought two of these, o...</td>\n",
       "      <td>True</td>\n",
       "      <td>0.9507</td>\n",
       "    </tr>\n",
       "  </tbody>\n",
       "</table>\n",
       "</div>"
      ],
      "text/plain": [
       "                              latest_customer_review  is_happy_customer  \\\n",
       "0  try something else. i’ve had this phone for ex...              False   \n",
       "1  piece of crap. lasted two months! never again!...              False   \n",
       "2  i rate it : b+ the only problem with this phon...              False   \n",
       "3  bang for the buck! the phone is very snappy. i...               True   \n",
       "4  we love them! durable i bought two of these, o...               True   \n",
       "\n",
       "   polarity  \n",
       "0   -0.0772  \n",
       "1   -0.8512  \n",
       "2    0.2084  \n",
       "3    0.9508  \n",
       "4    0.9507  "
      ]
     },
     "execution_count": 103,
     "metadata": {},
     "output_type": "execute_result"
    }
   ],
   "source": [
    "my_dirty_data[[\"latest_customer_review\",\"is_happy_customer\",\"polarity\"]].head()"
   ]
  },
  {
   "cell_type": "code",
   "execution_count": 104,
   "metadata": {},
   "outputs": [
    {
     "name": "stdout",
     "output_type": "stream",
     "text": [
      "(28, 28)\n"
     ]
    },
    {
     "data": {
      "text/html": [
       "<div>\n",
       "<style scoped>\n",
       "    .dataframe tbody tr th:only-of-type {\n",
       "        vertical-align: middle;\n",
       "    }\n",
       "\n",
       "    .dataframe tbody tr th {\n",
       "        vertical-align: top;\n",
       "    }\n",
       "\n",
       "    .dataframe thead th {\n",
       "        text-align: right;\n",
       "    }\n",
       "</style>\n",
       "<table border=\"1\" class=\"dataframe\">\n",
       "  <thead>\n",
       "    <tr style=\"text-align: right;\">\n",
       "      <th></th>\n",
       "      <th>latest_customer_review</th>\n",
       "      <th>is_happy_customer</th>\n",
       "      <th>polarity</th>\n",
       "    </tr>\n",
       "  </thead>\n",
       "  <tbody>\n",
       "    <tr>\n",
       "      <th>2</th>\n",
       "      <td>i rate it : b+ the only problem with this phon...</td>\n",
       "      <td>False</td>\n",
       "      <td>0.2084</td>\n",
       "    </tr>\n",
       "    <tr>\n",
       "      <th>9</th>\n",
       "      <td>five stars excellent experience so far!</td>\n",
       "      <td>False</td>\n",
       "      <td>0.6114</td>\n",
       "    </tr>\n",
       "    <tr>\n",
       "      <th>11</th>\n",
       "      <td>None</td>\n",
       "      <td>True</td>\n",
       "      <td>0.0000</td>\n",
       "    </tr>\n",
       "    <tr>\n",
       "      <th>50</th>\n",
       "      <td>five stars love it so easy to use and excellen...</td>\n",
       "      <td>False</td>\n",
       "      <td>0.9020</td>\n",
       "    </tr>\n",
       "    <tr>\n",
       "      <th>75</th>\n",
       "      <td>perfect price for the tablet and recommend for...</td>\n",
       "      <td>False</td>\n",
       "      <td>0.5956</td>\n",
       "    </tr>\n",
       "  </tbody>\n",
       "</table>\n",
       "</div>"
      ],
      "text/plain": [
       "                               latest_customer_review  is_happy_customer  \\\n",
       "2   i rate it : b+ the only problem with this phon...              False   \n",
       "9             five stars excellent experience so far!              False   \n",
       "11                                               None               True   \n",
       "50  five stars love it so easy to use and excellen...              False   \n",
       "75  perfect price for the tablet and recommend for...              False   \n",
       "\n",
       "    polarity  \n",
       "2     0.2084  \n",
       "9     0.6114  \n",
       "11    0.0000  \n",
       "50    0.9020  \n",
       "75    0.5956  "
      ]
     },
     "execution_count": 104,
     "metadata": {},
     "output_type": "execute_result"
    }
   ],
   "source": [
    "# Identifying the mistakes in customer reviews \n",
    "wrong_review = my_dirty_data[( (my_dirty_data['polarity']>0.05) & (my_dirty_data['is_happy_customer']!=True) ) | ( (my_dirty_data['polarity']<0.05) & (my_dirty_data['is_happy_customer']!=False) )]\n",
    "print(wrong_review.shape)\n",
    "wrong_review[[\"latest_customer_review\",\"is_happy_customer\",\"polarity\"]].head()"
   ]
  },
  {
   "cell_type": "code",
   "execution_count": 105,
   "metadata": {},
   "outputs": [],
   "source": [
    "# Correcting the customer reviews \n",
    "wrong_reviews = ( ( (my_dirty_data['polarity']>0.05) & (my_dirty_data['is_happy_customer']!=True) ) | ( (my_dirty_data['polarity']<0.05) & (my_dirty_data['is_happy_customer']!=False) ))\n",
    "my_dirty_data.loc[wrong_reviews,'is_happy_customer'] = my_dirty_data['polarity'].apply(lambda x: True if x >= 0.05 else False)"
   ]
  },
  {
   "cell_type": "code",
   "execution_count": 106,
   "metadata": {},
   "outputs": [
    {
     "data": {
      "text/html": [
       "<div>\n",
       "<style scoped>\n",
       "    .dataframe tbody tr th:only-of-type {\n",
       "        vertical-align: middle;\n",
       "    }\n",
       "\n",
       "    .dataframe tbody tr th {\n",
       "        vertical-align: top;\n",
       "    }\n",
       "\n",
       "    .dataframe thead th {\n",
       "        text-align: right;\n",
       "    }\n",
       "</style>\n",
       "<table border=\"1\" class=\"dataframe\">\n",
       "  <thead>\n",
       "    <tr style=\"text-align: right;\">\n",
       "      <th></th>\n",
       "      <th>latest_customer_review</th>\n",
       "      <th>is_happy_customer</th>\n",
       "      <th>polarity</th>\n",
       "    </tr>\n",
       "  </thead>\n",
       "  <tbody>\n",
       "    <tr>\n",
       "      <th>0</th>\n",
       "      <td>try something else. i’ve had this phone for ex...</td>\n",
       "      <td>False</td>\n",
       "      <td>-0.0772</td>\n",
       "    </tr>\n",
       "    <tr>\n",
       "      <th>1</th>\n",
       "      <td>piece of crap. lasted two months! never again!...</td>\n",
       "      <td>False</td>\n",
       "      <td>-0.8512</td>\n",
       "    </tr>\n",
       "    <tr>\n",
       "      <th>2</th>\n",
       "      <td>i rate it : b+ the only problem with this phon...</td>\n",
       "      <td>True</td>\n",
       "      <td>0.2084</td>\n",
       "    </tr>\n",
       "    <tr>\n",
       "      <th>3</th>\n",
       "      <td>bang for the buck! the phone is very snappy. i...</td>\n",
       "      <td>True</td>\n",
       "      <td>0.9508</td>\n",
       "    </tr>\n",
       "    <tr>\n",
       "      <th>4</th>\n",
       "      <td>we love them! durable i bought two of these, o...</td>\n",
       "      <td>True</td>\n",
       "      <td>0.9507</td>\n",
       "    </tr>\n",
       "  </tbody>\n",
       "</table>\n",
       "</div>"
      ],
      "text/plain": [
       "                              latest_customer_review  is_happy_customer  \\\n",
       "0  try something else. i’ve had this phone for ex...              False   \n",
       "1  piece of crap. lasted two months! never again!...              False   \n",
       "2  i rate it : b+ the only problem with this phon...               True   \n",
       "3  bang for the buck! the phone is very snappy. i...               True   \n",
       "4  we love them! durable i bought two of these, o...               True   \n",
       "\n",
       "   polarity  \n",
       "0   -0.0772  \n",
       "1   -0.8512  \n",
       "2    0.2084  \n",
       "3    0.9508  \n",
       "4    0.9507  "
      ]
     },
     "execution_count": 106,
     "metadata": {},
     "output_type": "execute_result"
    }
   ],
   "source": [
    "my_dirty_data[[\"latest_customer_review\",\"is_happy_customer\",\"polarity\"]].head()"
   ]
  },
  {
   "cell_type": "code",
   "execution_count": 107,
   "metadata": {},
   "outputs": [
    {
     "name": "stdout",
     "output_type": "stream",
     "text": [
      "(0, 28)\n"
     ]
    }
   ],
   "source": [
    "wrong_review = my_dirty_data[( (my_dirty_data['polarity']>0.05) & (my_dirty_data['is_happy_customer']!=True) ) | ( (my_dirty_data['polarity']<0.05) & (my_dirty_data['is_happy_customer']!=False) )]\n",
    "print(wrong_review.shape)"
   ]
  },
  {
   "cell_type": "code",
   "execution_count": 108,
   "metadata": {},
   "outputs": [
    {
     "name": "stdout",
     "output_type": "stream",
     "text": [
      "(0, 28)\n"
     ]
    },
    {
     "data": {
      "text/html": [
       "<div>\n",
       "<style scoped>\n",
       "    .dataframe tbody tr th:only-of-type {\n",
       "        vertical-align: middle;\n",
       "    }\n",
       "\n",
       "    .dataframe tbody tr th {\n",
       "        vertical-align: top;\n",
       "    }\n",
       "\n",
       "    .dataframe thead th {\n",
       "        text-align: right;\n",
       "    }\n",
       "</style>\n",
       "<table border=\"1\" class=\"dataframe\">\n",
       "  <thead>\n",
       "    <tr style=\"text-align: right;\">\n",
       "      <th></th>\n",
       "      <th>latest_customer_review</th>\n",
       "      <th>is_happy_customer</th>\n",
       "    </tr>\n",
       "  </thead>\n",
       "  <tbody>\n",
       "  </tbody>\n",
       "</table>\n",
       "</div>"
      ],
      "text/plain": [
       "Empty DataFrame\n",
       "Columns: [latest_customer_review, is_happy_customer]\n",
       "Index: []"
      ]
     },
     "execution_count": 108,
     "metadata": {},
     "output_type": "execute_result"
    }
   ],
   "source": [
    "# Identifying the mistakes in customer reviews where the reviews are no reviews \n",
    "null_review = my_dirty_data[(my_dirty_data['latest_customer_review'].isnull())]\n",
    "print(null_review.shape)\n",
    "null_review[[\"latest_customer_review\",\"is_happy_customer\"]].head()"
   ]
  },
  {
   "cell_type": "markdown",
   "metadata": {},
   "source": [
    "## Task 2 : Handling Missing Values  <a class=\"anchor\" id=\"sec_22\"></a>\n",
    "\n",
    "* Here, we explore the missing data dataset to explore the different columns which have Null values.\n",
    "* Clearly, there are null values in columns of warehouse names, distance to nearby warehouses, order price, delivery charges, order total and customer happiness index.\n",
    "* I have explored each of these columns separately.\n",
    "* ***Nearest Warehouse Names:***\n",
    "    * Using the functions defined above, I calculated the distance to each of the warehouses, found the nearest warehouse and used these calculations to fill in the missing values.\n",
    "* ***Distance to the nearest warehouses:***\n",
    "    * Similarly, by using the functions defined above, I have even calculated the distance to the nearest warehouse and used these calculated values to fill in the missing values. \n",
    "* ***Customer Happiness:***\n",
    "    * There were around 40 rows with Null values.\n",
    "    * Using the functions for calculating polarity, I have calculated the customer happiness values and have used these values to fill in the missing values.\n",
    "\n",
    "* ***Delivery charges:***\n",
    "    * Since the delivery charges change every season and are dependent on factors such as distance between the customer and the nearest warehouse, expedited delivery options and customer happiness, I have used a linear regression model to train the outlier dataset and used this model to predict the delivery charges.\n",
    "* ***Order Price and Order Total:***\n",
    "    * Here also, I have manually calculated the values using the functions defined above and have used these values to fill out the missing values."
   ]
  },
  {
   "cell_type": "code",
   "execution_count": 109,
   "metadata": {},
   "outputs": [
    {
     "data": {
      "text/html": [
       "<div>\n",
       "<style scoped>\n",
       "    .dataframe tbody tr th:only-of-type {\n",
       "        vertical-align: middle;\n",
       "    }\n",
       "\n",
       "    .dataframe tbody tr th {\n",
       "        vertical-align: top;\n",
       "    }\n",
       "\n",
       "    .dataframe thead th {\n",
       "        text-align: right;\n",
       "    }\n",
       "</style>\n",
       "<table border=\"1\" class=\"dataframe\">\n",
       "  <thead>\n",
       "    <tr style=\"text-align: right;\">\n",
       "      <th></th>\n",
       "      <th>order_id</th>\n",
       "      <th>customer_id</th>\n",
       "      <th>date</th>\n",
       "      <th>nearest_warehouse</th>\n",
       "      <th>shopping_cart</th>\n",
       "      <th>order_price</th>\n",
       "      <th>delivery_charges</th>\n",
       "      <th>customer_lat</th>\n",
       "      <th>customer_long</th>\n",
       "      <th>coupon_discount</th>\n",
       "      <th>order_total</th>\n",
       "      <th>season</th>\n",
       "      <th>is_expedited_delivery</th>\n",
       "      <th>distance_to_nearest_warehouse</th>\n",
       "      <th>latest_customer_review</th>\n",
       "      <th>is_happy_customer</th>\n",
       "    </tr>\n",
       "  </thead>\n",
       "  <tbody>\n",
       "    <tr>\n",
       "      <th>0</th>\n",
       "      <td>ORD191274</td>\n",
       "      <td>ID6167344381</td>\n",
       "      <td>2019-05-01</td>\n",
       "      <td>Nickolson</td>\n",
       "      <td>[('Toshika 750', 1), ('pearTV', 1)]</td>\n",
       "      <td>10630.0</td>\n",
       "      <td>NaN</td>\n",
       "      <td>-37.810387</td>\n",
       "      <td>144.966832</td>\n",
       "      <td>15</td>\n",
       "      <td>9116.13</td>\n",
       "      <td>Autumn</td>\n",
       "      <td>True</td>\n",
       "      <td>0.9445</td>\n",
       "      <td>a great buy</td>\n",
       "      <td>1.0</td>\n",
       "    </tr>\n",
       "    <tr>\n",
       "      <th>1</th>\n",
       "      <td>ORD382063</td>\n",
       "      <td>ID0140980535</td>\n",
       "      <td>2019-02-10</td>\n",
       "      <td>Nickolson</td>\n",
       "      <td>[('Alcon 10', 1), ('Universe Note', 2), ('Tosh...</td>\n",
       "      <td>24920.0</td>\n",
       "      <td>NaN</td>\n",
       "      <td>-37.799383</td>\n",
       "      <td>144.972695</td>\n",
       "      <td>15</td>\n",
       "      <td>21289.42</td>\n",
       "      <td>Summer</td>\n",
       "      <td>True</td>\n",
       "      <td>2.1564</td>\n",
       "      <td>great phone great phone at a great price.</td>\n",
       "      <td>1.0</td>\n",
       "    </tr>\n",
       "  </tbody>\n",
       "</table>\n",
       "</div>"
      ],
      "text/plain": [
       "    order_id   customer_id        date nearest_warehouse  \\\n",
       "0  ORD191274  ID6167344381  2019-05-01         Nickolson   \n",
       "1  ORD382063  ID0140980535  2019-02-10         Nickolson   \n",
       "\n",
       "                                       shopping_cart  order_price  \\\n",
       "0                [('Toshika 750', 1), ('pearTV', 1)]      10630.0   \n",
       "1  [('Alcon 10', 1), ('Universe Note', 2), ('Tosh...      24920.0   \n",
       "\n",
       "   delivery_charges  customer_lat  customer_long  coupon_discount  \\\n",
       "0               NaN    -37.810387     144.966832               15   \n",
       "1               NaN    -37.799383     144.972695               15   \n",
       "\n",
       "   order_total  season  is_expedited_delivery  distance_to_nearest_warehouse  \\\n",
       "0      9116.13  Autumn                   True                         0.9445   \n",
       "1     21289.42  Summer                   True                         2.1564   \n",
       "\n",
       "                      latest_customer_review  is_happy_customer  \n",
       "0                                a great buy                1.0  \n",
       "1  great phone great phone at a great price.                1.0  "
      ]
     },
     "execution_count": 109,
     "metadata": {},
     "output_type": "execute_result"
    }
   ],
   "source": [
    "# Loading the missing data dataset \n",
    "my_missing_data = pd.read_csv(\"30945305_missing_data.csv\")\n",
    "my_missing_data.head(2)"
   ]
  },
  {
   "cell_type": "code",
   "execution_count": 110,
   "metadata": {},
   "outputs": [
    {
     "data": {
      "text/plain": [
       "(500, 16)"
      ]
     },
     "execution_count": 110,
     "metadata": {},
     "output_type": "execute_result"
    }
   ],
   "source": [
    "# Understanding the missing data dataset\n",
    "my_missing_data.shape"
   ]
  },
  {
   "cell_type": "code",
   "execution_count": 111,
   "metadata": {},
   "outputs": [
    {
     "data": {
      "text/html": [
       "<div>\n",
       "<style scoped>\n",
       "    .dataframe tbody tr th:only-of-type {\n",
       "        vertical-align: middle;\n",
       "    }\n",
       "\n",
       "    .dataframe tbody tr th {\n",
       "        vertical-align: top;\n",
       "    }\n",
       "\n",
       "    .dataframe thead th {\n",
       "        text-align: right;\n",
       "    }\n",
       "</style>\n",
       "<table border=\"1\" class=\"dataframe\">\n",
       "  <thead>\n",
       "    <tr style=\"text-align: right;\">\n",
       "      <th></th>\n",
       "      <th>order_price</th>\n",
       "      <th>delivery_charges</th>\n",
       "      <th>customer_lat</th>\n",
       "      <th>customer_long</th>\n",
       "      <th>coupon_discount</th>\n",
       "      <th>order_total</th>\n",
       "      <th>distance_to_nearest_warehouse</th>\n",
       "      <th>is_happy_customer</th>\n",
       "    </tr>\n",
       "  </thead>\n",
       "  <tbody>\n",
       "    <tr>\n",
       "      <th>count</th>\n",
       "      <td>485.000000</td>\n",
       "      <td>460.000000</td>\n",
       "      <td>500.000000</td>\n",
       "      <td>500.000000</td>\n",
       "      <td>500.000000</td>\n",
       "      <td>485.000000</td>\n",
       "      <td>469.000000</td>\n",
       "      <td>460.000000</td>\n",
       "    </tr>\n",
       "    <tr>\n",
       "      <th>mean</th>\n",
       "      <td>13784.164948</td>\n",
       "      <td>76.951543</td>\n",
       "      <td>-37.813151</td>\n",
       "      <td>144.966550</td>\n",
       "      <td>11.480000</td>\n",
       "      <td>12284.102515</td>\n",
       "      <td>1.057174</td>\n",
       "      <td>0.723913</td>\n",
       "    </tr>\n",
       "    <tr>\n",
       "      <th>std</th>\n",
       "      <td>7893.490628</td>\n",
       "      <td>15.197202</td>\n",
       "      <td>0.007723</td>\n",
       "      <td>0.021102</td>\n",
       "      <td>8.441096</td>\n",
       "      <td>7128.392529</td>\n",
       "      <td>0.505765</td>\n",
       "      <td>0.447547</td>\n",
       "    </tr>\n",
       "    <tr>\n",
       "      <th>min</th>\n",
       "      <td>730.000000</td>\n",
       "      <td>47.320000</td>\n",
       "      <td>-37.828216</td>\n",
       "      <td>144.909436</td>\n",
       "      <td>0.000000</td>\n",
       "      <td>788.710000</td>\n",
       "      <td>0.035300</td>\n",
       "      <td>0.000000</td>\n",
       "    </tr>\n",
       "    <tr>\n",
       "      <th>25%</th>\n",
       "      <td>7535.000000</td>\n",
       "      <td>65.220000</td>\n",
       "      <td>-37.819627</td>\n",
       "      <td>144.951610</td>\n",
       "      <td>5.000000</td>\n",
       "      <td>6708.090000</td>\n",
       "      <td>0.705600</td>\n",
       "      <td>0.000000</td>\n",
       "    </tr>\n",
       "    <tr>\n",
       "      <th>50%</th>\n",
       "      <td>12635.000000</td>\n",
       "      <td>76.605000</td>\n",
       "      <td>-37.813361</td>\n",
       "      <td>144.964150</td>\n",
       "      <td>10.000000</td>\n",
       "      <td>11104.870000</td>\n",
       "      <td>1.005500</td>\n",
       "      <td>1.000000</td>\n",
       "    </tr>\n",
       "    <tr>\n",
       "      <th>75%</th>\n",
       "      <td>19280.000000</td>\n",
       "      <td>85.647500</td>\n",
       "      <td>-37.806682</td>\n",
       "      <td>144.982239</td>\n",
       "      <td>15.000000</td>\n",
       "      <td>16585.360000</td>\n",
       "      <td>1.386900</td>\n",
       "      <td>1.000000</td>\n",
       "    </tr>\n",
       "    <tr>\n",
       "      <th>max</th>\n",
       "      <td>38290.000000</td>\n",
       "      <td>122.130000</td>\n",
       "      <td>-37.793775</td>\n",
       "      <td>145.015967</td>\n",
       "      <td>25.000000</td>\n",
       "      <td>34543.930000</td>\n",
       "      <td>3.362700</td>\n",
       "      <td>1.000000</td>\n",
       "    </tr>\n",
       "  </tbody>\n",
       "</table>\n",
       "</div>"
      ],
      "text/plain": [
       "        order_price  delivery_charges  customer_lat  customer_long  \\\n",
       "count    485.000000        460.000000    500.000000     500.000000   \n",
       "mean   13784.164948         76.951543    -37.813151     144.966550   \n",
       "std     7893.490628         15.197202      0.007723       0.021102   \n",
       "min      730.000000         47.320000    -37.828216     144.909436   \n",
       "25%     7535.000000         65.220000    -37.819627     144.951610   \n",
       "50%    12635.000000         76.605000    -37.813361     144.964150   \n",
       "75%    19280.000000         85.647500    -37.806682     144.982239   \n",
       "max    38290.000000        122.130000    -37.793775     145.015967   \n",
       "\n",
       "       coupon_discount   order_total  distance_to_nearest_warehouse  \\\n",
       "count       500.000000    485.000000                     469.000000   \n",
       "mean         11.480000  12284.102515                       1.057174   \n",
       "std           8.441096   7128.392529                       0.505765   \n",
       "min           0.000000    788.710000                       0.035300   \n",
       "25%           5.000000   6708.090000                       0.705600   \n",
       "50%          10.000000  11104.870000                       1.005500   \n",
       "75%          15.000000  16585.360000                       1.386900   \n",
       "max          25.000000  34543.930000                       3.362700   \n",
       "\n",
       "       is_happy_customer  \n",
       "count         460.000000  \n",
       "mean            0.723913  \n",
       "std             0.447547  \n",
       "min             0.000000  \n",
       "25%             0.000000  \n",
       "50%             1.000000  \n",
       "75%             1.000000  \n",
       "max             1.000000  "
      ]
     },
     "execution_count": 111,
     "metadata": {},
     "output_type": "execute_result"
    }
   ],
   "source": [
    "# Getting an idea about the descriptive statistics of the dataset\n",
    "my_missing_data.describe()"
   ]
  },
  {
   "cell_type": "code",
   "execution_count": 112,
   "metadata": {},
   "outputs": [
    {
     "name": "stdout",
     "output_type": "stream",
     "text": [
      "<class 'pandas.core.frame.DataFrame'>\n",
      "RangeIndex: 500 entries, 0 to 499\n",
      "Data columns (total 16 columns):\n",
      "order_id                         500 non-null object\n",
      "customer_id                      500 non-null object\n",
      "date                             500 non-null object\n",
      "nearest_warehouse                445 non-null object\n",
      "shopping_cart                    500 non-null object\n",
      "order_price                      485 non-null float64\n",
      "delivery_charges                 460 non-null float64\n",
      "customer_lat                     500 non-null float64\n",
      "customer_long                    500 non-null float64\n",
      "coupon_discount                  500 non-null int64\n",
      "order_total                      485 non-null float64\n",
      "season                           500 non-null object\n",
      "is_expedited_delivery            500 non-null bool\n",
      "distance_to_nearest_warehouse    469 non-null float64\n",
      "latest_customer_review           500 non-null object\n",
      "is_happy_customer                460 non-null float64\n",
      "dtypes: bool(1), float64(7), int64(1), object(7)\n",
      "memory usage: 59.2+ KB\n"
     ]
    }
   ],
   "source": [
    "# In order to get the number of records and data type of each column \n",
    "my_missing_data.info()"
   ]
  },
  {
   "cell_type": "markdown",
   "metadata": {},
   "source": [
    "Total Rows = 500 \n",
    "* Columns which have **Missing Values**\n",
    "    * nearest_warehouse\n",
    "    * order_price\n",
    "    * delivery_charges \n",
    "    * order_total\n",
    "    * distance_to_nearest_warehouse\n",
    "    * is_happy_customer  "
   ]
  },
  {
   "cell_type": "code",
   "execution_count": 113,
   "metadata": {},
   "outputs": [
    {
     "data": {
      "text/plain": [
       "order_id                          0\n",
       "customer_id                       0\n",
       "date                              0\n",
       "nearest_warehouse                55\n",
       "shopping_cart                     0\n",
       "order_price                      15\n",
       "delivery_charges                 40\n",
       "customer_lat                      0\n",
       "customer_long                     0\n",
       "coupon_discount                   0\n",
       "order_total                      15\n",
       "season                            0\n",
       "is_expedited_delivery             0\n",
       "distance_to_nearest_warehouse    31\n",
       "latest_customer_review            0\n",
       "is_happy_customer                40\n",
       "dtype: int64"
      ]
     },
     "execution_count": 113,
     "metadata": {},
     "output_type": "execute_result"
    }
   ],
   "source": [
    "# In order to detect the number of missing values for every column \n",
    "my_missing_data.isnull().sum()"
   ]
  },
  {
   "cell_type": "code",
   "execution_count": 114,
   "metadata": {},
   "outputs": [
    {
     "data": {
      "image/png": "[encoded data removed]",
      "text/plain": [
       "<Figure size 432x288 with 1 Axes>"
      ]
     },
     "metadata": {
      "needs_background": "light"
     },
     "output_type": "display_data"
    }
   ],
   "source": [
    "# Storing the Null Values in a dictionary \n",
    "null_values = dict( my_missing_data.isnull().sum() )\n",
    "\n",
    "new = {k:v for k,v in null_values.items() if v != 0}\n",
    "\n",
    "# Bar Plot of the various nearby warehouses \n",
    "colors ='br'\n",
    "\n",
    "keys = new.keys()\n",
    "values = new.values()\n",
    "plt.bar(keys, values, color = colors)\n",
    "plt.xticks(rotation = 90)\n",
    "\n",
    "plt.title('Customer Happiness') \n",
    "plt.xlabel('Happy/Sad')\n",
    "plt.ylabel('count')\n",
    "plt.grid()"
   ]
  },
  {
   "cell_type": "markdown",
   "metadata": {},
   "source": [
    "Thus, we can see that the following rows have the following number of missing values:\n",
    "* nearest_warehouse             : 55\n",
    "* order_price                   : 15\n",
    "* delivery_charges              : 40 \n",
    "* order_total                   : 15 \n",
    "* distance_to_nearest_warehouse : 31\n",
    "* is_happy_customer             : 40"
   ]
  },
  {
   "cell_type": "markdown",
   "metadata": {},
   "source": [
    "### 2.2.1 Missing Values : 1) Nearest Warehouse Names <a class=\"anchor\" id=\"sec_221\"></a>"
   ]
  },
  {
   "cell_type": "code",
   "execution_count": 115,
   "metadata": {},
   "outputs": [
    {
     "data": {
      "text/html": [
       "<div>\n",
       "<style scoped>\n",
       "    .dataframe tbody tr th:only-of-type {\n",
       "        vertical-align: middle;\n",
       "    }\n",
       "\n",
       "    .dataframe tbody tr th {\n",
       "        vertical-align: top;\n",
       "    }\n",
       "\n",
       "    .dataframe thead th {\n",
       "        text-align: right;\n",
       "    }\n",
       "</style>\n",
       "<table border=\"1\" class=\"dataframe\">\n",
       "  <thead>\n",
       "    <tr style=\"text-align: right;\">\n",
       "      <th></th>\n",
       "      <th>order_id</th>\n",
       "      <th>customer_id</th>\n",
       "      <th>date</th>\n",
       "      <th>nearest_warehouse</th>\n",
       "      <th>shopping_cart</th>\n",
       "      <th>order_price</th>\n",
       "      <th>delivery_charges</th>\n",
       "      <th>customer_lat</th>\n",
       "      <th>customer_long</th>\n",
       "      <th>coupon_discount</th>\n",
       "      <th>order_total</th>\n",
       "      <th>season</th>\n",
       "      <th>is_expedited_delivery</th>\n",
       "      <th>distance_to_nearest_warehouse</th>\n",
       "      <th>latest_customer_review</th>\n",
       "      <th>is_happy_customer</th>\n",
       "    </tr>\n",
       "  </thead>\n",
       "  <tbody>\n",
       "    <tr>\n",
       "      <th>2</th>\n",
       "      <td>ORD214063</td>\n",
       "      <td>ID5797758258</td>\n",
       "      <td>2019-03-31</td>\n",
       "      <td>NaN</td>\n",
       "      <td>[('Universe Note', 2), ('Thunder line', 2), ('...</td>\n",
       "      <td>18000.0</td>\n",
       "      <td>62.15</td>\n",
       "      <td>-37.806949</td>\n",
       "      <td>144.945151</td>\n",
       "      <td>5</td>\n",
       "      <td>17162.15</td>\n",
       "      <td>Autumn</td>\n",
       "      <td>True</td>\n",
       "      <td>NaN</td>\n",
       "      <td>it is not unlocked it is not unlocked. i have ...</td>\n",
       "      <td>0.0</td>\n",
       "    </tr>\n",
       "    <tr>\n",
       "      <th>13</th>\n",
       "      <td>ORD349721</td>\n",
       "      <td>ID0233314855</td>\n",
       "      <td>2019-09-04</td>\n",
       "      <td>NaN</td>\n",
       "      <td>[('pearTV', 2), ('Candle Inferno', 1), ('Olivi...</td>\n",
       "      <td>15500.0</td>\n",
       "      <td>107.28</td>\n",
       "      <td>-37.805198</td>\n",
       "      <td>144.975549</td>\n",
       "      <td>25</td>\n",
       "      <td>11732.28</td>\n",
       "      <td>Spring</td>\n",
       "      <td>True</td>\n",
       "      <td>NaN</td>\n",
       "      <td>great phone! only reason why it is 3 stars ......</td>\n",
       "      <td>1.0</td>\n",
       "    </tr>\n",
       "  </tbody>\n",
       "</table>\n",
       "</div>"
      ],
      "text/plain": [
       "     order_id   customer_id        date nearest_warehouse  \\\n",
       "2   ORD214063  ID5797758258  2019-03-31               NaN   \n",
       "13  ORD349721  ID0233314855  2019-09-04               NaN   \n",
       "\n",
       "                                        shopping_cart  order_price  \\\n",
       "2   [('Universe Note', 2), ('Thunder line', 2), ('...      18000.0   \n",
       "13  [('pearTV', 2), ('Candle Inferno', 1), ('Olivi...      15500.0   \n",
       "\n",
       "    delivery_charges  customer_lat  customer_long  coupon_discount  \\\n",
       "2              62.15    -37.806949     144.945151                5   \n",
       "13            107.28    -37.805198     144.975549               25   \n",
       "\n",
       "    order_total  season  is_expedited_delivery  distance_to_nearest_warehouse  \\\n",
       "2      17162.15  Autumn                   True                            NaN   \n",
       "13     11732.28  Spring                   True                            NaN   \n",
       "\n",
       "                               latest_customer_review  is_happy_customer  \n",
       "2   it is not unlocked it is not unlocked. i have ...                0.0  \n",
       "13  great phone! only reason why it is 3 stars ......                1.0  "
      ]
     },
     "execution_count": 115,
     "metadata": {},
     "output_type": "execute_result"
    }
   ],
   "source": [
    "missing_warehouse = my_missing_data[my_missing_data['nearest_warehouse'].isnull()]\n",
    "missing_warehouse.head(2)"
   ]
  },
  {
   "cell_type": "code",
   "execution_count": 116,
   "metadata": {},
   "outputs": [
    {
     "data": {
      "text/plain": [
       "(55, 16)"
      ]
     },
     "execution_count": 116,
     "metadata": {},
     "output_type": "execute_result"
    }
   ],
   "source": [
    "# Number of rows with missing nearest warehouse \n",
    "my_missing_data[my_missing_data['nearest_warehouse'].isnull()].shape"
   ]
  },
  {
   "cell_type": "markdown",
   "metadata": {},
   "source": [
    "**Observations:**\n",
    "* Thus, we can see that there are 55 rows with the nearest warehouse value missing.\n",
    "\n",
    "**Methodology to fix the values:**\n",
    "* I am using the functions defined above in order to calculate the distance to each warehouse.\n",
    "* Further, these values are used to calculate the least distance and hence the nearest warehouse!"
   ]
  },
  {
   "cell_type": "code",
   "execution_count": 117,
   "metadata": {},
   "outputs": [
    {
     "data": {
      "text/html": [
       "<div>\n",
       "<style scoped>\n",
       "    .dataframe tbody tr th:only-of-type {\n",
       "        vertical-align: middle;\n",
       "    }\n",
       "\n",
       "    .dataframe tbody tr th {\n",
       "        vertical-align: top;\n",
       "    }\n",
       "\n",
       "    .dataframe thead th {\n",
       "        text-align: right;\n",
       "    }\n",
       "</style>\n",
       "<table border=\"1\" class=\"dataframe\">\n",
       "  <thead>\n",
       "    <tr style=\"text-align: right;\">\n",
       "      <th></th>\n",
       "      <th>least_warehouse</th>\n",
       "      <th>nearest_warehouse</th>\n",
       "      <th>Nickolson_Distance</th>\n",
       "      <th>Thompson_Distance</th>\n",
       "      <th>Bakers_Distance</th>\n",
       "      <th>least_distance</th>\n",
       "      <th>distance_to_nearest_warehouse</th>\n",
       "    </tr>\n",
       "  </thead>\n",
       "  <tbody>\n",
       "    <tr>\n",
       "      <th>0</th>\n",
       "      <td>Nickolson</td>\n",
       "      <td>Nickolson</td>\n",
       "      <td>0.9445</td>\n",
       "      <td>1.7566</td>\n",
       "      <td>2.4980</td>\n",
       "      <td>0.9445</td>\n",
       "      <td>0.9445</td>\n",
       "    </tr>\n",
       "    <tr>\n",
       "      <th>1</th>\n",
       "      <td>Nickolson</td>\n",
       "      <td>Nickolson</td>\n",
       "      <td>2.1564</td>\n",
       "      <td>2.6960</td>\n",
       "      <td>2.3076</td>\n",
       "      <td>2.1564</td>\n",
       "      <td>2.1564</td>\n",
       "    </tr>\n",
       "    <tr>\n",
       "      <th>2</th>\n",
       "      <td>Thompson</td>\n",
       "      <td>NaN</td>\n",
       "      <td>2.5070</td>\n",
       "      <td>0.6592</td>\n",
       "      <td>4.4175</td>\n",
       "      <td>0.6592</td>\n",
       "      <td>NaN</td>\n",
       "    </tr>\n",
       "    <tr>\n",
       "      <th>3</th>\n",
       "      <td>Nickolson</td>\n",
       "      <td>Nickolson</td>\n",
       "      <td>0.7992</td>\n",
       "      <td>1.5979</td>\n",
       "      <td>3.2517</td>\n",
       "      <td>0.7992</td>\n",
       "      <td>0.7992</td>\n",
       "    </tr>\n",
       "    <tr>\n",
       "      <th>4</th>\n",
       "      <td>Thompson</td>\n",
       "      <td>Thompson</td>\n",
       "      <td>3.0444</td>\n",
       "      <td>0.9620</td>\n",
       "      <td>5.1243</td>\n",
       "      <td>0.9620</td>\n",
       "      <td>0.9620</td>\n",
       "    </tr>\n",
       "  </tbody>\n",
       "</table>\n",
       "</div>"
      ],
      "text/plain": [
       "  least_warehouse nearest_warehouse  Nickolson_Distance  Thompson_Distance  \\\n",
       "0       Nickolson         Nickolson              0.9445             1.7566   \n",
       "1       Nickolson         Nickolson              2.1564             2.6960   \n",
       "2        Thompson               NaN              2.5070             0.6592   \n",
       "3       Nickolson         Nickolson              0.7992             1.5979   \n",
       "4        Thompson          Thompson              3.0444             0.9620   \n",
       "\n",
       "   Bakers_Distance  least_distance  distance_to_nearest_warehouse  \n",
       "0           2.4980          0.9445                         0.9445  \n",
       "1           2.3076          2.1564                         2.1564  \n",
       "2           4.4175          0.6592                            NaN  \n",
       "3           3.2517          0.7992                         0.7992  \n",
       "4           5.1243          0.9620                         0.9620  "
      ]
     },
     "execution_count": 117,
     "metadata": {},
     "output_type": "execute_result"
    }
   ],
   "source": [
    "# Calculating the distance to Nickolson\n",
    "my_missing_data['Nickolson_Distance'] = my_missing_data.apply(lambda x: nickolson_distance(x), axis = 1)\n",
    "\n",
    "# Calculating the distance to Thompson\n",
    "my_missing_data['Thompson_Distance'] = my_missing_data.apply(lambda x: thompson_distance(x), axis = 1)\n",
    "\n",
    "# Calculating the distance to Nickolson\n",
    "my_missing_data['Bakers_Distance'] = my_missing_data.apply(lambda x: bakers_distance(x), axis = 1)\n",
    "\n",
    "# Calculating the least distance to the nearest warehouse \n",
    "my_missing_data['least_distance'] = my_missing_data[['Nickolson_Distance','Thompson_Distance','Bakers_Distance']].min(axis = 1)\n",
    "\n",
    "# Calculating the nearest warehouse using the above function \n",
    "my_missing_data['least_warehouse'] = my_missing_data.apply(lambda x: least_warehouse(x), axis = 1)\n",
    "\n",
    "my_missing_data[['least_warehouse','nearest_warehouse','Nickolson_Distance','Thompson_Distance','Bakers_Distance','least_distance','distance_to_nearest_warehouse']].head()"
   ]
  },
  {
   "cell_type": "code",
   "execution_count": 118,
   "metadata": {},
   "outputs": [],
   "source": [
    "# Missing warehouse names \n",
    "missing_warehouse = my_missing_data['nearest_warehouse'].isnull()\n",
    "\n",
    "# Filling the missing values \n",
    "my_missing_data.loc[missing_warehouse,'nearest_warehouse'] = my_missing_data.loc[missing_warehouse, ['least_warehouse']].values"
   ]
  },
  {
   "cell_type": "code",
   "execution_count": 119,
   "metadata": {},
   "outputs": [
    {
     "data": {
      "text/html": [
       "<div>\n",
       "<style scoped>\n",
       "    .dataframe tbody tr th:only-of-type {\n",
       "        vertical-align: middle;\n",
       "    }\n",
       "\n",
       "    .dataframe tbody tr th {\n",
       "        vertical-align: top;\n",
       "    }\n",
       "\n",
       "    .dataframe thead th {\n",
       "        text-align: right;\n",
       "    }\n",
       "</style>\n",
       "<table border=\"1\" class=\"dataframe\">\n",
       "  <thead>\n",
       "    <tr style=\"text-align: right;\">\n",
       "      <th></th>\n",
       "      <th>least_warehouse</th>\n",
       "      <th>nearest_warehouse</th>\n",
       "      <th>Nickolson_Distance</th>\n",
       "      <th>Thompson_Distance</th>\n",
       "      <th>Bakers_Distance</th>\n",
       "      <th>least_distance</th>\n",
       "      <th>distance_to_nearest_warehouse</th>\n",
       "    </tr>\n",
       "  </thead>\n",
       "  <tbody>\n",
       "    <tr>\n",
       "      <th>0</th>\n",
       "      <td>Nickolson</td>\n",
       "      <td>Nickolson</td>\n",
       "      <td>0.9445</td>\n",
       "      <td>1.7566</td>\n",
       "      <td>2.4980</td>\n",
       "      <td>0.9445</td>\n",
       "      <td>0.9445</td>\n",
       "    </tr>\n",
       "    <tr>\n",
       "      <th>1</th>\n",
       "      <td>Nickolson</td>\n",
       "      <td>Nickolson</td>\n",
       "      <td>2.1564</td>\n",
       "      <td>2.6960</td>\n",
       "      <td>2.3076</td>\n",
       "      <td>2.1564</td>\n",
       "      <td>2.1564</td>\n",
       "    </tr>\n",
       "    <tr>\n",
       "      <th>2</th>\n",
       "      <td>Thompson</td>\n",
       "      <td>Thompson</td>\n",
       "      <td>2.5070</td>\n",
       "      <td>0.6592</td>\n",
       "      <td>4.4175</td>\n",
       "      <td>0.6592</td>\n",
       "      <td>NaN</td>\n",
       "    </tr>\n",
       "    <tr>\n",
       "      <th>3</th>\n",
       "      <td>Nickolson</td>\n",
       "      <td>Nickolson</td>\n",
       "      <td>0.7992</td>\n",
       "      <td>1.5979</td>\n",
       "      <td>3.2517</td>\n",
       "      <td>0.7992</td>\n",
       "      <td>0.7992</td>\n",
       "    </tr>\n",
       "    <tr>\n",
       "      <th>4</th>\n",
       "      <td>Thompson</td>\n",
       "      <td>Thompson</td>\n",
       "      <td>3.0444</td>\n",
       "      <td>0.9620</td>\n",
       "      <td>5.1243</td>\n",
       "      <td>0.9620</td>\n",
       "      <td>0.9620</td>\n",
       "    </tr>\n",
       "  </tbody>\n",
       "</table>\n",
       "</div>"
      ],
      "text/plain": [
       "  least_warehouse nearest_warehouse  Nickolson_Distance  Thompson_Distance  \\\n",
       "0       Nickolson         Nickolson              0.9445             1.7566   \n",
       "1       Nickolson         Nickolson              2.1564             2.6960   \n",
       "2        Thompson          Thompson              2.5070             0.6592   \n",
       "3       Nickolson         Nickolson              0.7992             1.5979   \n",
       "4        Thompson          Thompson              3.0444             0.9620   \n",
       "\n",
       "   Bakers_Distance  least_distance  distance_to_nearest_warehouse  \n",
       "0           2.4980          0.9445                         0.9445  \n",
       "1           2.3076          2.1564                         2.1564  \n",
       "2           4.4175          0.6592                            NaN  \n",
       "3           3.2517          0.7992                         0.7992  \n",
       "4           5.1243          0.9620                         0.9620  "
      ]
     },
     "execution_count": 119,
     "metadata": {},
     "output_type": "execute_result"
    }
   ],
   "source": [
    "# Checking if the missing values have been added \n",
    "my_missing_data[['least_warehouse','nearest_warehouse','Nickolson_Distance','Thompson_Distance','Bakers_Distance','least_distance','distance_to_nearest_warehouse']].head()"
   ]
  },
  {
   "cell_type": "code",
   "execution_count": 120,
   "metadata": {},
   "outputs": [
    {
     "data": {
      "text/plain": [
       "(0, 21)"
      ]
     },
     "execution_count": 120,
     "metadata": {},
     "output_type": "execute_result"
    }
   ],
   "source": [
    "# Number of rows of missing warehouse names \n",
    "my_missing_data[my_missing_data['nearest_warehouse'].isnull()].shape"
   ]
  },
  {
   "cell_type": "markdown",
   "metadata": {},
   "source": [
    "**Thus,**\n",
    "\n",
    "All the missing nearest warehouse names have been calculated and filled successfully!"
   ]
  },
  {
   "cell_type": "markdown",
   "metadata": {},
   "source": [
    "### 2.2.2 Missing Values : 2) Distance to the Nearest Warehouse <a class=\"anchor\" id=\"sec_222\"></a>"
   ]
  },
  {
   "cell_type": "code",
   "execution_count": 121,
   "metadata": {},
   "outputs": [
    {
     "data": {
      "text/html": [
       "<div>\n",
       "<style scoped>\n",
       "    .dataframe tbody tr th:only-of-type {\n",
       "        vertical-align: middle;\n",
       "    }\n",
       "\n",
       "    .dataframe tbody tr th {\n",
       "        vertical-align: top;\n",
       "    }\n",
       "\n",
       "    .dataframe thead th {\n",
       "        text-align: right;\n",
       "    }\n",
       "</style>\n",
       "<table border=\"1\" class=\"dataframe\">\n",
       "  <thead>\n",
       "    <tr style=\"text-align: right;\">\n",
       "      <th></th>\n",
       "      <th>order_id</th>\n",
       "      <th>customer_id</th>\n",
       "      <th>date</th>\n",
       "      <th>nearest_warehouse</th>\n",
       "      <th>shopping_cart</th>\n",
       "      <th>order_price</th>\n",
       "      <th>delivery_charges</th>\n",
       "      <th>customer_lat</th>\n",
       "      <th>customer_long</th>\n",
       "      <th>coupon_discount</th>\n",
       "      <th>...</th>\n",
       "      <th>season</th>\n",
       "      <th>is_expedited_delivery</th>\n",
       "      <th>distance_to_nearest_warehouse</th>\n",
       "      <th>latest_customer_review</th>\n",
       "      <th>is_happy_customer</th>\n",
       "      <th>Nickolson_Distance</th>\n",
       "      <th>Thompson_Distance</th>\n",
       "      <th>Bakers_Distance</th>\n",
       "      <th>least_distance</th>\n",
       "      <th>least_warehouse</th>\n",
       "    </tr>\n",
       "  </thead>\n",
       "  <tbody>\n",
       "    <tr>\n",
       "      <th>2</th>\n",
       "      <td>ORD214063</td>\n",
       "      <td>ID5797758258</td>\n",
       "      <td>2019-03-31</td>\n",
       "      <td>Thompson</td>\n",
       "      <td>[('Universe Note', 2), ('Thunder line', 2), ('...</td>\n",
       "      <td>18000.0</td>\n",
       "      <td>62.15</td>\n",
       "      <td>-37.806949</td>\n",
       "      <td>144.945151</td>\n",
       "      <td>5</td>\n",
       "      <td>...</td>\n",
       "      <td>Autumn</td>\n",
       "      <td>True</td>\n",
       "      <td>NaN</td>\n",
       "      <td>it is not unlocked it is not unlocked. i have ...</td>\n",
       "      <td>0.0</td>\n",
       "      <td>2.5070</td>\n",
       "      <td>0.6592</td>\n",
       "      <td>4.4175</td>\n",
       "      <td>0.6592</td>\n",
       "      <td>Thompson</td>\n",
       "    </tr>\n",
       "    <tr>\n",
       "      <th>13</th>\n",
       "      <td>ORD349721</td>\n",
       "      <td>ID0233314855</td>\n",
       "      <td>2019-09-04</td>\n",
       "      <td>Nickolson</td>\n",
       "      <td>[('pearTV', 2), ('Candle Inferno', 1), ('Olivi...</td>\n",
       "      <td>15500.0</td>\n",
       "      <td>107.28</td>\n",
       "      <td>-37.805198</td>\n",
       "      <td>144.975549</td>\n",
       "      <td>25</td>\n",
       "      <td>...</td>\n",
       "      <td>Spring</td>\n",
       "      <td>True</td>\n",
       "      <td>NaN</td>\n",
       "      <td>great phone! only reason why it is 3 stars ......</td>\n",
       "      <td>1.0</td>\n",
       "      <td>1.5819</td>\n",
       "      <td>2.6393</td>\n",
       "      <td>1.8117</td>\n",
       "      <td>1.5819</td>\n",
       "      <td>Nickolson</td>\n",
       "    </tr>\n",
       "  </tbody>\n",
       "</table>\n",
       "<p>2 rows × 21 columns</p>\n",
       "</div>"
      ],
      "text/plain": [
       "     order_id   customer_id        date nearest_warehouse  \\\n",
       "2   ORD214063  ID5797758258  2019-03-31          Thompson   \n",
       "13  ORD349721  ID0233314855  2019-09-04         Nickolson   \n",
       "\n",
       "                                        shopping_cart  order_price  \\\n",
       "2   [('Universe Note', 2), ('Thunder line', 2), ('...      18000.0   \n",
       "13  [('pearTV', 2), ('Candle Inferno', 1), ('Olivi...      15500.0   \n",
       "\n",
       "    delivery_charges  customer_lat  customer_long  coupon_discount  ...  \\\n",
       "2              62.15    -37.806949     144.945151                5  ...   \n",
       "13            107.28    -37.805198     144.975549               25  ...   \n",
       "\n",
       "    season is_expedited_delivery  distance_to_nearest_warehouse  \\\n",
       "2   Autumn                  True                            NaN   \n",
       "13  Spring                  True                            NaN   \n",
       "\n",
       "                               latest_customer_review is_happy_customer  \\\n",
       "2   it is not unlocked it is not unlocked. i have ...               0.0   \n",
       "13  great phone! only reason why it is 3 stars ......               1.0   \n",
       "\n",
       "    Nickolson_Distance  Thompson_Distance  Bakers_Distance  least_distance  \\\n",
       "2               2.5070             0.6592           4.4175          0.6592   \n",
       "13              1.5819             2.6393           1.8117          1.5819   \n",
       "\n",
       "    least_warehouse  \n",
       "2          Thompson  \n",
       "13        Nickolson  \n",
       "\n",
       "[2 rows x 21 columns]"
      ]
     },
     "execution_count": 121,
     "metadata": {},
     "output_type": "execute_result"
    }
   ],
   "source": [
    "missing_distance = my_missing_data[my_missing_data['distance_to_nearest_warehouse'].isnull()]\n",
    "missing_distance.head(2)"
   ]
  },
  {
   "cell_type": "code",
   "execution_count": 122,
   "metadata": {},
   "outputs": [
    {
     "data": {
      "text/plain": [
       "(31, 21)"
      ]
     },
     "execution_count": 122,
     "metadata": {},
     "output_type": "execute_result"
    }
   ],
   "source": [
    "# Number of rows with missing distance to the nearest warehouse \n",
    "my_missing_data[my_missing_data['distance_to_nearest_warehouse'].isnull()].shape"
   ]
  },
  {
   "cell_type": "markdown",
   "metadata": {},
   "source": [
    "**Observations:**\n",
    "* Thus, we can see that there are 31 rows with the distance to the nearest warehouse value missing.\n",
    "\n",
    "**Methodology to fix the values:**\n",
    "* I am using the functions defined above in order to calculate the distance to each warehouse.\n",
    "* This later can be used to find the least distance"
   ]
  },
  {
   "cell_type": "code",
   "execution_count": 123,
   "metadata": {},
   "outputs": [
    {
     "data": {
      "text/html": [
       "<div>\n",
       "<style scoped>\n",
       "    .dataframe tbody tr th:only-of-type {\n",
       "        vertical-align: middle;\n",
       "    }\n",
       "\n",
       "    .dataframe tbody tr th {\n",
       "        vertical-align: top;\n",
       "    }\n",
       "\n",
       "    .dataframe thead th {\n",
       "        text-align: right;\n",
       "    }\n",
       "</style>\n",
       "<table border=\"1\" class=\"dataframe\">\n",
       "  <thead>\n",
       "    <tr style=\"text-align: right;\">\n",
       "      <th></th>\n",
       "      <th>least_warehouse</th>\n",
       "      <th>nearest_warehouse</th>\n",
       "      <th>Nickolson_Distance</th>\n",
       "      <th>Thompson_Distance</th>\n",
       "      <th>Bakers_Distance</th>\n",
       "      <th>least_distance</th>\n",
       "      <th>distance_to_nearest_warehouse</th>\n",
       "    </tr>\n",
       "  </thead>\n",
       "  <tbody>\n",
       "    <tr>\n",
       "      <th>0</th>\n",
       "      <td>Nickolson</td>\n",
       "      <td>Nickolson</td>\n",
       "      <td>0.9445</td>\n",
       "      <td>1.7566</td>\n",
       "      <td>2.4980</td>\n",
       "      <td>0.9445</td>\n",
       "      <td>0.9445</td>\n",
       "    </tr>\n",
       "    <tr>\n",
       "      <th>1</th>\n",
       "      <td>Nickolson</td>\n",
       "      <td>Nickolson</td>\n",
       "      <td>2.1564</td>\n",
       "      <td>2.6960</td>\n",
       "      <td>2.3076</td>\n",
       "      <td>2.1564</td>\n",
       "      <td>2.1564</td>\n",
       "    </tr>\n",
       "    <tr>\n",
       "      <th>2</th>\n",
       "      <td>Thompson</td>\n",
       "      <td>Thompson</td>\n",
       "      <td>2.5070</td>\n",
       "      <td>0.6592</td>\n",
       "      <td>4.4175</td>\n",
       "      <td>0.6592</td>\n",
       "      <td>NaN</td>\n",
       "    </tr>\n",
       "    <tr>\n",
       "      <th>3</th>\n",
       "      <td>Nickolson</td>\n",
       "      <td>Nickolson</td>\n",
       "      <td>0.7992</td>\n",
       "      <td>1.5979</td>\n",
       "      <td>3.2517</td>\n",
       "      <td>0.7992</td>\n",
       "      <td>0.7992</td>\n",
       "    </tr>\n",
       "    <tr>\n",
       "      <th>4</th>\n",
       "      <td>Thompson</td>\n",
       "      <td>Thompson</td>\n",
       "      <td>3.0444</td>\n",
       "      <td>0.9620</td>\n",
       "      <td>5.1243</td>\n",
       "      <td>0.9620</td>\n",
       "      <td>0.9620</td>\n",
       "    </tr>\n",
       "  </tbody>\n",
       "</table>\n",
       "</div>"
      ],
      "text/plain": [
       "  least_warehouse nearest_warehouse  Nickolson_Distance  Thompson_Distance  \\\n",
       "0       Nickolson         Nickolson              0.9445             1.7566   \n",
       "1       Nickolson         Nickolson              2.1564             2.6960   \n",
       "2        Thompson          Thompson              2.5070             0.6592   \n",
       "3       Nickolson         Nickolson              0.7992             1.5979   \n",
       "4        Thompson          Thompson              3.0444             0.9620   \n",
       "\n",
       "   Bakers_Distance  least_distance  distance_to_nearest_warehouse  \n",
       "0           2.4980          0.9445                         0.9445  \n",
       "1           2.3076          2.1564                         2.1564  \n",
       "2           4.4175          0.6592                            NaN  \n",
       "3           3.2517          0.7992                         0.7992  \n",
       "4           5.1243          0.9620                         0.9620  "
      ]
     },
     "execution_count": 123,
     "metadata": {},
     "output_type": "execute_result"
    }
   ],
   "source": [
    "my_missing_data[['least_warehouse','nearest_warehouse','Nickolson_Distance','Thompson_Distance','Bakers_Distance','least_distance','distance_to_nearest_warehouse']].head()"
   ]
  },
  {
   "cell_type": "code",
   "execution_count": 124,
   "metadata": {},
   "outputs": [],
   "source": [
    "# Missing warehouse names \n",
    "missing_distance = my_missing_data['distance_to_nearest_warehouse'].isnull()\n",
    "\n",
    "# Filling the missing values \n",
    "my_missing_data.loc[missing_distance,'distance_to_nearest_warehouse'] = my_missing_data.loc[missing_distance, ['least_distance']].values"
   ]
  },
  {
   "cell_type": "code",
   "execution_count": 125,
   "metadata": {},
   "outputs": [
    {
     "data": {
      "text/html": [
       "<div>\n",
       "<style scoped>\n",
       "    .dataframe tbody tr th:only-of-type {\n",
       "        vertical-align: middle;\n",
       "    }\n",
       "\n",
       "    .dataframe tbody tr th {\n",
       "        vertical-align: top;\n",
       "    }\n",
       "\n",
       "    .dataframe thead th {\n",
       "        text-align: right;\n",
       "    }\n",
       "</style>\n",
       "<table border=\"1\" class=\"dataframe\">\n",
       "  <thead>\n",
       "    <tr style=\"text-align: right;\">\n",
       "      <th></th>\n",
       "      <th>least_warehouse</th>\n",
       "      <th>nearest_warehouse</th>\n",
       "      <th>Nickolson_Distance</th>\n",
       "      <th>Thompson_Distance</th>\n",
       "      <th>Bakers_Distance</th>\n",
       "      <th>least_distance</th>\n",
       "      <th>distance_to_nearest_warehouse</th>\n",
       "    </tr>\n",
       "  </thead>\n",
       "  <tbody>\n",
       "    <tr>\n",
       "      <th>0</th>\n",
       "      <td>Nickolson</td>\n",
       "      <td>Nickolson</td>\n",
       "      <td>0.9445</td>\n",
       "      <td>1.7566</td>\n",
       "      <td>2.4980</td>\n",
       "      <td>0.9445</td>\n",
       "      <td>0.9445</td>\n",
       "    </tr>\n",
       "    <tr>\n",
       "      <th>1</th>\n",
       "      <td>Nickolson</td>\n",
       "      <td>Nickolson</td>\n",
       "      <td>2.1564</td>\n",
       "      <td>2.6960</td>\n",
       "      <td>2.3076</td>\n",
       "      <td>2.1564</td>\n",
       "      <td>2.1564</td>\n",
       "    </tr>\n",
       "    <tr>\n",
       "      <th>2</th>\n",
       "      <td>Thompson</td>\n",
       "      <td>Thompson</td>\n",
       "      <td>2.5070</td>\n",
       "      <td>0.6592</td>\n",
       "      <td>4.4175</td>\n",
       "      <td>0.6592</td>\n",
       "      <td>0.6592</td>\n",
       "    </tr>\n",
       "    <tr>\n",
       "      <th>3</th>\n",
       "      <td>Nickolson</td>\n",
       "      <td>Nickolson</td>\n",
       "      <td>0.7992</td>\n",
       "      <td>1.5979</td>\n",
       "      <td>3.2517</td>\n",
       "      <td>0.7992</td>\n",
       "      <td>0.7992</td>\n",
       "    </tr>\n",
       "    <tr>\n",
       "      <th>4</th>\n",
       "      <td>Thompson</td>\n",
       "      <td>Thompson</td>\n",
       "      <td>3.0444</td>\n",
       "      <td>0.9620</td>\n",
       "      <td>5.1243</td>\n",
       "      <td>0.9620</td>\n",
       "      <td>0.9620</td>\n",
       "    </tr>\n",
       "  </tbody>\n",
       "</table>\n",
       "</div>"
      ],
      "text/plain": [
       "  least_warehouse nearest_warehouse  Nickolson_Distance  Thompson_Distance  \\\n",
       "0       Nickolson         Nickolson              0.9445             1.7566   \n",
       "1       Nickolson         Nickolson              2.1564             2.6960   \n",
       "2        Thompson          Thompson              2.5070             0.6592   \n",
       "3       Nickolson         Nickolson              0.7992             1.5979   \n",
       "4        Thompson          Thompson              3.0444             0.9620   \n",
       "\n",
       "   Bakers_Distance  least_distance  distance_to_nearest_warehouse  \n",
       "0           2.4980          0.9445                         0.9445  \n",
       "1           2.3076          2.1564                         2.1564  \n",
       "2           4.4175          0.6592                         0.6592  \n",
       "3           3.2517          0.7992                         0.7992  \n",
       "4           5.1243          0.9620                         0.9620  "
      ]
     },
     "execution_count": 125,
     "metadata": {},
     "output_type": "execute_result"
    }
   ],
   "source": [
    "# Checking if the missing nearby distance values have been added or not \n",
    "my_missing_data[['least_warehouse','nearest_warehouse','Nickolson_Distance','Thompson_Distance','Bakers_Distance','least_distance','distance_to_nearest_warehouse']].head()"
   ]
  },
  {
   "cell_type": "code",
   "execution_count": 126,
   "metadata": {},
   "outputs": [
    {
     "data": {
      "text/plain": [
       "(0, 21)"
      ]
     },
     "execution_count": 126,
     "metadata": {},
     "output_type": "execute_result"
    }
   ],
   "source": [
    "# Number of rows with missing distance to the nearest warehouse \n",
    "my_missing_data[my_missing_data['distance_to_nearest_warehouse'].isnull()].shape"
   ]
  },
  {
   "cell_type": "markdown",
   "metadata": {},
   "source": [
    "**Thus,**\n",
    "\n",
    "All the missing distance to the nearest warehouse values have been calculated and filled successfully!"
   ]
  },
  {
   "cell_type": "markdown",
   "metadata": {},
   "source": [
    "### 2.2.3 Missing Values : 3) Customer Happiness  <a class=\"anchor\" id=\"sec_223\"></a>"
   ]
  },
  {
   "cell_type": "code",
   "execution_count": 127,
   "metadata": {},
   "outputs": [
    {
     "data": {
      "text/html": [
       "<div>\n",
       "<style scoped>\n",
       "    .dataframe tbody tr th:only-of-type {\n",
       "        vertical-align: middle;\n",
       "    }\n",
       "\n",
       "    .dataframe tbody tr th {\n",
       "        vertical-align: top;\n",
       "    }\n",
       "\n",
       "    .dataframe thead th {\n",
       "        text-align: right;\n",
       "    }\n",
       "</style>\n",
       "<table border=\"1\" class=\"dataframe\">\n",
       "  <thead>\n",
       "    <tr style=\"text-align: right;\">\n",
       "      <th></th>\n",
       "      <th>order_id</th>\n",
       "      <th>customer_id</th>\n",
       "      <th>date</th>\n",
       "      <th>nearest_warehouse</th>\n",
       "      <th>shopping_cart</th>\n",
       "      <th>order_price</th>\n",
       "      <th>delivery_charges</th>\n",
       "      <th>customer_lat</th>\n",
       "      <th>customer_long</th>\n",
       "      <th>coupon_discount</th>\n",
       "      <th>...</th>\n",
       "      <th>season</th>\n",
       "      <th>is_expedited_delivery</th>\n",
       "      <th>distance_to_nearest_warehouse</th>\n",
       "      <th>latest_customer_review</th>\n",
       "      <th>is_happy_customer</th>\n",
       "      <th>Nickolson_Distance</th>\n",
       "      <th>Thompson_Distance</th>\n",
       "      <th>Bakers_Distance</th>\n",
       "      <th>least_distance</th>\n",
       "      <th>least_warehouse</th>\n",
       "    </tr>\n",
       "  </thead>\n",
       "  <tbody>\n",
       "    <tr>\n",
       "      <th>12</th>\n",
       "      <td>ORD355030</td>\n",
       "      <td>ID0250480602</td>\n",
       "      <td>2019-09-26</td>\n",
       "      <td>Bakers</td>\n",
       "      <td>[('iAssist Line', 1), ('Thunder line', 1), ('A...</td>\n",
       "      <td>23530.0</td>\n",
       "      <td>78.12</td>\n",
       "      <td>-37.811856</td>\n",
       "      <td>145.005884</td>\n",
       "      <td>5</td>\n",
       "      <td>...</td>\n",
       "      <td>Spring</td>\n",
       "      <td>False</td>\n",
       "      <td>0.9594</td>\n",
       "      <td>five stars i love the colour and features on t...</td>\n",
       "      <td>NaN</td>\n",
       "      <td>3.2820</td>\n",
       "      <td>5.1732</td>\n",
       "      <td>0.9594</td>\n",
       "      <td>0.9594</td>\n",
       "      <td>Bakers</td>\n",
       "    </tr>\n",
       "    <tr>\n",
       "      <th>26</th>\n",
       "      <td>ORD300348</td>\n",
       "      <td>ID0575524707</td>\n",
       "      <td>2019-10-15</td>\n",
       "      <td>Nickolson</td>\n",
       "      <td>[('Universe Note', 2), ('Thunder line', 1), ('...</td>\n",
       "      <td>12760.0</td>\n",
       "      <td>106.67</td>\n",
       "      <td>-37.821336</td>\n",
       "      <td>144.984420</td>\n",
       "      <td>10</td>\n",
       "      <td>...</td>\n",
       "      <td>Spring</td>\n",
       "      <td>True</td>\n",
       "      <td>1.3426</td>\n",
       "      <td>four stars nice phones for a clam shell set</td>\n",
       "      <td>NaN</td>\n",
       "      <td>1.3426</td>\n",
       "      <td>3.4231</td>\n",
       "      <td>1.5804</td>\n",
       "      <td>1.3426</td>\n",
       "      <td>Nickolson</td>\n",
       "    </tr>\n",
       "  </tbody>\n",
       "</table>\n",
       "<p>2 rows × 21 columns</p>\n",
       "</div>"
      ],
      "text/plain": [
       "     order_id   customer_id        date nearest_warehouse  \\\n",
       "12  ORD355030  ID0250480602  2019-09-26            Bakers   \n",
       "26  ORD300348  ID0575524707  2019-10-15         Nickolson   \n",
       "\n",
       "                                        shopping_cart  order_price  \\\n",
       "12  [('iAssist Line', 1), ('Thunder line', 1), ('A...      23530.0   \n",
       "26  [('Universe Note', 2), ('Thunder line', 1), ('...      12760.0   \n",
       "\n",
       "    delivery_charges  customer_lat  customer_long  coupon_discount  ...  \\\n",
       "12             78.12    -37.811856     145.005884                5  ...   \n",
       "26            106.67    -37.821336     144.984420               10  ...   \n",
       "\n",
       "    season is_expedited_delivery  distance_to_nearest_warehouse  \\\n",
       "12  Spring                 False                         0.9594   \n",
       "26  Spring                  True                         1.3426   \n",
       "\n",
       "                               latest_customer_review is_happy_customer  \\\n",
       "12  five stars i love the colour and features on t...               NaN   \n",
       "26        four stars nice phones for a clam shell set               NaN   \n",
       "\n",
       "    Nickolson_Distance  Thompson_Distance  Bakers_Distance  least_distance  \\\n",
       "12              3.2820             5.1732           0.9594          0.9594   \n",
       "26              1.3426             3.4231           1.5804          1.3426   \n",
       "\n",
       "    least_warehouse  \n",
       "12           Bakers  \n",
       "26        Nickolson  \n",
       "\n",
       "[2 rows x 21 columns]"
      ]
     },
     "execution_count": 127,
     "metadata": {},
     "output_type": "execute_result"
    }
   ],
   "source": [
    "missing_review = my_missing_data[my_missing_data['is_happy_customer'].isnull()]\n",
    "missing_review.head(2)"
   ]
  },
  {
   "cell_type": "code",
   "execution_count": 128,
   "metadata": {},
   "outputs": [
    {
     "data": {
      "text/plain": [
       "(40, 21)"
      ]
     },
     "execution_count": 128,
     "metadata": {},
     "output_type": "execute_result"
    }
   ],
   "source": [
    "# Number of rows with missing customer happiness review \n",
    "my_missing_data[my_missing_data['is_happy_customer'].isnull()].shape"
   ]
  },
  {
   "cell_type": "markdown",
   "metadata": {},
   "source": [
    "**Observations:**\n",
    "* Thus, we can see that there are 40 rows with the customer happiness values missing. \n",
    "\n",
    "**Methodology to fix the values:**\n",
    "* I am using the functions defined above in order to calculate the calculate the sentiment polarity.\n",
    "* Based on these values, we can predict the customer happiness quotient. "
   ]
  },
  {
   "cell_type": "code",
   "execution_count": 129,
   "metadata": {},
   "outputs": [],
   "source": [
    "my_missing_data['latest_customer_review'] = my_missing_data['latest_customer_review'].astype(str)"
   ]
  },
  {
   "cell_type": "code",
   "execution_count": 130,
   "metadata": {},
   "outputs": [],
   "source": [
    "# Calculating the polarity scores for every order \n",
    "my_missing_data['polarity'] = my_missing_data['latest_customer_review'].apply(lambda x: sentiment_polarity(x))"
   ]
  },
  {
   "cell_type": "code",
   "execution_count": 131,
   "metadata": {},
   "outputs": [
    {
     "data": {
      "text/html": [
       "<div>\n",
       "<style scoped>\n",
       "    .dataframe tbody tr th:only-of-type {\n",
       "        vertical-align: middle;\n",
       "    }\n",
       "\n",
       "    .dataframe tbody tr th {\n",
       "        vertical-align: top;\n",
       "    }\n",
       "\n",
       "    .dataframe thead th {\n",
       "        text-align: right;\n",
       "    }\n",
       "</style>\n",
       "<table border=\"1\" class=\"dataframe\">\n",
       "  <thead>\n",
       "    <tr style=\"text-align: right;\">\n",
       "      <th></th>\n",
       "      <th>latest_customer_review</th>\n",
       "      <th>is_happy_customer</th>\n",
       "      <th>polarity</th>\n",
       "    </tr>\n",
       "  </thead>\n",
       "  <tbody>\n",
       "    <tr>\n",
       "      <th>495</th>\n",
       "      <td>for the price i paid i'm very satisfied great ...</td>\n",
       "      <td>1.0</td>\n",
       "      <td>0.8162</td>\n",
       "    </tr>\n",
       "    <tr>\n",
       "      <th>496</th>\n",
       "      <td>awesome product one of the best products in th...</td>\n",
       "      <td>1.0</td>\n",
       "      <td>0.8519</td>\n",
       "    </tr>\n",
       "    <tr>\n",
       "      <th>497</th>\n",
       "      <td>phone is defective. i will be sending in for ....</td>\n",
       "      <td>NaN</td>\n",
       "      <td>-0.7003</td>\n",
       "    </tr>\n",
       "    <tr>\n",
       "      <th>498</th>\n",
       "      <td>this phone was not as it was advertised. poor ...</td>\n",
       "      <td>0.0</td>\n",
       "      <td>-0.8176</td>\n",
       "    </tr>\n",
       "    <tr>\n",
       "      <th>499</th>\n",
       "      <td>five stars phone has been awesome!</td>\n",
       "      <td>1.0</td>\n",
       "      <td>0.6588</td>\n",
       "    </tr>\n",
       "  </tbody>\n",
       "</table>\n",
       "</div>"
      ],
      "text/plain": [
       "                                latest_customer_review  is_happy_customer  \\\n",
       "495  for the price i paid i'm very satisfied great ...                1.0   \n",
       "496  awesome product one of the best products in th...                1.0   \n",
       "497  phone is defective. i will be sending in for ....                NaN   \n",
       "498  this phone was not as it was advertised. poor ...                0.0   \n",
       "499                 five stars phone has been awesome!                1.0   \n",
       "\n",
       "     polarity  \n",
       "495    0.8162  \n",
       "496    0.8519  \n",
       "497   -0.7003  \n",
       "498   -0.8176  \n",
       "499    0.6588  "
      ]
     },
     "execution_count": 131,
     "metadata": {},
     "output_type": "execute_result"
    }
   ],
   "source": [
    "my_missing_data[[\"latest_customer_review\",\"is_happy_customer\",\"polarity\"]].tail()"
   ]
  },
  {
   "cell_type": "code",
   "execution_count": 132,
   "metadata": {},
   "outputs": [
    {
     "data": {
      "text/html": [
       "<div>\n",
       "<style scoped>\n",
       "    .dataframe tbody tr th:only-of-type {\n",
       "        vertical-align: middle;\n",
       "    }\n",
       "\n",
       "    .dataframe tbody tr th {\n",
       "        vertical-align: top;\n",
       "    }\n",
       "\n",
       "    .dataframe thead th {\n",
       "        text-align: right;\n",
       "    }\n",
       "</style>\n",
       "<table border=\"1\" class=\"dataframe\">\n",
       "  <thead>\n",
       "    <tr style=\"text-align: right;\">\n",
       "      <th></th>\n",
       "      <th>latest_customer_review</th>\n",
       "      <th>is_happy_customer</th>\n",
       "      <th>polarity</th>\n",
       "      <th>happy</th>\n",
       "    </tr>\n",
       "  </thead>\n",
       "  <tbody>\n",
       "    <tr>\n",
       "      <th>495</th>\n",
       "      <td>for the price i paid i'm very satisfied great ...</td>\n",
       "      <td>1.0</td>\n",
       "      <td>0.8162</td>\n",
       "      <td>1</td>\n",
       "    </tr>\n",
       "    <tr>\n",
       "      <th>496</th>\n",
       "      <td>awesome product one of the best products in th...</td>\n",
       "      <td>1.0</td>\n",
       "      <td>0.8519</td>\n",
       "      <td>1</td>\n",
       "    </tr>\n",
       "    <tr>\n",
       "      <th>497</th>\n",
       "      <td>phone is defective. i will be sending in for ....</td>\n",
       "      <td>NaN</td>\n",
       "      <td>-0.7003</td>\n",
       "      <td>0</td>\n",
       "    </tr>\n",
       "    <tr>\n",
       "      <th>498</th>\n",
       "      <td>this phone was not as it was advertised. poor ...</td>\n",
       "      <td>0.0</td>\n",
       "      <td>-0.8176</td>\n",
       "      <td>0</td>\n",
       "    </tr>\n",
       "    <tr>\n",
       "      <th>499</th>\n",
       "      <td>five stars phone has been awesome!</td>\n",
       "      <td>1.0</td>\n",
       "      <td>0.6588</td>\n",
       "      <td>1</td>\n",
       "    </tr>\n",
       "  </tbody>\n",
       "</table>\n",
       "</div>"
      ],
      "text/plain": [
       "                                latest_customer_review  is_happy_customer  \\\n",
       "495  for the price i paid i'm very satisfied great ...                1.0   \n",
       "496  awesome product one of the best products in th...                1.0   \n",
       "497  phone is defective. i will be sending in for ....                NaN   \n",
       "498  this phone was not as it was advertised. poor ...                0.0   \n",
       "499                 five stars phone has been awesome!                1.0   \n",
       "\n",
       "     polarity  happy  \n",
       "495    0.8162      1  \n",
       "496    0.8519      1  \n",
       "497   -0.7003      0  \n",
       "498   -0.8176      0  \n",
       "499    0.6588      1  "
      ]
     },
     "execution_count": 132,
     "metadata": {},
     "output_type": "execute_result"
    }
   ],
   "source": [
    "# Missing customer reviews\n",
    "missing_review = my_missing_data['is_happy_customer'].isnull()\n",
    "\n",
    "# New column for customer happiness \n",
    "my_missing_data['happy'] = my_missing_data['polarity'].apply(lambda x: 1 if x >= 0.05 else 0)\n",
    "my_missing_data[[\"latest_customer_review\",\"is_happy_customer\",\"polarity\",\"happy\"]].tail()"
   ]
  },
  {
   "cell_type": "code",
   "execution_count": 133,
   "metadata": {},
   "outputs": [
    {
     "data": {
      "text/html": [
       "<div>\n",
       "<style scoped>\n",
       "    .dataframe tbody tr th:only-of-type {\n",
       "        vertical-align: middle;\n",
       "    }\n",
       "\n",
       "    .dataframe tbody tr th {\n",
       "        vertical-align: top;\n",
       "    }\n",
       "\n",
       "    .dataframe thead th {\n",
       "        text-align: right;\n",
       "    }\n",
       "</style>\n",
       "<table border=\"1\" class=\"dataframe\">\n",
       "  <thead>\n",
       "    <tr style=\"text-align: right;\">\n",
       "      <th></th>\n",
       "      <th>latest_customer_review</th>\n",
       "      <th>is_happy_customer</th>\n",
       "      <th>polarity</th>\n",
       "      <th>happy</th>\n",
       "    </tr>\n",
       "  </thead>\n",
       "  <tbody>\n",
       "    <tr>\n",
       "      <th>495</th>\n",
       "      <td>for the price i paid i'm very satisfied great ...</td>\n",
       "      <td>1.0</td>\n",
       "      <td>0.8162</td>\n",
       "      <td>1</td>\n",
       "    </tr>\n",
       "    <tr>\n",
       "      <th>496</th>\n",
       "      <td>awesome product one of the best products in th...</td>\n",
       "      <td>1.0</td>\n",
       "      <td>0.8519</td>\n",
       "      <td>1</td>\n",
       "    </tr>\n",
       "    <tr>\n",
       "      <th>497</th>\n",
       "      <td>phone is defective. i will be sending in for ....</td>\n",
       "      <td>0.0</td>\n",
       "      <td>-0.7003</td>\n",
       "      <td>0</td>\n",
       "    </tr>\n",
       "    <tr>\n",
       "      <th>498</th>\n",
       "      <td>this phone was not as it was advertised. poor ...</td>\n",
       "      <td>0.0</td>\n",
       "      <td>-0.8176</td>\n",
       "      <td>0</td>\n",
       "    </tr>\n",
       "    <tr>\n",
       "      <th>499</th>\n",
       "      <td>five stars phone has been awesome!</td>\n",
       "      <td>1.0</td>\n",
       "      <td>0.6588</td>\n",
       "      <td>1</td>\n",
       "    </tr>\n",
       "  </tbody>\n",
       "</table>\n",
       "</div>"
      ],
      "text/plain": [
       "                                latest_customer_review  is_happy_customer  \\\n",
       "495  for the price i paid i'm very satisfied great ...                1.0   \n",
       "496  awesome product one of the best products in th...                1.0   \n",
       "497  phone is defective. i will be sending in for ....                0.0   \n",
       "498  this phone was not as it was advertised. poor ...                0.0   \n",
       "499                 five stars phone has been awesome!                1.0   \n",
       "\n",
       "     polarity  happy  \n",
       "495    0.8162      1  \n",
       "496    0.8519      1  \n",
       "497   -0.7003      0  \n",
       "498   -0.8176      0  \n",
       "499    0.6588      1  "
      ]
     },
     "execution_count": 133,
     "metadata": {},
     "output_type": "execute_result"
    }
   ],
   "source": [
    "# Filling the missing customer happiness values \n",
    "my_missing_data.loc[missing_review,'is_happy_customer'] =  my_missing_data.loc[missing_review, ['happy']].values\n",
    "my_missing_data[[\"latest_customer_review\",\"is_happy_customer\",\"polarity\",\"happy\"]].tail()"
   ]
  },
  {
   "cell_type": "code",
   "execution_count": 134,
   "metadata": {},
   "outputs": [
    {
     "data": {
      "text/plain": [
       "(0, 23)"
      ]
     },
     "execution_count": 134,
     "metadata": {},
     "output_type": "execute_result"
    }
   ],
   "source": [
    "# Number of rows with missing customer happiness review \n",
    "my_missing_data[my_missing_data['is_happy_customer'].isnull()].shape"
   ]
  },
  {
   "cell_type": "markdown",
   "metadata": {},
   "source": [
    "**Thus,**\n",
    "\n",
    "All the missing customer happiness values have been calculated and filled successfully!"
   ]
  },
  {
   "cell_type": "markdown",
   "metadata": {},
   "source": [
    "### 2.2.4 Missing Values : 4) Order Price  <a class=\"anchor\" id=\"sec_224\"></a>"
   ]
  },
  {
   "cell_type": "code",
   "execution_count": 135,
   "metadata": {},
   "outputs": [
    {
     "data": {
      "text/html": [
       "<div>\n",
       "<style scoped>\n",
       "    .dataframe tbody tr th:only-of-type {\n",
       "        vertical-align: middle;\n",
       "    }\n",
       "\n",
       "    .dataframe tbody tr th {\n",
       "        vertical-align: top;\n",
       "    }\n",
       "\n",
       "    .dataframe thead th {\n",
       "        text-align: right;\n",
       "    }\n",
       "</style>\n",
       "<table border=\"1\" class=\"dataframe\">\n",
       "  <thead>\n",
       "    <tr style=\"text-align: right;\">\n",
       "      <th></th>\n",
       "      <th>order_id</th>\n",
       "      <th>customer_id</th>\n",
       "      <th>date</th>\n",
       "      <th>nearest_warehouse</th>\n",
       "      <th>shopping_cart</th>\n",
       "      <th>order_price</th>\n",
       "      <th>delivery_charges</th>\n",
       "      <th>customer_lat</th>\n",
       "      <th>customer_long</th>\n",
       "      <th>coupon_discount</th>\n",
       "      <th>...</th>\n",
       "      <th>distance_to_nearest_warehouse</th>\n",
       "      <th>latest_customer_review</th>\n",
       "      <th>is_happy_customer</th>\n",
       "      <th>Nickolson_Distance</th>\n",
       "      <th>Thompson_Distance</th>\n",
       "      <th>Bakers_Distance</th>\n",
       "      <th>least_distance</th>\n",
       "      <th>least_warehouse</th>\n",
       "      <th>polarity</th>\n",
       "      <th>happy</th>\n",
       "    </tr>\n",
       "  </thead>\n",
       "  <tbody>\n",
       "    <tr>\n",
       "      <th>130</th>\n",
       "      <td>ORD213238</td>\n",
       "      <td>ID1479905333</td>\n",
       "      <td>2019-05-13</td>\n",
       "      <td>Thompson</td>\n",
       "      <td>[('Thunder line', 1), ('Candle Inferno', 2), (...</td>\n",
       "      <td>NaN</td>\n",
       "      <td>52.59</td>\n",
       "      <td>-37.821200</td>\n",
       "      <td>144.955546</td>\n",
       "      <td>5</td>\n",
       "      <td>...</td>\n",
       "      <td>1.2069</td>\n",
       "      <td>unsatisfied this phone is slow when pressing b...</td>\n",
       "      <td>0.0</td>\n",
       "      <td>1.2652</td>\n",
       "      <td>1.2069</td>\n",
       "      <td>3.7061</td>\n",
       "      <td>1.2069</td>\n",
       "      <td>Thompson</td>\n",
       "      <td>-0.6597</td>\n",
       "      <td>0</td>\n",
       "    </tr>\n",
       "    <tr>\n",
       "      <th>147</th>\n",
       "      <td>ORD266051</td>\n",
       "      <td>ID0576868765</td>\n",
       "      <td>2019-12-31</td>\n",
       "      <td>Bakers</td>\n",
       "      <td>[('Lucent 330S', 2), ('Olivia x460', 1), ('pea...</td>\n",
       "      <td>NaN</td>\n",
       "      <td>101.98</td>\n",
       "      <td>-37.823822</td>\n",
       "      <td>144.990225</td>\n",
       "      <td>10</td>\n",
       "      <td>...</td>\n",
       "      <td>1.6008</td>\n",
       "      <td>ok i bought 3 items the best quality &amp; price</td>\n",
       "      <td>1.0</td>\n",
       "      <td>1.9088</td>\n",
       "      <td>3.9927</td>\n",
       "      <td>1.6008</td>\n",
       "      <td>1.6008</td>\n",
       "      <td>Bakers</td>\n",
       "      <td>0.7506</td>\n",
       "      <td>1</td>\n",
       "    </tr>\n",
       "  </tbody>\n",
       "</table>\n",
       "<p>2 rows × 23 columns</p>\n",
       "</div>"
      ],
      "text/plain": [
       "      order_id   customer_id        date nearest_warehouse  \\\n",
       "130  ORD213238  ID1479905333  2019-05-13          Thompson   \n",
       "147  ORD266051  ID0576868765  2019-12-31            Bakers   \n",
       "\n",
       "                                         shopping_cart  order_price  \\\n",
       "130  [('Thunder line', 1), ('Candle Inferno', 2), (...          NaN   \n",
       "147  [('Lucent 330S', 2), ('Olivia x460', 1), ('pea...          NaN   \n",
       "\n",
       "     delivery_charges  customer_lat  customer_long  coupon_discount  ...  \\\n",
       "130             52.59    -37.821200     144.955546                5  ...   \n",
       "147            101.98    -37.823822     144.990225               10  ...   \n",
       "\n",
       "     distance_to_nearest_warehouse  \\\n",
       "130                         1.2069   \n",
       "147                         1.6008   \n",
       "\n",
       "                                latest_customer_review  is_happy_customer  \\\n",
       "130  unsatisfied this phone is slow when pressing b...                0.0   \n",
       "147       ok i bought 3 items the best quality & price                1.0   \n",
       "\n",
       "     Nickolson_Distance Thompson_Distance  Bakers_Distance  least_distance  \\\n",
       "130              1.2652            1.2069           3.7061          1.2069   \n",
       "147              1.9088            3.9927           1.6008          1.6008   \n",
       "\n",
       "     least_warehouse  polarity  happy  \n",
       "130         Thompson   -0.6597      0  \n",
       "147           Bakers    0.7506      1  \n",
       "\n",
       "[2 rows x 23 columns]"
      ]
     },
     "execution_count": 135,
     "metadata": {},
     "output_type": "execute_result"
    }
   ],
   "source": [
    "missing_price = my_missing_data[my_missing_data['order_price'].isnull()]\n",
    "missing_price.head(2)"
   ]
  },
  {
   "cell_type": "code",
   "execution_count": 136,
   "metadata": {},
   "outputs": [
    {
     "data": {
      "text/plain": [
       "(15, 23)"
      ]
     },
     "execution_count": 136,
     "metadata": {},
     "output_type": "execute_result"
    }
   ],
   "source": [
    "# Number of rows with missing order price \n",
    "my_missing_data[my_missing_data['order_price'].isnull()].shape"
   ]
  },
  {
   "cell_type": "markdown",
   "metadata": {},
   "source": [
    "**Observations:**\n",
    "* Thus, we can see that there are 15 rows with the order price values missing. \n",
    "\n",
    "**Methodology to fix the values:**\n",
    "* I am using the functions defined above in order to calculate the order prices of the shopping cart.\n",
    "* Based on these values, we can fill in the required missing values."
   ]
  },
  {
   "cell_type": "code",
   "execution_count": 137,
   "metadata": {},
   "outputs": [
    {
     "data": {
      "text/plain": [
       "0                      {'Toshika 750': 1, 'pearTV': 1}\n",
       "1    {'Alcon 10': 1, 'Universe Note': 2, 'Toshika 7...\n",
       "Name: shopping_cart, dtype: object"
      ]
     },
     "execution_count": 137,
     "metadata": {},
     "output_type": "execute_result"
    }
   ],
   "source": [
    "# Comverting the values of the shopping cart into a dictionary for easier evaulation\n",
    "my_missing_data['shopping_cart'] = my_missing_data['shopping_cart'].apply(lambda x: dict(eval(x)))\n",
    "# Examining the top 2 elements of the shopping cart \n",
    "my_missing_data[\"shopping_cart\"].head(2)"
   ]
  },
  {
   "cell_type": "code",
   "execution_count": 138,
   "metadata": {},
   "outputs": [
    {
     "data": {
      "text/html": [
       "<div>\n",
       "<style scoped>\n",
       "    .dataframe tbody tr th:only-of-type {\n",
       "        vertical-align: middle;\n",
       "    }\n",
       "\n",
       "    .dataframe tbody tr th {\n",
       "        vertical-align: top;\n",
       "    }\n",
       "\n",
       "    .dataframe thead th {\n",
       "        text-align: right;\n",
       "    }\n",
       "</style>\n",
       "<table border=\"1\" class=\"dataframe\">\n",
       "  <thead>\n",
       "    <tr style=\"text-align: right;\">\n",
       "      <th></th>\n",
       "      <th>shopping_cart</th>\n",
       "      <th>order_price</th>\n",
       "      <th>calculated_order_price</th>\n",
       "    </tr>\n",
       "  </thead>\n",
       "  <tbody>\n",
       "    <tr>\n",
       "      <th>357</th>\n",
       "      <td>{'iAssist Line': 1, 'Thunder line': 1, 'Toshik...</td>\n",
       "      <td>NaN</td>\n",
       "      <td>9155.0</td>\n",
       "    </tr>\n",
       "    <tr>\n",
       "      <th>381</th>\n",
       "      <td>{'Lucent 330S': 2, 'Toshika 750': 1, 'Thunder ...</td>\n",
       "      <td>NaN</td>\n",
       "      <td>11410.0</td>\n",
       "    </tr>\n",
       "    <tr>\n",
       "      <th>396</th>\n",
       "      <td>{'Candle Inferno': 2, 'Thunder line': 2}</td>\n",
       "      <td>NaN</td>\n",
       "      <td>5220.0</td>\n",
       "    </tr>\n",
       "    <tr>\n",
       "      <th>472</th>\n",
       "      <td>{'Toshika 750': 2, 'iAssist Line': 1, 'Olivia ...</td>\n",
       "      <td>NaN</td>\n",
       "      <td>22265.0</td>\n",
       "    </tr>\n",
       "    <tr>\n",
       "      <th>492</th>\n",
       "      <td>{'iAssist Line': 2, 'Thunder line': 1, 'Univer...</td>\n",
       "      <td>NaN</td>\n",
       "      <td>26150.0</td>\n",
       "    </tr>\n",
       "  </tbody>\n",
       "</table>\n",
       "</div>"
      ],
      "text/plain": [
       "                                         shopping_cart  order_price  \\\n",
       "357  {'iAssist Line': 1, 'Thunder line': 1, 'Toshik...          NaN   \n",
       "381  {'Lucent 330S': 2, 'Toshika 750': 1, 'Thunder ...          NaN   \n",
       "396           {'Candle Inferno': 2, 'Thunder line': 2}          NaN   \n",
       "472  {'Toshika 750': 2, 'iAssist Line': 1, 'Olivia ...          NaN   \n",
       "492  {'iAssist Line': 2, 'Thunder line': 1, 'Univer...          NaN   \n",
       "\n",
       "     calculated_order_price  \n",
       "357                  9155.0  \n",
       "381                 11410.0  \n",
       "396                  5220.0  \n",
       "472                 22265.0  \n",
       "492                 26150.0  "
      ]
     },
     "execution_count": 138,
     "metadata": {},
     "output_type": "execute_result"
    }
   ],
   "source": [
    "# Calculating the order prices of the shopping cart manually \n",
    "my_missing_data['calculated_order_price'] = my_missing_data.apply(lambda x : order_price(x), axis = 1)\n",
    "\n",
    "missing_price = my_missing_data[my_missing_data['order_price'].isnull()]\n",
    "missing_price[[\"shopping_cart\",\"order_price\",\"calculated_order_price\"]].tail()"
   ]
  },
  {
   "cell_type": "code",
   "execution_count": 139,
   "metadata": {},
   "outputs": [],
   "source": [
    "# Wrong order prices \n",
    "missing_price = ( my_missing_data['order_price'].isnull() )\n",
    "\n",
    "# Filling the missing order_price\n",
    "my_missing_data.loc[missing_price,'order_price'] = my_missing_data['calculated_order_price']"
   ]
  },
  {
   "cell_type": "code",
   "execution_count": 140,
   "metadata": {},
   "outputs": [
    {
     "data": {
      "text/html": [
       "<div>\n",
       "<style scoped>\n",
       "    .dataframe tbody tr th:only-of-type {\n",
       "        vertical-align: middle;\n",
       "    }\n",
       "\n",
       "    .dataframe tbody tr th {\n",
       "        vertical-align: top;\n",
       "    }\n",
       "\n",
       "    .dataframe thead th {\n",
       "        text-align: right;\n",
       "    }\n",
       "</style>\n",
       "<table border=\"1\" class=\"dataframe\">\n",
       "  <thead>\n",
       "    <tr style=\"text-align: right;\">\n",
       "      <th></th>\n",
       "      <th>shopping_cart</th>\n",
       "      <th>order_price</th>\n",
       "      <th>calculated_order_price</th>\n",
       "    </tr>\n",
       "  </thead>\n",
       "  <tbody>\n",
       "    <tr>\n",
       "      <th>495</th>\n",
       "      <td>{'pearTV': 1, 'Olivia x460': 2, 'Toshika 750': 2}</td>\n",
       "      <td>17400.0</td>\n",
       "      <td>17400.0</td>\n",
       "    </tr>\n",
       "    <tr>\n",
       "      <th>496</th>\n",
       "      <td>{'iStream': 1, 'Olivia x460': 1, 'Toshika 750'...</td>\n",
       "      <td>5695.0</td>\n",
       "      <td>5695.0</td>\n",
       "    </tr>\n",
       "    <tr>\n",
       "      <th>497</th>\n",
       "      <td>{'Olivia x460': 2, 'Thunder line': 1}</td>\n",
       "      <td>4630.0</td>\n",
       "      <td>4630.0</td>\n",
       "    </tr>\n",
       "    <tr>\n",
       "      <th>498</th>\n",
       "      <td>{'Olivia x460': 1, 'Thunder line': 1, 'pearTV'...</td>\n",
       "      <td>12175.0</td>\n",
       "      <td>12175.0</td>\n",
       "    </tr>\n",
       "    <tr>\n",
       "      <th>499</th>\n",
       "      <td>{'Lucent 330S': 1, 'Olivia x460': 1, 'Candle I...</td>\n",
       "      <td>5540.0</td>\n",
       "      <td>5540.0</td>\n",
       "    </tr>\n",
       "  </tbody>\n",
       "</table>\n",
       "</div>"
      ],
      "text/plain": [
       "                                         shopping_cart  order_price  \\\n",
       "495  {'pearTV': 1, 'Olivia x460': 2, 'Toshika 750': 2}      17400.0   \n",
       "496  {'iStream': 1, 'Olivia x460': 1, 'Toshika 750'...       5695.0   \n",
       "497              {'Olivia x460': 2, 'Thunder line': 1}       4630.0   \n",
       "498  {'Olivia x460': 1, 'Thunder line': 1, 'pearTV'...      12175.0   \n",
       "499  {'Lucent 330S': 1, 'Olivia x460': 1, 'Candle I...       5540.0   \n",
       "\n",
       "     calculated_order_price  \n",
       "495                 17400.0  \n",
       "496                  5695.0  \n",
       "497                  4630.0  \n",
       "498                 12175.0  \n",
       "499                  5540.0  "
      ]
     },
     "execution_count": 140,
     "metadata": {},
     "output_type": "execute_result"
    }
   ],
   "source": [
    "my_missing_data[[\"shopping_cart\",\"order_price\",\"calculated_order_price\"]].tail()"
   ]
  },
  {
   "cell_type": "code",
   "execution_count": 141,
   "metadata": {},
   "outputs": [
    {
     "data": {
      "text/plain": [
       "(0, 24)"
      ]
     },
     "execution_count": 141,
     "metadata": {},
     "output_type": "execute_result"
    }
   ],
   "source": [
    "# Number of rows with missing order price \n",
    "my_missing_data[my_missing_data['order_price'].isnull()].shape"
   ]
  },
  {
   "cell_type": "markdown",
   "metadata": {},
   "source": [
    "**Thus,**\n",
    "\n",
    "All the missing order price values have been calculated and filled successfully!"
   ]
  },
  {
   "cell_type": "markdown",
   "metadata": {},
   "source": [
    "### 2.2.5 Missing Values : 5) Delivery Charges  <a class=\"anchor\" id=\"sec_225\"></a>"
   ]
  },
  {
   "cell_type": "code",
   "execution_count": 142,
   "metadata": {},
   "outputs": [
    {
     "data": {
      "text/html": [
       "<div>\n",
       "<style scoped>\n",
       "    .dataframe tbody tr th:only-of-type {\n",
       "        vertical-align: middle;\n",
       "    }\n",
       "\n",
       "    .dataframe tbody tr th {\n",
       "        vertical-align: top;\n",
       "    }\n",
       "\n",
       "    .dataframe thead th {\n",
       "        text-align: right;\n",
       "    }\n",
       "</style>\n",
       "<table border=\"1\" class=\"dataframe\">\n",
       "  <thead>\n",
       "    <tr style=\"text-align: right;\">\n",
       "      <th></th>\n",
       "      <th>order_id</th>\n",
       "      <th>customer_id</th>\n",
       "      <th>date</th>\n",
       "      <th>nearest_warehouse</th>\n",
       "      <th>shopping_cart</th>\n",
       "      <th>order_price</th>\n",
       "      <th>delivery_charges</th>\n",
       "      <th>customer_lat</th>\n",
       "      <th>customer_long</th>\n",
       "      <th>coupon_discount</th>\n",
       "      <th>...</th>\n",
       "      <th>latest_customer_review</th>\n",
       "      <th>is_happy_customer</th>\n",
       "      <th>Nickolson_Distance</th>\n",
       "      <th>Thompson_Distance</th>\n",
       "      <th>Bakers_Distance</th>\n",
       "      <th>least_distance</th>\n",
       "      <th>least_warehouse</th>\n",
       "      <th>polarity</th>\n",
       "      <th>happy</th>\n",
       "      <th>calculated_order_price</th>\n",
       "    </tr>\n",
       "  </thead>\n",
       "  <tbody>\n",
       "    <tr>\n",
       "      <th>0</th>\n",
       "      <td>ORD191274</td>\n",
       "      <td>ID6167344381</td>\n",
       "      <td>2019-05-01</td>\n",
       "      <td>Nickolson</td>\n",
       "      <td>{'Toshika 750': 1, 'pearTV': 1}</td>\n",
       "      <td>10630.0</td>\n",
       "      <td>NaN</td>\n",
       "      <td>-37.810387</td>\n",
       "      <td>144.966832</td>\n",
       "      <td>15</td>\n",
       "      <td>...</td>\n",
       "      <td>a great buy</td>\n",
       "      <td>1.0</td>\n",
       "      <td>0.9445</td>\n",
       "      <td>1.7566</td>\n",
       "      <td>2.4980</td>\n",
       "      <td>0.9445</td>\n",
       "      <td>Nickolson</td>\n",
       "      <td>0.6249</td>\n",
       "      <td>1</td>\n",
       "      <td>10630.0</td>\n",
       "    </tr>\n",
       "    <tr>\n",
       "      <th>1</th>\n",
       "      <td>ORD382063</td>\n",
       "      <td>ID0140980535</td>\n",
       "      <td>2019-02-10</td>\n",
       "      <td>Nickolson</td>\n",
       "      <td>{'Alcon 10': 1, 'Universe Note': 2, 'Toshika 7...</td>\n",
       "      <td>24920.0</td>\n",
       "      <td>NaN</td>\n",
       "      <td>-37.799383</td>\n",
       "      <td>144.972695</td>\n",
       "      <td>15</td>\n",
       "      <td>...</td>\n",
       "      <td>great phone great phone at a great price.</td>\n",
       "      <td>1.0</td>\n",
       "      <td>2.1564</td>\n",
       "      <td>2.6960</td>\n",
       "      <td>2.3076</td>\n",
       "      <td>2.1564</td>\n",
       "      <td>Nickolson</td>\n",
       "      <td>0.9231</td>\n",
       "      <td>1</td>\n",
       "      <td>24920.0</td>\n",
       "    </tr>\n",
       "  </tbody>\n",
       "</table>\n",
       "<p>2 rows × 24 columns</p>\n",
       "</div>"
      ],
      "text/plain": [
       "    order_id   customer_id        date nearest_warehouse  \\\n",
       "0  ORD191274  ID6167344381  2019-05-01         Nickolson   \n",
       "1  ORD382063  ID0140980535  2019-02-10         Nickolson   \n",
       "\n",
       "                                       shopping_cart  order_price  \\\n",
       "0                    {'Toshika 750': 1, 'pearTV': 1}      10630.0   \n",
       "1  {'Alcon 10': 1, 'Universe Note': 2, 'Toshika 7...      24920.0   \n",
       "\n",
       "   delivery_charges  customer_lat  customer_long  coupon_discount  ...  \\\n",
       "0               NaN    -37.810387     144.966832               15  ...   \n",
       "1               NaN    -37.799383     144.972695               15  ...   \n",
       "\n",
       "                      latest_customer_review is_happy_customer  \\\n",
       "0                                a great buy               1.0   \n",
       "1  great phone great phone at a great price.               1.0   \n",
       "\n",
       "   Nickolson_Distance  Thompson_Distance Bakers_Distance  least_distance  \\\n",
       "0              0.9445             1.7566          2.4980          0.9445   \n",
       "1              2.1564             2.6960          2.3076          2.1564   \n",
       "\n",
       "   least_warehouse  polarity  happy  calculated_order_price  \n",
       "0        Nickolson    0.6249      1                 10630.0  \n",
       "1        Nickolson    0.9231      1                 24920.0  \n",
       "\n",
       "[2 rows x 24 columns]"
      ]
     },
     "execution_count": 142,
     "metadata": {},
     "output_type": "execute_result"
    }
   ],
   "source": [
    "delivery_charge = my_missing_data[my_missing_data['delivery_charges'].isnull()]\n",
    "delivery_charge.head(2)"
   ]
  },
  {
   "cell_type": "code",
   "execution_count": 143,
   "metadata": {},
   "outputs": [
    {
     "data": {
      "text/plain": [
       "(40, 24)"
      ]
     },
     "execution_count": 143,
     "metadata": {},
     "output_type": "execute_result"
    }
   ],
   "source": [
    "# Number of rows with missing delivery charges\n",
    "my_missing_data[my_missing_data['delivery_charges'].isnull()].shape"
   ]
  },
  {
   "cell_type": "markdown",
   "metadata": {},
   "source": [
    "**Observations:**\n",
    "* Thus, we can see that there are 40 rows with the delivery charges values missing. \n",
    "\n",
    "**Methodology to fix the values:**\n",
    "* We need to define functions that can predict the values of delivery charges.\n",
    "* These values can then be used to fill in the missing delivery charges."
   ]
  },
  {
   "cell_type": "markdown",
   "metadata": {},
   "source": [
    "**Calculation of delivery charge:**\n",
    "* The delivery charges are calculated using a linear model.\n",
    "* The charge differs from season to season.\n",
    "* It is dependent on the following factors:\n",
    "    1. Distance between customer and nearest warehouse\n",
    "    2. Whether or not the customer wants an expedited delivery\n",
    "    3. Whether or not the customer was happy with his/her last purchase"
   ]
  },
  {
   "cell_type": "markdown",
   "metadata": {},
   "source": [
    "### Fixing the Summer Delivery Charges"
   ]
  },
  {
   "cell_type": "code",
   "execution_count": 144,
   "metadata": {},
   "outputs": [
    {
     "data": {
      "text/plain": [
       "(125, 4)"
      ]
     },
     "execution_count": 144,
     "metadata": {},
     "output_type": "execute_result"
    }
   ],
   "source": [
    "# Getting the data for the summer season \n",
    "# Taking only the required columns on which the delivery charge is dependent on \n",
    "Summer_data = my_outlier_data[ my_outlier_data['season']=='Summer'][['delivery_charges','distance_to_nearest_warehouse','is_expedited_delivery','is_happy_customer']]\n",
    "Summer_data.shape"
   ]
  },
  {
   "cell_type": "code",
   "execution_count": 145,
   "metadata": {},
   "outputs": [
    {
     "data": {
      "text/plain": [
       "LinearRegression(copy_X=True, fit_intercept=True, n_jobs=None, normalize=False)"
      ]
     },
     "execution_count": 145,
     "metadata": {},
     "output_type": "execute_result"
    }
   ],
   "source": [
    "# Reference : Taken from Wrangling Tutorial 8\n",
    "# https://towardsdatascience.com/simple-and-multiple-linear-regression-in-python-c928425168f9\n",
    "# Instantiating the Linear Regression Model \n",
    "lm = LinearRegression()\n",
    "# Training the model based on the outlier dataset\n",
    "lm.fit(Summer_data[[x for x in Summer_data.columns if x!= 'delivery_charges']], Summer_data['delivery_charges'])"
   ]
  },
  {
   "cell_type": "code",
   "execution_count": 146,
   "metadata": {},
   "outputs": [
    {
     "data": {
      "text/plain": [
       "array([106.09914669,  60.55977983, 107.94328371,  88.03551683,\n",
       "        67.86027598,  97.93422471,  78.72111269,  78.9969905 ,\n",
       "        80.25355587,  91.13171466, 102.55093368,  85.87403562,\n",
       "        90.55237127, 106.4153451 ])"
      ]
     },
     "execution_count": 146,
     "metadata": {},
     "output_type": "execute_result"
    }
   ],
   "source": [
    "summer_charge = (my_missing_data.season == 'Summer')&(my_missing_data.delivery_charges.isnull())\n",
    "# Applying the linear model to predict the delivery charges \n",
    "lm.predict(my_missing_data[summer_charge][['delivery_charges','distance_to_nearest_warehouse','is_expedited_delivery',\"is_happy_customer\"]].drop(['delivery_charges'],axis=1))"
   ]
  },
  {
   "cell_type": "code",
   "execution_count": 147,
   "metadata": {},
   "outputs": [],
   "source": [
    "null_index = list(my_missing_data['delivery_charges'][summer_charge].index)\n",
    "# Filling in the missing values \n",
    "my_missing_data.loc[null_index,'delivery_charges']= lm.predict(my_missing_data[summer_charge][['delivery_charges','distance_to_nearest_warehouse','is_expedited_delivery',\"is_happy_customer\"]].drop(['delivery_charges'],axis=1))"
   ]
  },
  {
   "cell_type": "markdown",
   "metadata": {},
   "source": [
    "### Fixing the Autumn Delivery Charges"
   ]
  },
  {
   "cell_type": "code",
   "execution_count": 148,
   "metadata": {},
   "outputs": [
    {
     "data": {
      "text/plain": [
       "(110, 4)"
      ]
     },
     "execution_count": 148,
     "metadata": {},
     "output_type": "execute_result"
    }
   ],
   "source": [
    "# Getting the data for the autumn season \n",
    "# Taking only the required columns on which the delivery charge is dependent on \n",
    "Autumn_data = my_outlier_data[ my_outlier_data['season']=='Autumn'][['delivery_charges','distance_to_nearest_warehouse','is_expedited_delivery','is_happy_customer']]\n",
    "Autumn_data.shape"
   ]
  },
  {
   "cell_type": "code",
   "execution_count": 149,
   "metadata": {},
   "outputs": [
    {
     "data": {
      "text/plain": [
       "LinearRegression(copy_X=True, fit_intercept=True, n_jobs=None, normalize=False)"
      ]
     },
     "execution_count": 149,
     "metadata": {},
     "output_type": "execute_result"
    }
   ],
   "source": [
    "# Reference : Taken from Wrangling Tutorial 8\n",
    "# Instantiating the Linear Regression Model \n",
    "lm = LinearRegression()\n",
    "# Training the model based on the outlier dataset\n",
    "lm.fit(Autumn_data[[x for x in Autumn_data.columns if x!= 'delivery_charges']], Autumn_data['delivery_charges'])"
   ]
  },
  {
   "cell_type": "code",
   "execution_count": 150,
   "metadata": {},
   "outputs": [
    {
     "data": {
      "text/plain": [
       "array([80.58693921, 82.3473355 , 65.84949244, 81.97396601, 68.16770327,\n",
       "       79.79119055, 68.99269964, 66.76012402, 67.52056462])"
      ]
     },
     "execution_count": 150,
     "metadata": {},
     "output_type": "execute_result"
    }
   ],
   "source": [
    "autumn_charge = (my_missing_data.season == 'Autumn')&(my_missing_data.delivery_charges.isnull())\n",
    "# Applying the linear model to predict the delivery charges\n",
    "lm.predict(my_missing_data[autumn_charge][['delivery_charges','distance_to_nearest_warehouse','is_expedited_delivery',\"is_happy_customer\"]].drop(['delivery_charges'],axis=1))"
   ]
  },
  {
   "cell_type": "code",
   "execution_count": 151,
   "metadata": {},
   "outputs": [],
   "source": [
    "null_index = list(my_missing_data['delivery_charges'][autumn_charge].index)\n",
    "# Filling in the missing values \n",
    "my_missing_data.loc[null_index,'delivery_charges']= lm.predict(my_missing_data[autumn_charge][['delivery_charges','distance_to_nearest_warehouse','is_expedited_delivery',\"is_happy_customer\"]].drop(['delivery_charges'],axis=1))"
   ]
  },
  {
   "cell_type": "code",
   "execution_count": 152,
   "metadata": {},
   "outputs": [],
   "source": [
    "#my_missing_data.isnull().sum()"
   ]
  },
  {
   "cell_type": "markdown",
   "metadata": {},
   "source": [
    "### Fixing the Winter Delivery Charges"
   ]
  },
  {
   "cell_type": "code",
   "execution_count": 153,
   "metadata": {},
   "outputs": [
    {
     "data": {
      "text/plain": [
       "(140, 4)"
      ]
     },
     "execution_count": 153,
     "metadata": {},
     "output_type": "execute_result"
    }
   ],
   "source": [
    "# Getting the data for the winter season \n",
    "# Taking only the required columns on which the delivery charge is dependent on \n",
    "Winter_data = my_outlier_data[ my_outlier_data['season']=='Winter'][['delivery_charges','distance_to_nearest_warehouse','is_expedited_delivery','is_happy_customer']]\n",
    "Winter_data.shape"
   ]
  },
  {
   "cell_type": "code",
   "execution_count": 154,
   "metadata": {},
   "outputs": [
    {
     "data": {
      "text/plain": [
       "LinearRegression(copy_X=True, fit_intercept=True, n_jobs=None, normalize=False)"
      ]
     },
     "execution_count": 154,
     "metadata": {},
     "output_type": "execute_result"
    }
   ],
   "source": [
    "# Reference : Taken from Wrangling Tutorial 8\n",
    "# Instantiating the Linear Regression Model \n",
    "lm = LinearRegression()\n",
    "# Training the model based on the outlier dataset\n",
    "lm.fit(Winter_data[[x for x in Winter_data.columns if x!= 'delivery_charges']], Winter_data['delivery_charges'])"
   ]
  },
  {
   "cell_type": "code",
   "execution_count": 155,
   "metadata": {},
   "outputs": [
    {
     "data": {
      "text/plain": [
       "array([82.64378157, 78.85595364, 78.37920157, 85.17991213, 84.85731584,\n",
       "       46.7670473 , 68.78149587, 78.60001932, 79.23330796])"
      ]
     },
     "execution_count": 155,
     "metadata": {},
     "output_type": "execute_result"
    }
   ],
   "source": [
    "winter_charge = (my_missing_data.season == 'Winter')&(my_missing_data.delivery_charges.isnull())\n",
    "# Applying the linear model to predict the delivery charges\n",
    "lm.predict(my_missing_data[winter_charge][['delivery_charges','distance_to_nearest_warehouse','is_expedited_delivery',\"is_happy_customer\"]].drop(['delivery_charges'],axis=1))"
   ]
  },
  {
   "cell_type": "code",
   "execution_count": 156,
   "metadata": {},
   "outputs": [],
   "source": [
    "null_index = list(my_missing_data['delivery_charges'][winter_charge].index)\n",
    "# Filling in the missing values \n",
    "my_missing_data.loc[null_index,'delivery_charges'] = lm.predict(my_missing_data[winter_charge][['delivery_charges','distance_to_nearest_warehouse','is_expedited_delivery',\"is_happy_customer\"]].drop(['delivery_charges'],axis=1))"
   ]
  },
  {
   "cell_type": "code",
   "execution_count": 157,
   "metadata": {},
   "outputs": [],
   "source": [
    "#my_missing_data.isnull().sum()"
   ]
  },
  {
   "cell_type": "markdown",
   "metadata": {},
   "source": [
    "### Fixing the Spring Delivery Charges"
   ]
  },
  {
   "cell_type": "code",
   "execution_count": 158,
   "metadata": {},
   "outputs": [
    {
     "data": {
      "text/plain": [
       "(125, 4)"
      ]
     },
     "execution_count": 158,
     "metadata": {},
     "output_type": "execute_result"
    }
   ],
   "source": [
    "# Getting the data for the spring season \n",
    "# Taking only the required columns on which the delivery charge is dependent on \n",
    "Spring_data = my_outlier_data[ my_outlier_data['season'] == 'Spring'][['delivery_charges','distance_to_nearest_warehouse','is_expedited_delivery','is_happy_customer']]\n",
    "Spring_data.shape"
   ]
  },
  {
   "cell_type": "code",
   "execution_count": 159,
   "metadata": {},
   "outputs": [
    {
     "data": {
      "text/plain": [
       "LinearRegression(copy_X=True, fit_intercept=True, n_jobs=None, normalize=False)"
      ]
     },
     "execution_count": 159,
     "metadata": {},
     "output_type": "execute_result"
    }
   ],
   "source": [
    "# Reference : Taken from Wrangling Tutorial 8\n",
    "# Instantiating the Linear Regression Model \n",
    "lm = LinearRegression()\n",
    "# Training the model based on the outlier dataset\n",
    "lm.fit(Spring_data[[x for x in Spring_data.columns if x!= 'delivery_charges']], Spring_data['delivery_charges'])"
   ]
  },
  {
   "cell_type": "code",
   "execution_count": 160,
   "metadata": {},
   "outputs": [
    {
     "data": {
      "text/plain": [
       "array([ 71.96019703,  75.05703852,  82.7682411 ,  91.3514757 ,\n",
       "       115.65785448,  69.63965181,  99.606727  ,  81.0798838 ])"
      ]
     },
     "execution_count": 160,
     "metadata": {},
     "output_type": "execute_result"
    }
   ],
   "source": [
    "spring_charge = (my_missing_data.season == 'Spring')&(my_missing_data.delivery_charges.isnull())\n",
    "# Applying the linear model to predict the delivery charges\n",
    "lm.predict(my_missing_data[spring_charge][['delivery_charges','distance_to_nearest_warehouse','is_expedited_delivery',\"is_happy_customer\"]].drop(['delivery_charges'],axis=1))"
   ]
  },
  {
   "cell_type": "code",
   "execution_count": 161,
   "metadata": {},
   "outputs": [],
   "source": [
    "null_index = list(my_missing_data['delivery_charges'][spring_charge].index)\n",
    "# Filling in the missing values \n",
    "my_missing_data.loc[null_index,'delivery_charges']= lm.predict(my_missing_data[spring_charge][['delivery_charges','distance_to_nearest_warehouse','is_expedited_delivery',\"is_happy_customer\"]].drop(['delivery_charges'],axis=1))"
   ]
  },
  {
   "cell_type": "code",
   "execution_count": 162,
   "metadata": {},
   "outputs": [],
   "source": [
    "#my_missing_data.isnull().sum()"
   ]
  },
  {
   "cell_type": "markdown",
   "metadata": {},
   "source": [
    "**Thus,**\n",
    "\n",
    "All the missing delivery charges have been calculated and filled successfully!"
   ]
  },
  {
   "cell_type": "markdown",
   "metadata": {},
   "source": [
    "### 2.2.6 Missing Values : 6) Order Total  <a class=\"anchor\" id=\"sec_226\"></a>"
   ]
  },
  {
   "cell_type": "code",
   "execution_count": 163,
   "metadata": {},
   "outputs": [
    {
     "data": {
      "text/html": [
       "<div>\n",
       "<style scoped>\n",
       "    .dataframe tbody tr th:only-of-type {\n",
       "        vertical-align: middle;\n",
       "    }\n",
       "\n",
       "    .dataframe tbody tr th {\n",
       "        vertical-align: top;\n",
       "    }\n",
       "\n",
       "    .dataframe thead th {\n",
       "        text-align: right;\n",
       "    }\n",
       "</style>\n",
       "<table border=\"1\" class=\"dataframe\">\n",
       "  <thead>\n",
       "    <tr style=\"text-align: right;\">\n",
       "      <th></th>\n",
       "      <th>order_id</th>\n",
       "      <th>customer_id</th>\n",
       "      <th>date</th>\n",
       "      <th>nearest_warehouse</th>\n",
       "      <th>shopping_cart</th>\n",
       "      <th>order_price</th>\n",
       "      <th>delivery_charges</th>\n",
       "      <th>customer_lat</th>\n",
       "      <th>customer_long</th>\n",
       "      <th>coupon_discount</th>\n",
       "      <th>...</th>\n",
       "      <th>latest_customer_review</th>\n",
       "      <th>is_happy_customer</th>\n",
       "      <th>Nickolson_Distance</th>\n",
       "      <th>Thompson_Distance</th>\n",
       "      <th>Bakers_Distance</th>\n",
       "      <th>least_distance</th>\n",
       "      <th>least_warehouse</th>\n",
       "      <th>polarity</th>\n",
       "      <th>happy</th>\n",
       "      <th>calculated_order_price</th>\n",
       "    </tr>\n",
       "  </thead>\n",
       "  <tbody>\n",
       "    <tr>\n",
       "      <th>130</th>\n",
       "      <td>ORD213238</td>\n",
       "      <td>ID1479905333</td>\n",
       "      <td>2019-05-13</td>\n",
       "      <td>Thompson</td>\n",
       "      <td>{'Thunder line': 1, 'Candle Inferno': 2, 'Luce...</td>\n",
       "      <td>4270.0</td>\n",
       "      <td>52.59</td>\n",
       "      <td>-37.821200</td>\n",
       "      <td>144.955546</td>\n",
       "      <td>5</td>\n",
       "      <td>...</td>\n",
       "      <td>unsatisfied this phone is slow when pressing b...</td>\n",
       "      <td>0.0</td>\n",
       "      <td>1.2652</td>\n",
       "      <td>1.2069</td>\n",
       "      <td>3.7061</td>\n",
       "      <td>1.2069</td>\n",
       "      <td>Thompson</td>\n",
       "      <td>-0.6597</td>\n",
       "      <td>0</td>\n",
       "      <td>4270.0</td>\n",
       "    </tr>\n",
       "    <tr>\n",
       "      <th>147</th>\n",
       "      <td>ORD266051</td>\n",
       "      <td>ID0576868765</td>\n",
       "      <td>2019-12-31</td>\n",
       "      <td>Bakers</td>\n",
       "      <td>{'Lucent 330S': 2, 'Olivia x460': 1, 'pearTV': 2}</td>\n",
       "      <td>16305.0</td>\n",
       "      <td>101.98</td>\n",
       "      <td>-37.823822</td>\n",
       "      <td>144.990225</td>\n",
       "      <td>10</td>\n",
       "      <td>...</td>\n",
       "      <td>ok i bought 3 items the best quality &amp; price</td>\n",
       "      <td>1.0</td>\n",
       "      <td>1.9088</td>\n",
       "      <td>3.9927</td>\n",
       "      <td>1.6008</td>\n",
       "      <td>1.6008</td>\n",
       "      <td>Bakers</td>\n",
       "      <td>0.7506</td>\n",
       "      <td>1</td>\n",
       "      <td>16305.0</td>\n",
       "    </tr>\n",
       "    <tr>\n",
       "      <th>228</th>\n",
       "      <td>ORD281027</td>\n",
       "      <td>ID2810279752</td>\n",
       "      <td>2019-10-06</td>\n",
       "      <td>Bakers</td>\n",
       "      <td>{'Lucent 330S': 1, 'Candle Inferno': 2, 'Thund...</td>\n",
       "      <td>8900.0</td>\n",
       "      <td>89.13</td>\n",
       "      <td>-37.817093</td>\n",
       "      <td>144.988818</td>\n",
       "      <td>25</td>\n",
       "      <td>...</td>\n",
       "      <td>one star i can't buy a micro sim card for it a...</td>\n",
       "      <td>0.0</td>\n",
       "      <td>1.7025</td>\n",
       "      <td>3.7042</td>\n",
       "      <td>0.9707</td>\n",
       "      <td>0.9707</td>\n",
       "      <td>Bakers</td>\n",
       "      <td>0.0000</td>\n",
       "      <td>0</td>\n",
       "      <td>8900.0</td>\n",
       "    </tr>\n",
       "    <tr>\n",
       "      <th>241</th>\n",
       "      <td>ORD245390</td>\n",
       "      <td>ID0814520168</td>\n",
       "      <td>2019-06-03</td>\n",
       "      <td>Thompson</td>\n",
       "      <td>{'iAssist Line': 1, 'Lucent 330S': 2}</td>\n",
       "      <td>4685.0</td>\n",
       "      <td>66.13</td>\n",
       "      <td>-37.811334</td>\n",
       "      <td>144.958376</td>\n",
       "      <td>0</td>\n",
       "      <td>...</td>\n",
       "      <td>durable this phone has been durable and works ...</td>\n",
       "      <td>1.0</td>\n",
       "      <td>1.2724</td>\n",
       "      <td>1.0055</td>\n",
       "      <td>3.2447</td>\n",
       "      <td>1.0055</td>\n",
       "      <td>Thompson</td>\n",
       "      <td>0.2263</td>\n",
       "      <td>1</td>\n",
       "      <td>4685.0</td>\n",
       "    </tr>\n",
       "    <tr>\n",
       "      <th>259</th>\n",
       "      <td>ORD115124</td>\n",
       "      <td>ID0561538913</td>\n",
       "      <td>2019-10-21</td>\n",
       "      <td>Bakers</td>\n",
       "      <td>{'Universe Note': 1, 'pearTV': 2}</td>\n",
       "      <td>16070.0</td>\n",
       "      <td>106.82</td>\n",
       "      <td>-37.798366</td>\n",
       "      <td>145.001464</td>\n",
       "      <td>0</td>\n",
       "      <td>...</td>\n",
       "      <td>five stars good product</td>\n",
       "      <td>1.0</td>\n",
       "      <td>3.5983</td>\n",
       "      <td>5.0422</td>\n",
       "      <td>1.4058</td>\n",
       "      <td>1.4058</td>\n",
       "      <td>Bakers</td>\n",
       "      <td>0.4404</td>\n",
       "      <td>1</td>\n",
       "      <td>16070.0</td>\n",
       "    </tr>\n",
       "  </tbody>\n",
       "</table>\n",
       "<p>5 rows × 24 columns</p>\n",
       "</div>"
      ],
      "text/plain": [
       "      order_id   customer_id        date nearest_warehouse  \\\n",
       "130  ORD213238  ID1479905333  2019-05-13          Thompson   \n",
       "147  ORD266051  ID0576868765  2019-12-31            Bakers   \n",
       "228  ORD281027  ID2810279752  2019-10-06            Bakers   \n",
       "241  ORD245390  ID0814520168  2019-06-03          Thompson   \n",
       "259  ORD115124  ID0561538913  2019-10-21            Bakers   \n",
       "\n",
       "                                         shopping_cart  order_price  \\\n",
       "130  {'Thunder line': 1, 'Candle Inferno': 2, 'Luce...       4270.0   \n",
       "147  {'Lucent 330S': 2, 'Olivia x460': 1, 'pearTV': 2}      16305.0   \n",
       "228  {'Lucent 330S': 1, 'Candle Inferno': 2, 'Thund...       8900.0   \n",
       "241              {'iAssist Line': 1, 'Lucent 330S': 2}       4685.0   \n",
       "259                  {'Universe Note': 1, 'pearTV': 2}      16070.0   \n",
       "\n",
       "     delivery_charges  customer_lat  customer_long  coupon_discount  ...  \\\n",
       "130             52.59    -37.821200     144.955546                5  ...   \n",
       "147            101.98    -37.823822     144.990225               10  ...   \n",
       "228             89.13    -37.817093     144.988818               25  ...   \n",
       "241             66.13    -37.811334     144.958376                0  ...   \n",
       "259            106.82    -37.798366     145.001464                0  ...   \n",
       "\n",
       "                                latest_customer_review is_happy_customer  \\\n",
       "130  unsatisfied this phone is slow when pressing b...               0.0   \n",
       "147       ok i bought 3 items the best quality & price               1.0   \n",
       "228  one star i can't buy a micro sim card for it a...               0.0   \n",
       "241  durable this phone has been durable and works ...               1.0   \n",
       "259                            five stars good product               1.0   \n",
       "\n",
       "     Nickolson_Distance  Thompson_Distance Bakers_Distance  least_distance  \\\n",
       "130              1.2652             1.2069          3.7061          1.2069   \n",
       "147              1.9088             3.9927          1.6008          1.6008   \n",
       "228              1.7025             3.7042          0.9707          0.9707   \n",
       "241              1.2724             1.0055          3.2447          1.0055   \n",
       "259              3.5983             5.0422          1.4058          1.4058   \n",
       "\n",
       "     least_warehouse  polarity  happy  calculated_order_price  \n",
       "130         Thompson   -0.6597      0                  4270.0  \n",
       "147           Bakers    0.7506      1                 16305.0  \n",
       "228           Bakers    0.0000      0                  8900.0  \n",
       "241         Thompson    0.2263      1                  4685.0  \n",
       "259           Bakers    0.4404      1                 16070.0  \n",
       "\n",
       "[5 rows x 24 columns]"
      ]
     },
     "execution_count": 163,
     "metadata": {},
     "output_type": "execute_result"
    }
   ],
   "source": [
    "missing_total = my_missing_data[my_missing_data['order_total'].isnull()]\n",
    "missing_total.head()"
   ]
  },
  {
   "cell_type": "code",
   "execution_count": 164,
   "metadata": {},
   "outputs": [
    {
     "data": {
      "text/plain": [
       "(15, 24)"
      ]
     },
     "execution_count": 164,
     "metadata": {},
     "output_type": "execute_result"
    }
   ],
   "source": [
    "missing_total.shape"
   ]
  },
  {
   "cell_type": "markdown",
   "metadata": {},
   "source": [
    "**Observations:**\n",
    "* Thus, we can see that there are 15 rows with the order total values missing. \n",
    "\n",
    "**Methodology to fix the values:**\n",
    "* I am using the functions defined above in order to calculate the order totals.\n",
    "* Based on these values, we can fill in the required missing values."
   ]
  },
  {
   "cell_type": "code",
   "execution_count": 165,
   "metadata": {},
   "outputs": [],
   "source": [
    "# Calculating the order total of the shopping cart manually \n",
    "my_missing_data['calculated_order_total'] = my_missing_data.apply(lambda x : order_total(x), axis = 1)\n",
    "#my_missing_data[[\"order_price\",\"coupon_discount\",\"delivery_charges\",\"order_total\",\"calculated_order_total\"]].head()"
   ]
  },
  {
   "cell_type": "code",
   "execution_count": 166,
   "metadata": {},
   "outputs": [],
   "source": [
    "# Missing order totals \n",
    "missing_totals = ( my_missing_data['order_total'].isnull() )\n",
    "# Filling in the Null Order totals \n",
    "my_missing_data.loc[missing_totals,'order_total'] = my_missing_data['calculated_order_total']"
   ]
  },
  {
   "cell_type": "code",
   "execution_count": 167,
   "metadata": {},
   "outputs": [],
   "source": [
    "#my_missing_data.isnull().sum()"
   ]
  },
  {
   "cell_type": "markdown",
   "metadata": {},
   "source": [
    "**Thus,**\n",
    "\n",
    "All the missing order total values have been calculated and filled successfully!"
   ]
  },
  {
   "cell_type": "markdown",
   "metadata": {},
   "source": [
    "## Task 3 : Removing Outlier rows <a class=\"anchor\" id=\"sec_23\"></a>\n",
    "\n",
    "* Here, I have used three major approaches to detect the outliers.\n",
    "* The first approroch was by plotting the boxplots.\n",
    "    * Here, just by observing the boxplot, I saw that there were values roughly below 30 and roughly above 105 which were the possible outliers.\n",
    "    * A total of 40 outliers were detected. \n",
    "    * However, I wanted to further ensure the correctness of these values.\n",
    "* The second approach was by calculating the quantiles and thhe inter-quantile range. \n",
    "    * Here, around 17 outliers were detected.\n",
    "    * In this method, we were missing out certain outliers.\n",
    "    * Hence, I decided to go for a method which would provide me a greater accuracy\n",
    "* The third approach was by using a linear model. \n",
    "    * According to the assignment specification, the delivery charges varied for every season. In every season, it was linearly dependent on three factors : expedited delivery, customer happiness, and distance to nearest warehouse.\n",
    "    * Here, I came up with a linear model for every season and used this model to predict the delivery charges.\n",
    "    * The accuracy of these models were around 0.99 \n",
    "    * I then calculated the charge differences of the actual and predicted values.\n",
    "    * Finally, I calculated the quantiles of these differences in order to detect the outliers.\n",
    "    * A total of 40 outliers were detected!\n",
    "* These outliers were then removed from the dataset. "
   ]
  },
  {
   "cell_type": "code",
   "execution_count": 168,
   "metadata": {},
   "outputs": [
    {
     "data": {
      "text/html": [
       "<div>\n",
       "<style scoped>\n",
       "    .dataframe tbody tr th:only-of-type {\n",
       "        vertical-align: middle;\n",
       "    }\n",
       "\n",
       "    .dataframe tbody tr th {\n",
       "        vertical-align: top;\n",
       "    }\n",
       "\n",
       "    .dataframe thead th {\n",
       "        text-align: right;\n",
       "    }\n",
       "</style>\n",
       "<table border=\"1\" class=\"dataframe\">\n",
       "  <thead>\n",
       "    <tr style=\"text-align: right;\">\n",
       "      <th></th>\n",
       "      <th>order_id</th>\n",
       "      <th>customer_id</th>\n",
       "      <th>date</th>\n",
       "      <th>nearest_warehouse</th>\n",
       "      <th>shopping_cart</th>\n",
       "      <th>order_price</th>\n",
       "      <th>delivery_charges</th>\n",
       "      <th>customer_lat</th>\n",
       "      <th>customer_long</th>\n",
       "      <th>coupon_discount</th>\n",
       "      <th>order_total</th>\n",
       "      <th>season</th>\n",
       "      <th>is_expedited_delivery</th>\n",
       "      <th>distance_to_nearest_warehouse</th>\n",
       "      <th>latest_customer_review</th>\n",
       "      <th>is_happy_customer</th>\n",
       "    </tr>\n",
       "  </thead>\n",
       "  <tbody>\n",
       "    <tr>\n",
       "      <th>0</th>\n",
       "      <td>ORD263255</td>\n",
       "      <td>ID0587652977</td>\n",
       "      <td>2019-06-02</td>\n",
       "      <td>Nickolson</td>\n",
       "      <td>[('iAssist Line', 1), ('Universe Note', 2), ('...</td>\n",
       "      <td>9275</td>\n",
       "      <td>63.59</td>\n",
       "      <td>-37.825338</td>\n",
       "      <td>144.958521</td>\n",
       "      <td>15</td>\n",
       "      <td>7947.34</td>\n",
       "      <td>Winter</td>\n",
       "      <td>True</td>\n",
       "      <td>1.2264</td>\n",
       "      <td>consulta? me interesa saber que sistema operat...</td>\n",
       "      <td>False</td>\n",
       "    </tr>\n",
       "    <tr>\n",
       "      <th>1</th>\n",
       "      <td>ORD049852</td>\n",
       "      <td>ID0576879077</td>\n",
       "      <td>2019-05-05</td>\n",
       "      <td>Nickolson</td>\n",
       "      <td>[('Lucent 330S', 2), ('iAssist Line', 2), ('Th...</td>\n",
       "      <td>11270</td>\n",
       "      <td>79.87</td>\n",
       "      <td>-37.819667</td>\n",
       "      <td>144.979626</td>\n",
       "      <td>5</td>\n",
       "      <td>10786.37</td>\n",
       "      <td>Autumn</td>\n",
       "      <td>True</td>\n",
       "      <td>0.8940</td>\n",
       "      <td>this is my second candle inferno, and the only...</td>\n",
       "      <td>True</td>\n",
       "    </tr>\n",
       "  </tbody>\n",
       "</table>\n",
       "</div>"
      ],
      "text/plain": [
       "    order_id   customer_id        date nearest_warehouse  \\\n",
       "0  ORD263255  ID0587652977  2019-06-02         Nickolson   \n",
       "1  ORD049852  ID0576879077  2019-05-05         Nickolson   \n",
       "\n",
       "                                       shopping_cart  order_price  \\\n",
       "0  [('iAssist Line', 1), ('Universe Note', 2), ('...         9275   \n",
       "1  [('Lucent 330S', 2), ('iAssist Line', 2), ('Th...        11270   \n",
       "\n",
       "   delivery_charges  customer_lat  customer_long  coupon_discount  \\\n",
       "0             63.59    -37.825338     144.958521               15   \n",
       "1             79.87    -37.819667     144.979626                5   \n",
       "\n",
       "   order_total  season  is_expedited_delivery  distance_to_nearest_warehouse  \\\n",
       "0      7947.34  Winter                   True                         1.2264   \n",
       "1     10786.37  Autumn                   True                         0.8940   \n",
       "\n",
       "                              latest_customer_review  is_happy_customer  \n",
       "0  consulta? me interesa saber que sistema operat...              False  \n",
       "1  this is my second candle inferno, and the only...               True  "
      ]
     },
     "execution_count": 168,
     "metadata": {},
     "output_type": "execute_result"
    }
   ],
   "source": [
    "# Loading the outlier data dataset \n",
    "my_outlier_data = pd.read_csv(\"30945305_outlier_data.csv\")\n",
    "my_outlier_data.head(2)"
   ]
  },
  {
   "cell_type": "code",
   "execution_count": 169,
   "metadata": {},
   "outputs": [
    {
     "data": {
      "text/plain": [
       "(500, 16)"
      ]
     },
     "execution_count": 169,
     "metadata": {},
     "output_type": "execute_result"
    }
   ],
   "source": [
    "my_outlier_data.shape"
   ]
  },
  {
   "cell_type": "markdown",
   "metadata": {},
   "source": [
    "### 2.3.1 Outlier Detection Approach 1 : Using Boxplots <a class=\"anchor\" id=\"sec_31\"></a>\n",
    "\n",
    "* Here, in order to view the different outliers, I have plotted a box plot for the data. \n",
    "* From the box plot, I could detect a total of 25 possible outliers."
   ]
  },
  {
   "cell_type": "code",
   "execution_count": 170,
   "metadata": {},
   "outputs": [
    {
     "data": {
      "text/plain": [
       "(array([1, 2, 3, 4, 5, 6, 7, 8, 9]), <a list of 9 Text xticklabel objects>)"
      ]
     },
     "execution_count": 170,
     "metadata": {},
     "output_type": "execute_result"
    },
    {
     "data": {
      "image/png": "[encoded data removed]",
      "text/plain": [
       "<Figure size 432x288 with 1 Axes>"
      ]
     },
     "metadata": {
      "needs_background": "light"
     },
     "output_type": "display_data"
    }
   ],
   "source": [
    "# # Plotting box-plots to view possible outliers \n",
    "bp = my_outlier_data.boxplot()\n",
    "plt.xticks(rotation = 45)"
   ]
  },
  {
   "cell_type": "markdown",
   "metadata": {},
   "source": [
    "* We can see that there are outliers for a lot of attributes.\n",
    "* However, our focus will be on the column of delivery charges."
   ]
  },
  {
   "cell_type": "code",
   "execution_count": 171,
   "metadata": {},
   "outputs": [
    {
     "data": {
      "text/plain": [
       "(array([1]), <a list of 1 Text xticklabel objects>)"
      ]
     },
     "execution_count": 171,
     "metadata": {},
     "output_type": "execute_result"
    },
    {
     "data": {
      "image/png": "[encoded data removed]",
      "text/plain": [
       "<Figure size 432x288 with 1 Axes>"
      ]
     },
     "metadata": {
      "needs_background": "light"
     },
     "output_type": "display_data"
    }
   ],
   "source": [
    "# Box-plot to view outliers only for the delivery charge \n",
    "bp = my_outlier_data.boxplot(column = 'delivery_charges')\n",
    "plt.xticks(rotation = 0)"
   ]
  },
  {
   "cell_type": "code",
   "execution_count": 172,
   "metadata": {},
   "outputs": [
    {
     "data": {
      "text/plain": [
       "(array([1, 2, 3, 4]), <a list of 4 Text xticklabel objects>)"
      ]
     },
     "execution_count": 172,
     "metadata": {},
     "output_type": "execute_result"
    },
    {
     "data": {
      "image/png": "[encoded data removed]",
      "text/plain": [
       "<Figure size 432x288 with 1 Axes>"
      ]
     },
     "metadata": {
      "needs_background": "light"
     },
     "output_type": "display_data"
    }
   ],
   "source": [
    "# Viewing the outliers grouped by season as the delivery charge is season dependent \n",
    "bp = my_outlier_data.boxplot(column = 'delivery_charges', by = \"season\")\n",
    "plt.xticks(rotation = 0)"
   ]
  },
  {
   "cell_type": "markdown",
   "metadata": {},
   "source": [
    "* Thus, we can see that there are many extreme values for the delivery charges.\n",
    "* Outliers:\n",
    "    * Approximately greater than 105\n",
    "    * Approximately lesser than 40"
   ]
  },
  {
   "cell_type": "code",
   "execution_count": 173,
   "metadata": {},
   "outputs": [
    {
     "data": {
      "text/plain": [
       "(40, 16)"
      ]
     },
     "execution_count": 173,
     "metadata": {},
     "output_type": "execute_result"
    }
   ],
   "source": [
    "# Filtering out the data to view the possible outliers\n",
    "outliers_plot = my_outlier_data[( my_outlier_data['delivery_charges'] > 105) | (my_outlier_data['delivery_charges'] < 40) ] \n",
    "outliers_plot.shape"
   ]
  },
  {
   "cell_type": "markdown",
   "metadata": {},
   "source": [
    "* Thus, roughly we have to detect around 40 outliers in this dataset."
   ]
  },
  {
   "cell_type": "markdown",
   "metadata": {},
   "source": [
    "### 2.3.2 Outlier Detection Approach 2 : Using Quantiles <a class=\"anchor\" id=\"sec_32\"></a>\n",
    "\n",
    "* Here, I have calculated the lower and upper quantiles.\n",
    "* Then, using the Inter Quantile range, I have calculated the lower and upper limits.\n",
    "* I have then used these values to detect the outliers."
   ]
  },
  {
   "cell_type": "code",
   "execution_count": 174,
   "metadata": {},
   "outputs": [
    {
     "name": "stdout",
     "output_type": "stream",
     "text": [
      "The Quantiles are:\n",
      "\n",
      " Q1 : 65.5125  \n",
      " Q2 : 76.065  \n",
      " Q3 : 85.1425\n"
     ]
    }
   ],
   "source": [
    "# Generating the quantiles \n",
    "# https://stackoverflow.com/questions/45926230/how-to-calculate-1st-and-3rd-quartiles\n",
    "overall_quantiles = list(my_outlier_data.delivery_charges.quantile([0.25,0.5,0.75]))\n",
    "\n",
    "# Vewing the quantiles\n",
    "print(\"The Quantiles are:\")\n",
    "print(\"\\n Q1 :\",overall_quantiles[0], \" \\n Q2 :\",overall_quantiles[1], \" \\n Q3 :\", overall_quantiles[2])"
   ]
  },
  {
   "cell_type": "code",
   "execution_count": 175,
   "metadata": {},
   "outputs": [],
   "source": [
    "# Calculating the IQ\n",
    "IQR = round( overall_quantiles[2] - overall_quantiles[0], 2)\n",
    "\n",
    "# Calculating the lower limit : Q1 -(1.5*IQR)\n",
    "lower_range = round( overall_quantiles[0]-(1.5*IQR), 2)\n",
    "\n",
    "# Calculating the Upper limit : Q3 +(1.5*IQR)\n",
    "upper_range = round( overall_quantiles[2]+(1.5*IQR), 2)"
   ]
  },
  {
   "cell_type": "code",
   "execution_count": 176,
   "metadata": {},
   "outputs": [
    {
     "name": "stdout",
     "output_type": "stream",
     "text": [
      "IQR: 19.63\n",
      "Lower Limit: 36.07\n",
      "Upper Limit: 114.59\n"
     ]
    }
   ],
   "source": [
    "print(\"IQR:\",IQR)\n",
    "print(\"Lower Limit:\",lower_range)\n",
    "print(\"Upper Limit:\",upper_range)"
   ]
  },
  {
   "cell_type": "code",
   "execution_count": 177,
   "metadata": {},
   "outputs": [
    {
     "name": "stdout",
     "output_type": "stream",
     "text": [
      "Outliers detected through quantiles: 17\n"
     ]
    }
   ],
   "source": [
    "# Filtering out the data in terms of quantiles\n",
    "outliers_quantiles = my_outlier_data[( my_outlier_data['delivery_charges'] > upper_range) | (my_outlier_data['delivery_charges'] < lower_range) ] \n",
    "print(\"Outliers detected through quantiles:\",outliers_quantiles.shape[0])"
   ]
  },
  {
   "cell_type": "markdown",
   "metadata": {},
   "source": [
    "* Using this method, we can see that we have been able to detect only 17 outliers.\n",
    "* We have may have missed out a few possible outliers."
   ]
  },
  {
   "cell_type": "code",
   "execution_count": 178,
   "metadata": {},
   "outputs": [
    {
     "name": "stdout",
     "output_type": "stream",
     "text": [
      "Possible number of in-between outliers: 23\n"
     ]
    }
   ],
   "source": [
    "# Checking the possible in between outliers which we may have missed out \n",
    "in_between = my_outlier_data[ ( (my_outlier_data['delivery_charges'] > 105) & (my_outlier_data['delivery_charges'] < upper_range) )\n",
    "                             |( (my_outlier_data['delivery_charges'] > lower_range) & (my_outlier_data['delivery_charges'] < 40) ) ] \n",
    "print(\"Possible number of in-between outliers:\",in_between.shape[0])"
   ]
  },
  {
   "cell_type": "markdown",
   "metadata": {},
   "source": [
    "### 2.3.3 Outlier Detection Approach 3 : Fitting a Linear Model <a class=\"anchor\" id=\"sec_33\"></a>\n",
    "\n",
    "* Clearly, from the above method of quantiles, we can see that we are missing out on some possible outliers.\n",
    "* Thus, we need a different method which is able to accurately detect the outliers.\n",
    "* Hence, I have created linear models for every season. \n",
    "* Since the linearity of our delivery charge changes every season, I have separated out the data for each season.\n",
    "* I have then trained the model using the imputed missing dataset.\n",
    "* I have then used this model to generate predicted values.\n",
    "* Then, using the difference between the actual and predicted values, I have calculated quantiles.\n",
    "* These quantiles are then used to calculate the lower and upper limits and calculate the possible outliers.\n"
   ]
  },
  {
   "cell_type": "code",
   "execution_count": 179,
   "metadata": {},
   "outputs": [
    {
     "data": {
      "image/png": "[encoded data removed]",
      "text/plain": [
       "<Figure size 432x288 with 1 Axes>"
      ]
     },
     "metadata": {
      "needs_background": "light"
     },
     "output_type": "display_data"
    }
   ],
   "source": [
    "# Creating a new figure \n",
    "plt.figure() \n",
    "\n",
    "# Plotting histogram for our delivery charges \n",
    "plt.hist(my_outlier_data['delivery_charges'], color = 'orange') \n",
    "plt.title('Delivery Charges Histogram') \n",
    "plt.xlabel('Delivery Charges')\n",
    "plt.ylabel('Count of the delivery charges')\n",
    "plt.grid()"
   ]
  },
  {
   "cell_type": "markdown",
   "metadata": {},
   "source": [
    "**Observations from the Histogram:**\n",
    "* This histogram gives us a general overview of the distribution of the data.\n",
    "* Thus, we can see that most of the values of the delivery charges lies between 60 and 100.\n",
    "* There are a few values which appear roughly above 105 and some below 40.\n",
    "* These are the outliers that we need to identify and remove!"
   ]
  },
  {
   "cell_type": "markdown",
   "metadata": {},
   "source": [
    "### Predicting Values for the Summer Season:\n",
    "\n",
    "* Separate out the Summer data.\n",
    "* Fit a linear model using the imputed missing dataset.\n",
    "* Use this model to predict the delivery charge."
   ]
  },
  {
   "cell_type": "code",
   "execution_count": 180,
   "metadata": {},
   "outputs": [],
   "source": [
    "# Getting the data for the summer season \n",
    "# Taking only the required columns on which the delivery charge is dependent on \n",
    "summer = my_missing_data[ my_missing_data['season'] == 'Summer'][['delivery_charges','distance_to_nearest_warehouse','is_expedited_delivery','is_happy_customer']]\n",
    "\n",
    "# Reference : Taken from Wrangling Tutorial 8\n",
    "# Instantiating the Linear Regression Model \n",
    "lm = LinearRegression()\n",
    "# Training the model based on the imputed missing data dataset\n",
    "lm.fit(summer[[x for x in summer.columns if x!= 'delivery_charges']], summer['delivery_charges'])\n",
    "\n",
    "summer_charge = (my_outlier_data.season == 'Summer')\n",
    "# Applying the linear model to predict the delivery charges\n",
    "summer_values = lm.predict(my_outlier_data[summer_charge][['delivery_charges','distance_to_nearest_warehouse','is_expedited_delivery',\"is_happy_customer\"]].drop(['delivery_charges'],axis=1))\n",
    "\n",
    "# Creating a new column for all the predicted values \n",
    "my_outlier_data[\"predicted_delivery_charge\"] = np.nan\n",
    "\n",
    "# For inserting values only for the summer season \n",
    "summer_index = list(my_outlier_data['delivery_charges'][summer_charge].index)\n",
    "my_outlier_data.loc[summer_index,'predicted_delivery_charge'] = np.around(summer_values,2)"
   ]
  },
  {
   "cell_type": "code",
   "execution_count": 181,
   "metadata": {},
   "outputs": [
    {
     "name": "stdout",
     "output_type": "stream",
     "text": [
      "R-Squared for the Summer Model: 0.5362\n"
     ]
    }
   ],
   "source": [
    "summer_test = my_outlier_data[ my_outlier_data['season'] == 'Summer'][['delivery_charges','distance_to_nearest_warehouse','is_expedited_delivery','is_happy_customer']]\n",
    "\n",
    "X = summer_test[[x for x in summer_test.columns if x!= 'delivery_charges']]\n",
    "y = summer_test['delivery_charges']\n",
    "\n",
    "summer_test_score = lm.score(X,y)\n",
    "print(\"R-Squared for the Summer Model:\",round(summer_test_score, 4))"
   ]
  },
  {
   "cell_type": "code",
   "execution_count": 182,
   "metadata": {},
   "outputs": [
    {
     "name": "stdout",
     "output_type": "stream",
     "text": [
      "R-Squared for the Testing Autumn Model: 0.9953\n"
     ]
    }
   ],
   "source": [
    "X = summer[[x for x in summer.columns if x!= 'delivery_charges']]\n",
    "y = summer['delivery_charges']\n",
    "\n",
    "summer_train_score = lm.score(X,y)\n",
    "print(\"R-Squared for the Testing Autumn Model:\",round(summer_train_score, 4))"
   ]
  },
  {
   "cell_type": "markdown",
   "metadata": {},
   "source": [
    "**R-Squared Values in general:**\n",
    "\n",
    "* R-Squared in general gives an indication of how close the data is to the fitted regression line.\n",
    "* R-Squared value is the % of the variation of the response variable, which is determined by the linear model.\n",
    "* Thus, R-squared Value = (Explained variation) / (Total variation) \n",
    "* It is between 0% and 100%. \n",
    "* Greater the value of R-Squared, greater is the accuracy of the model. \n",
    "\n",
    "**R-Squared Value here:**\n",
    "* Here, we have an high value of R-Squared Value.\n",
    "* This indicates that the high accuracy of the linear model."
   ]
  },
  {
   "cell_type": "markdown",
   "metadata": {},
   "source": [
    "### Predicting Values for the Autumn Season:\n",
    "\n",
    "* Using the steps mentioned above, I have done the same for predicting the delivery charges for Autumn!"
   ]
  },
  {
   "cell_type": "code",
   "execution_count": 183,
   "metadata": {},
   "outputs": [],
   "source": [
    "# Getting the data for the autumn season \n",
    "# Taking only the required columns on which the delivery charge is dependent on \n",
    "autumn = my_missing_data[ my_missing_data['season'] == 'Autumn'][['delivery_charges','distance_to_nearest_warehouse',\n",
    "                                                                  'is_expedited_delivery','is_happy_customer']]\n",
    "\n",
    "# Reference : Taken from Wrangling Tutorial 8\n",
    "# Instantiating the Linear Regression Model \n",
    "lm = LinearRegression()\n",
    "# Training the model based on the imputed missing data dataset\n",
    "lm.fit(autumn[[x for x in autumn.columns if x!= 'delivery_charges']], autumn['delivery_charges'])\n",
    "\n",
    "autumn_charge = (my_outlier_data.season == 'Autumn')\n",
    "# Applying the linear model to predict the delivery charges\n",
    "autumn_values = lm.predict(my_outlier_data[autumn_charge][['delivery_charges','distance_to_nearest_warehouse',\n",
    "                                                              'is_expedited_delivery',\"is_happy_customer\"]].drop(['delivery_charges'],axis=1))\n",
    "# For inserting values only for the autumn season \n",
    "autumn_index = list(my_outlier_data['delivery_charges'][autumn_charge].index)\n",
    "my_outlier_data.loc[autumn_index,'predicted_delivery_charge'] = np.around(autumn_values,2)"
   ]
  },
  {
   "cell_type": "code",
   "execution_count": 184,
   "metadata": {},
   "outputs": [
    {
     "name": "stdout",
     "output_type": "stream",
     "text": [
      "R-Squared for the Training Autumn Model: 0.4409\n"
     ]
    }
   ],
   "source": [
    "autumn_test = my_outlier_data[ my_outlier_data['season'] == 'Autumn'][['delivery_charges','distance_to_nearest_warehouse','is_expedited_delivery','is_happy_customer']]\n",
    "\n",
    "X = autumn_test[[x for x in autumn_test.columns if x!= 'delivery_charges']]\n",
    "y = autumn_test['delivery_charges']\n",
    "\n",
    "autumn_test_score = lm.score(X,y)\n",
    "print(\"R-Squared for the Training Autumn Model:\",round(autumn_test_score, 4))"
   ]
  },
  {
   "cell_type": "code",
   "execution_count": 185,
   "metadata": {},
   "outputs": [
    {
     "name": "stdout",
     "output_type": "stream",
     "text": [
      "R-Squared for the Testing Autumn Model: 0.9898\n"
     ]
    }
   ],
   "source": [
    "X = autumn[[x for x in autumn.columns if x!= 'delivery_charges']]\n",
    "y = autumn['delivery_charges']\n",
    "\n",
    "autumn_train_score = lm.score(X,y)\n",
    "print(\"R-Squared for the Testing Autumn Model:\",round(autumn_train_score, 4))"
   ]
  },
  {
   "cell_type": "markdown",
   "metadata": {},
   "source": [
    "**R-Squared Value here:**\n",
    "* Value = 0.9898 \n",
    "* Here, we have an high value of R-Squared.\n",
    "* This indicates that the high accuracy of the linear model."
   ]
  },
  {
   "cell_type": "markdown",
   "metadata": {},
   "source": [
    "### Predicting Values for the Winter Season:\n",
    "\n",
    "* Using the steps mentioned above, I have done the same for predicting the delivery charges for Winter!"
   ]
  },
  {
   "cell_type": "code",
   "execution_count": 186,
   "metadata": {},
   "outputs": [],
   "source": [
    "# Getting the data for the winter season \n",
    "# Taking only the required columns on which the delivery charge is dependent on \n",
    "winter = my_missing_data[ my_missing_data['season'] == 'Winter'][['delivery_charges','distance_to_nearest_warehouse',\n",
    "                                                                  'is_expedited_delivery','is_happy_customer']]\n",
    "\n",
    "# Reference : Taken from Wrangling Tutorial 8\n",
    "# Instantiating the Linear Regression Model \n",
    "lm = LinearRegression()\n",
    "# Training the model based on the imputed missing data dataset\n",
    "lm.fit(winter[[x for x in winter.columns if x!= 'delivery_charges']], winter['delivery_charges'])\n",
    "\n",
    "winter_charge = (my_outlier_data.season == 'Winter')\n",
    "# Applying the linear model to predict the delivery charges\n",
    "winter_values = lm.predict(my_outlier_data[winter_charge][['delivery_charges','distance_to_nearest_warehouse',\n",
    "                                                              'is_expedited_delivery',\"is_happy_customer\"]].drop(['delivery_charges'],axis=1))\n",
    "# For inserting values only for the winter season \n",
    "winter_index = list(my_outlier_data['delivery_charges'][winter_charge].index)\n",
    "my_outlier_data.loc[winter_index,'predicted_delivery_charge'] = np.around(winter_values,2)"
   ]
  },
  {
   "cell_type": "code",
   "execution_count": 187,
   "metadata": {},
   "outputs": [
    {
     "name": "stdout",
     "output_type": "stream",
     "text": [
      "R-Squared for the Testing Winter Model: 0.4181\n"
     ]
    }
   ],
   "source": [
    "winter_test = my_outlier_data[ my_outlier_data['season'] == 'Winter'][['delivery_charges','distance_to_nearest_warehouse',\n",
    "                                                                       'is_expedited_delivery','is_happy_customer']]\n",
    "\n",
    "X = winter_test[[x for x in autumn_test.columns if x!= 'delivery_charges']]\n",
    "y = winter_test['delivery_charges']\n",
    "\n",
    "winter_test_score = lm.score(X,y)\n",
    "print(\"R-Squared for the Testing Winter Model:\",round(winter_test_score, 4))"
   ]
  },
  {
   "cell_type": "code",
   "execution_count": 188,
   "metadata": {},
   "outputs": [
    {
     "name": "stdout",
     "output_type": "stream",
     "text": [
      "R-Squared for the Training Winter Model: 0.9898\n"
     ]
    }
   ],
   "source": [
    "winter_train_score = lm.score(winter[[x for x in winter.columns if x!= 'delivery_charges']], winter['delivery_charges'])\n",
    "print(\"R-Squared for the Training Winter Model:\",round(winter_train_score,4))"
   ]
  },
  {
   "cell_type": "markdown",
   "metadata": {},
   "source": [
    "**R-Squared Value here:**\n",
    "* Value = 0.9898 \n",
    "* Here, we have an high value of R-Squared.\n",
    "* This indicates that the high accuracy of the linear model."
   ]
  },
  {
   "cell_type": "markdown",
   "metadata": {},
   "source": [
    "### Predicting Values for the Spring Season:\n",
    "\n",
    "* Using the steps mentioned above, I have done the same for predicting the delivery charges for Spring!"
   ]
  },
  {
   "cell_type": "code",
   "execution_count": 189,
   "metadata": {},
   "outputs": [],
   "source": [
    "# Getting the data for the Spring season \n",
    "# Taking only the required columns on which the delivery charge is dependent on \n",
    "spring = my_missing_data[ my_missing_data['season'] == 'Spring'][['delivery_charges','distance_to_nearest_warehouse',\n",
    "                                                                  'is_expedited_delivery','is_happy_customer']]\n",
    "\n",
    "# Reference : Taken from Wrangling Tutorial 8\n",
    "# Instantiating the Linear Regression Model \n",
    "lm = LinearRegression()\n",
    "# Training the model based on the imputed missing data dataset\n",
    "lm.fit(spring[[x for x in spring.columns if x!= 'delivery_charges']], spring['delivery_charges'])\n",
    "\n",
    "spring_charge = (my_outlier_data.season == 'Spring')\n",
    "# Applying the linear model to predict the delivery charges\n",
    "spring_values = lm.predict(my_outlier_data[spring_charge][['delivery_charges','distance_to_nearest_warehouse',\n",
    "                                                              'is_expedited_delivery',\"is_happy_customer\"]].drop(['delivery_charges'],axis=1))\n",
    "# For inserting values only for the winter season \n",
    "spring_index = list(my_outlier_data['delivery_charges'][spring_charge].index)\n",
    "my_outlier_data.loc[spring_index,'predicted_delivery_charge'] = np.around(spring_values,2)"
   ]
  },
  {
   "cell_type": "code",
   "execution_count": 190,
   "metadata": {},
   "outputs": [
    {
     "name": "stdout",
     "output_type": "stream",
     "text": [
      "R-Squared for the Testing Spring Model: 0.6707\n"
     ]
    }
   ],
   "source": [
    "spring_test = my_outlier_data[ my_outlier_data['season'] == 'Spring'][['delivery_charges','distance_to_nearest_warehouse',\n",
    "                                                                       'is_expedited_delivery','is_happy_customer']]\n",
    "X = spring_test[[x for x in spring_test.columns if x!= 'delivery_charges']]\n",
    "y = spring_test['delivery_charges']\n",
    "\n",
    "spring_test_score = lm.score(X,y)\n",
    "print(\"R-Squared for the Testing Spring Model:\",round(spring_test_score, 4))"
   ]
  },
  {
   "cell_type": "code",
   "execution_count": 191,
   "metadata": {},
   "outputs": [
    {
     "name": "stdout",
     "output_type": "stream",
     "text": [
      "R-Squared for the Training Spring Model: 0.9947\n"
     ]
    }
   ],
   "source": [
    "spring_test_score = lm.score(spring[[x for x in spring.columns if x!= 'delivery_charges']], spring['delivery_charges'])\n",
    "print(\"R-Squared for the Training Spring Model:\",round(spring_test_score,4))"
   ]
  },
  {
   "cell_type": "markdown",
   "metadata": {},
   "source": [
    "**R-Squared Value here:**\n",
    "* Value = 0.9947\n",
    "* Here, we have an high value of R-Squared.\n",
    "* This indicates that the high accuracy of the linear model."
   ]
  },
  {
   "cell_type": "code",
   "execution_count": 192,
   "metadata": {},
   "outputs": [
    {
     "data": {
      "text/html": [
       "<div>\n",
       "<style scoped>\n",
       "    .dataframe tbody tr th:only-of-type {\n",
       "        vertical-align: middle;\n",
       "    }\n",
       "\n",
       "    .dataframe tbody tr th {\n",
       "        vertical-align: top;\n",
       "    }\n",
       "\n",
       "    .dataframe thead th {\n",
       "        text-align: right;\n",
       "    }\n",
       "</style>\n",
       "<table border=\"1\" class=\"dataframe\">\n",
       "  <thead>\n",
       "    <tr style=\"text-align: right;\">\n",
       "      <th></th>\n",
       "      <th>delivery_charges</th>\n",
       "      <th>predicted_delivery_charge</th>\n",
       "      <th>season</th>\n",
       "    </tr>\n",
       "  </thead>\n",
       "  <tbody>\n",
       "    <tr>\n",
       "      <th>0</th>\n",
       "      <td>63.59</td>\n",
       "      <td>64.26</td>\n",
       "      <td>Winter</td>\n",
       "    </tr>\n",
       "    <tr>\n",
       "      <th>1</th>\n",
       "      <td>79.87</td>\n",
       "      <td>79.49</td>\n",
       "      <td>Autumn</td>\n",
       "    </tr>\n",
       "    <tr>\n",
       "      <th>2</th>\n",
       "      <td>64.56</td>\n",
       "      <td>65.48</td>\n",
       "      <td>Autumn</td>\n",
       "    </tr>\n",
       "    <tr>\n",
       "      <th>3</th>\n",
       "      <td>62.46</td>\n",
       "      <td>64.08</td>\n",
       "      <td>Winter</td>\n",
       "    </tr>\n",
       "    <tr>\n",
       "      <th>4</th>\n",
       "      <td>102.61</td>\n",
       "      <td>101.28</td>\n",
       "      <td>Spring</td>\n",
       "    </tr>\n",
       "  </tbody>\n",
       "</table>\n",
       "</div>"
      ],
      "text/plain": [
       "   delivery_charges  predicted_delivery_charge  season\n",
       "0             63.59                      64.26  Winter\n",
       "1             79.87                      79.49  Autumn\n",
       "2             64.56                      65.48  Autumn\n",
       "3             62.46                      64.08  Winter\n",
       "4            102.61                     101.28  Spring"
      ]
     },
     "execution_count": 192,
     "metadata": {},
     "output_type": "execute_result"
    }
   ],
   "source": [
    "# Viewing the predicted values\n",
    "my_outlier_data[['delivery_charges','predicted_delivery_charge','season']].head()"
   ]
  },
  {
   "cell_type": "code",
   "execution_count": 193,
   "metadata": {},
   "outputs": [
    {
     "data": {
      "text/html": [
       "<div>\n",
       "<style scoped>\n",
       "    .dataframe tbody tr th:only-of-type {\n",
       "        vertical-align: middle;\n",
       "    }\n",
       "\n",
       "    .dataframe tbody tr th {\n",
       "        vertical-align: top;\n",
       "    }\n",
       "\n",
       "    .dataframe thead th {\n",
       "        text-align: right;\n",
       "    }\n",
       "</style>\n",
       "<table border=\"1\" class=\"dataframe\">\n",
       "  <thead>\n",
       "    <tr style=\"text-align: right;\">\n",
       "      <th></th>\n",
       "      <th>delivery_charges</th>\n",
       "      <th>predicted_delivery_charge</th>\n",
       "      <th>charge_difference</th>\n",
       "      <th>season</th>\n",
       "    </tr>\n",
       "  </thead>\n",
       "  <tbody>\n",
       "    <tr>\n",
       "      <th>0</th>\n",
       "      <td>63.59</td>\n",
       "      <td>64.26</td>\n",
       "      <td>0.67</td>\n",
       "      <td>Winter</td>\n",
       "    </tr>\n",
       "    <tr>\n",
       "      <th>1</th>\n",
       "      <td>79.87</td>\n",
       "      <td>79.49</td>\n",
       "      <td>0.38</td>\n",
       "      <td>Autumn</td>\n",
       "    </tr>\n",
       "    <tr>\n",
       "      <th>2</th>\n",
       "      <td>64.56</td>\n",
       "      <td>65.48</td>\n",
       "      <td>0.92</td>\n",
       "      <td>Autumn</td>\n",
       "    </tr>\n",
       "    <tr>\n",
       "      <th>3</th>\n",
       "      <td>62.46</td>\n",
       "      <td>64.08</td>\n",
       "      <td>1.62</td>\n",
       "      <td>Winter</td>\n",
       "    </tr>\n",
       "    <tr>\n",
       "      <th>4</th>\n",
       "      <td>102.61</td>\n",
       "      <td>101.28</td>\n",
       "      <td>1.33</td>\n",
       "      <td>Spring</td>\n",
       "    </tr>\n",
       "  </tbody>\n",
       "</table>\n",
       "</div>"
      ],
      "text/plain": [
       "   delivery_charges  predicted_delivery_charge  charge_difference  season\n",
       "0             63.59                      64.26               0.67  Winter\n",
       "1             79.87                      79.49               0.38  Autumn\n",
       "2             64.56                      65.48               0.92  Autumn\n",
       "3             62.46                      64.08               1.62  Winter\n",
       "4            102.61                     101.28               1.33  Spring"
      ]
     },
     "execution_count": 193,
     "metadata": {},
     "output_type": "execute_result"
    }
   ],
   "source": [
    "# Calculating the charge differences\n",
    "my_outlier_data['charge_difference'] = abs(my_outlier_data['delivery_charges'] - my_outlier_data['predicted_delivery_charge'])\n",
    "my_outlier_data[['delivery_charges','predicted_delivery_charge','charge_difference','season']].head()"
   ]
  },
  {
   "cell_type": "code",
   "execution_count": 194,
   "metadata": {},
   "outputs": [
    {
     "name": "stdout",
     "output_type": "stream",
     "text": [
      "The Quantiles are:\n",
      " \n",
      " Q1 : 0.37  \n",
      " Q2 : 0.81  \n",
      " Q3 : 1.42\n"
     ]
    }
   ],
   "source": [
    "final_quantiles = list(my_outlier_data.charge_difference.quantile([0.25,0.5,0.75]))\n",
    "\n",
    "# Vewing the quantiles\n",
    "print(\"The Quantiles are:\")\n",
    "print(\" \\n Q1 :\", round(final_quantiles[0],2),\\\n",
    "      \" \\n Q2 :\", round(final_quantiles[1],2),\\\n",
    "      \" \\n Q3 :\", round(final_quantiles[2],2) )"
   ]
  },
  {
   "cell_type": "code",
   "execution_count": 195,
   "metadata": {},
   "outputs": [
    {
     "name": "stdout",
     "output_type": "stream",
     "text": [
      "IQR 1.05\n",
      "Lower Limit: -1.21\n",
      "Upper Limit: 3.0\n",
      "Outliers detected using the linear model: 40\n"
     ]
    }
   ],
   "source": [
    "IQR_final = round( final_quantiles[2] - final_quantiles[0], 2)\n",
    "lower = round( final_quantiles[0]-(1.5*IQR_final), 2)\n",
    "upper = round( final_quantiles[2]+(1.5*IQR_final), 2)\n",
    "\n",
    "print(\"IQR\", IQR_final)\n",
    "print(\"Lower Limit:\",lower)\n",
    "print(\"Upper Limit:\",upper)\n",
    "\n",
    "outliers_final = my_outlier_data[( my_outlier_data['charge_difference'] > upper) | (my_outlier_data['charge_difference'] < lower) ] \n",
    "print(\"Outliers detected using the linear model:\", outliers_final.shape[0])"
   ]
  },
  {
   "cell_type": "markdown",
   "metadata": {},
   "source": [
    "* Thus, we have been able to successfully detect all the outliers using the linear model."
   ]
  },
  {
   "cell_type": "code",
   "execution_count": 196,
   "metadata": {},
   "outputs": [
    {
     "name": "stdout",
     "output_type": "stream",
     "text": [
      "Number of rows after deleting the outliers: 460\n"
     ]
    }
   ],
   "source": [
    "my_outlier_data = my_outlier_data.drop(outliers_final.index, axis=0) \n",
    "print(\"Number of rows after deleting the outliers:\", my_outlier_data.shape[0])"
   ]
  },
  {
   "cell_type": "code",
   "execution_count": 197,
   "metadata": {},
   "outputs": [
    {
     "data": {
      "text/plain": [
       "(array([1, 2, 3, 4]), <a list of 4 Text xticklabel objects>)"
      ]
     },
     "execution_count": 197,
     "metadata": {},
     "output_type": "execute_result"
    },
    {
     "data": {
      "image/png": "[encoded data removed]",
      "text/plain": [
       "<Figure size 432x288 with 1 Axes>"
      ]
     },
     "metadata": {
      "needs_background": "light"
     },
     "output_type": "display_data"
    }
   ],
   "source": [
    "# Box-plot to view outliers only for the delivery charge \n",
    "bp = my_outlier_data.boxplot(column = 'delivery_charges', by = 'season')\n",
    "plt.xticks(rotation = 0)"
   ]
  },
  {
   "cell_type": "markdown",
   "metadata": {},
   "source": [
    "**Summary:**\n",
    "\n",
    "* Thus, we can see that a total of around 40 Outliers were eliminated.\n",
    "* It can be verified from the boxplot as well!"
   ]
  },
  {
   "cell_type": "markdown",
   "metadata": {},
   "source": [
    "### Generating : Output Files\n",
    "\n",
    "* Firstly while generating the output files, I have first deleted all the extra columns that I had created for analysing my dataset.\n",
    "* This is because it's mentioned in the assignment specification that the output file must have the same number of columns as the input files."
   ]
  },
  {
   "cell_type": "code",
   "execution_count": 198,
   "metadata": {},
   "outputs": [],
   "source": [
    "required_columns = ['order_id','customer_id','date','nearest_warehouse','shopping_cart','order_price','delivery_charges','customer_lat','customer_long',\n",
    "       'coupon_discount', 'order_total', 'season', 'is_expedited_delivery',\n",
    "       'distance_to_nearest_warehouse', 'latest_customer_review',\n",
    "       'is_happy_customer']"
   ]
  },
  {
   "cell_type": "code",
   "execution_count": 199,
   "metadata": {},
   "outputs": [],
   "source": [
    "# Generating the required output files as per the specification \n",
    "# <student_id>_dirty_data_solution.csv\n",
    "# <student_id>_outlier_data_solution.csv\n",
    "# <student_id>_missing_data_solution.csv\n",
    "\n",
    "my_dirty_data.to_csv('30945305_dirty_data_solution.csv', columns = required_columns, index = False)\n",
    "my_outlier_data.to_csv('30945305_outlier_data_solution.csv', columns = required_columns, index = False)\n",
    "my_missing_data.to_csv('30945305_missing_data_solution.csv', columns = required_columns, index = False)"
   ]
  },
  {
   "cell_type": "markdown",
   "metadata": {},
   "source": [
    "# 3. Discussion and Analysis <a class=\"anchor\" id=\"sec_3\"> </a>\n",
    "\n",
    "* **Importance of Cleaning Dirty Data:**\n",
    "    * Here, we were able to find dirty data in most of the columns.\n",
    "    * After performing the task of cleaning this data, I realised the importance of data cleaning.\n",
    "    * This was a process of detecting the errors in an iterative manner.\n",
    "        * The inconsistencies in the data were removed.\n",
    "        * The quality of the data was improved.\n",
    "    * This is the reason Data Scientists spend 60% of their time in Data Cleansing.\n",
    "    * Because of the steps I followed to clean my data, I was able to correctly determine the nearest warehouse, order prices, order totals and an indication of customer's happiness.\n",
    "\n",
    "   \n",
    "* **Importance of correctly imputing missing values:**\n",
    "    * Here, I was able to identify the missing data and impute values into it accordingly.\n",
    "    * After performing this task, I realised the importance of the problem of missing data while doing data analysis.\n",
    "    * If we ignore the problem of missing data :\n",
    "        * We can have either an over/under estimation of the sample mean and variance values.\n",
    "        * This will then result in incorrect data references and results. \n",
    "    * Thus, the best solution is to ensure that there is no missing data!\n",
    "    \n",
    "* **Importance of removing outliers:**\n",
    "    * Here, I was able to identify and remove all the outliers.\n",
    "    * Outliers are observations which deviate a lot from other observations of the dataset. \n",
    "    * I realised the importance of outliers after performing this task.\n",
    "    * If we ignore the problem of outliers, it can lead to the following problems:\n",
    "        * Outliers can cause an increase in the error variance.\n",
    "        * Outliers can also decrease the normality, if they are distribued in an non-random manner.\n",
    "        * Finally, they can also affect the statistical model assumptions. "
   ]
  },
  {
   "cell_type": "markdown",
   "metadata": {},
   "source": [
    "# 4. Conclusion <a class=\"anchor\" id=\"sec_4\"></a>\n",
    "\n",
    "* Thus, we can conclude that we have performed through data exploration of the dirty dataset. We have discovered and corrected various syntactical and semantic errors which were found in the various columns.\n",
    "* The different errors such as inconsisties in spellings of seasons and warehouse names, date formats, customer locations, incorrectly marked seasons, wrongly marked nearby warehouses, faulty nearest warehouse locations, inconsistencies in order price, order total and differences in the customer reviews and happiness were identified and successfully fixed in the dirty data.\n",
    "* In conclusion, the different columns with missing values such as nearest warehouse names, distance, order price, delivery and customer happiness quotiensts were identified in the missing dataset. Using the functions defined, the values were then calculated and used to fill in the missing data. \n",
    "* Thus, while going through the outlier data, the boxplots for the data wa plotted, outliers were first computed by calculating the lower and upper quantiles. Then, to model was further improved by generating a linear regression model. Finally, the outliers were then removed successfully from the model. "
   ]
  },
  {
   "cell_type": "markdown",
   "metadata": {},
   "source": [
    "# 5. References <a class=\"anchor\" id=\"sec_5\"></a>\n",
    "\n",
    "Michael Kramer (2020, June 28). Trending YouTube Video Statistics and Comments. \\\n",
    "Retrieved from: https://stackoverflow.com/questions/26105804/extract-month-from-date-in-python/26105888\n",
    "\n",
    "Shawn Chin (2009, June 4). How to make a flat list out of list of lists? \\\n",
    "Retrieved from: https://stackoverflow.com/questions/952914/how-to-make-a-flat-list-out-of-list-of-lists\n",
    "\n",
    "Jezrael (2017, January 14). JOIN two dataframes on common column in python \\\n",
    "Retrieved from: https://stackoverflow.com/questions/41463119/join-two-dataframes-on-common-column-in-python\n",
    "\n",
    "Dario Radečić (2020, April 14). Here’s How To Calculate Distance Between 2 Geolocations in Python \\\n",
    "Retrived from: https://towardsdatascience.com/heres-how-to-calculate-distance-between-2-geolocations-in-python-93ecab5bbba4\n",
    "\n",
    "The SciPy community(2020, June 29). numpy.linalg.solve \\\n",
    "Retrieved from: https://numpy.org/doc/stable/reference/generated/numpy.linalg.solve.html#numpy.linalg.solve\n",
    "\n",
    "Adi Bronshtein (2017, May 9). Simple and Multiple Linear Regression in Python \\\n",
    "Retrieved from: https://towardsdatascience.com/simple-and-multiple-linear-regression-in-python-c928425168f9\n",
    "\n",
    "Ben Yo( 2017, August 28). How to calculate 1st and 3rd quartiles? \\\n",
    "Retrived from: https://stackoverflow.com/questions/45926230/how-to-calculate-1st-and-3rd-quartiles\n",
    "\n",
    "Gandreadis( 2018, December 6). How to round each item in a list of floats to 2 decimal places? \\\n",
    "Retrieved from: https://stackoverflow.com/questions/5326112/how-to-round-each-item-in-a-list-of-floats-to-2-decimal-places\n",
    "\n",
    "Ashwini Chaudhary( 2013, June 13). Remove a dictionary key that has a certain value [duplicate] \\\n",
    "Retrieved from: https://stackoverflow.com/questions/17095163/remove-a-dictionary-key-that-has-a-certain-value"
   ]
  }
 ],
 "metadata": {
  "kernelspec": {
   "display_name": "Python 3",
   "language": "python",
   "name": "python3"
  },
  "language_info": {
   "codemirror_mode": {
    "name": "ipython",
    "version": 3
   },
   "file_extension": ".py",
   "mimetype": "text/x-python",
   "name": "python",
   "nbconvert_exporter": "python",
   "pygments_lexer": "ipython3",
   "version": "3.7.3"
  }
 },
 "nbformat": 4,
 "nbformat_minor": 2
}
